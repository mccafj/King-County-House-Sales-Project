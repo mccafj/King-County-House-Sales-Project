{
 "cells": [
  {
   "cell_type": "markdown",
   "metadata": {},
   "source": [
    "## King County House Sales Project Submission\n",
    "\n",
    "Please fill out:\n",
    "* Student names: Andrew Boucher, Jon McCaffrey\n",
    "* Student pace: full time\n",
    "* Scheduled project review date/time: 10/28/22 15:00 EST\n",
    "* Instructor name: Daniel Burdeno\n",
    "\n"
   ]
  },
  {
   "cell_type": "code",
   "execution_count": 1,
   "metadata": {},
   "outputs": [],
   "source": [
    "# Your code here - remember to use markdown cells for comments as well!"
   ]
  },
  {
   "cell_type": "markdown",
   "metadata": {},
   "source": [
    "# Overview"
   ]
  },
  {
   "cell_type": "markdown",
   "metadata": {},
   "source": [
    "# Business Challenge"
   ]
  },
  {
   "cell_type": "code",
   "execution_count": null,
   "metadata": {},
   "outputs": [],
   "source": []
  },
  {
   "cell_type": "markdown",
   "metadata": {},
   "source": [
    "# Data Understanding"
   ]
  },
  {
   "cell_type": "markdown",
   "metadata": {},
   "source": [
    "## Initial imports"
   ]
  },
  {
   "cell_type": "code",
   "execution_count": 197,
   "metadata": {},
   "outputs": [
    {
     "name": "stdout",
     "output_type": "stream",
     "text": [
      "Requirement already satisfied: haversine in c:\\users\\jonmc\\anaconda3\\envs\\learn-env\\lib\\site-packages (2.7.0)\n"
     ]
    }
   ],
   "source": [
    "import pandas as pd\n",
    "import numpy as np\n",
    "from scipy import stats\n",
    "import matplotlib.pyplot as plt\n",
    "%matplotlib inline\n",
    "import seaborn as sns\n",
    "import math\n",
    "import itertools\n",
    "import statsmodels.api as sm\n",
    "from sklearn.preprocessing import StandardScaler, OneHotEncoder, OrdinalEncoder\n",
    "import time as time\n",
    "!pip install haversine\n",
    "import haversine as hs"
   ]
  },
  {
   "cell_type": "markdown",
   "metadata": {},
   "source": [
    "## Loaded data, initial exploratory data analysis"
   ]
  },
  {
   "cell_type": "code",
   "execution_count": 185,
   "metadata": {},
   "outputs": [
    {
     "data": {
      "text/html": [
       "<div>\n",
       "<style scoped>\n",
       "    .dataframe tbody tr th:only-of-type {\n",
       "        vertical-align: middle;\n",
       "    }\n",
       "\n",
       "    .dataframe tbody tr th {\n",
       "        vertical-align: top;\n",
       "    }\n",
       "\n",
       "    .dataframe thead th {\n",
       "        text-align: right;\n",
       "    }\n",
       "</style>\n",
       "<table border=\"1\" class=\"dataframe\">\n",
       "  <thead>\n",
       "    <tr style=\"text-align: right;\">\n",
       "      <th></th>\n",
       "      <th>id</th>\n",
       "      <th>date</th>\n",
       "      <th>price</th>\n",
       "      <th>bedrooms</th>\n",
       "      <th>bathrooms</th>\n",
       "      <th>sqft_living</th>\n",
       "      <th>sqft_lot</th>\n",
       "      <th>floors</th>\n",
       "      <th>waterfront</th>\n",
       "      <th>view</th>\n",
       "      <th>condition</th>\n",
       "      <th>grade</th>\n",
       "      <th>sqft_above</th>\n",
       "      <th>sqft_basement</th>\n",
       "      <th>yr_built</th>\n",
       "      <th>yr_renovated</th>\n",
       "      <th>zipcode</th>\n",
       "      <th>lat</th>\n",
       "      <th>long</th>\n",
       "      <th>sqft_living15</th>\n",
       "      <th>sqft_lot15</th>\n",
       "    </tr>\n",
       "  </thead>\n",
       "  <tbody>\n",
       "    <tr>\n",
       "      <th>0</th>\n",
       "      <td>7129300520</td>\n",
       "      <td>10/13/2014</td>\n",
       "      <td>221900.0</td>\n",
       "      <td>3</td>\n",
       "      <td>1.00</td>\n",
       "      <td>1180</td>\n",
       "      <td>5650</td>\n",
       "      <td>1.0</td>\n",
       "      <td>NaN</td>\n",
       "      <td>NONE</td>\n",
       "      <td>Average</td>\n",
       "      <td>7 Average</td>\n",
       "      <td>1180</td>\n",
       "      <td>0.0</td>\n",
       "      <td>1955</td>\n",
       "      <td>0.0</td>\n",
       "      <td>98178</td>\n",
       "      <td>47.5112</td>\n",
       "      <td>-122.257</td>\n",
       "      <td>1340</td>\n",
       "      <td>5650</td>\n",
       "    </tr>\n",
       "    <tr>\n",
       "      <th>1</th>\n",
       "      <td>6414100192</td>\n",
       "      <td>12/9/2014</td>\n",
       "      <td>538000.0</td>\n",
       "      <td>3</td>\n",
       "      <td>2.25</td>\n",
       "      <td>2570</td>\n",
       "      <td>7242</td>\n",
       "      <td>2.0</td>\n",
       "      <td>NO</td>\n",
       "      <td>NONE</td>\n",
       "      <td>Average</td>\n",
       "      <td>7 Average</td>\n",
       "      <td>2170</td>\n",
       "      <td>400.0</td>\n",
       "      <td>1951</td>\n",
       "      <td>1991.0</td>\n",
       "      <td>98125</td>\n",
       "      <td>47.7210</td>\n",
       "      <td>-122.319</td>\n",
       "      <td>1690</td>\n",
       "      <td>7639</td>\n",
       "    </tr>\n",
       "    <tr>\n",
       "      <th>2</th>\n",
       "      <td>5631500400</td>\n",
       "      <td>2/25/2015</td>\n",
       "      <td>180000.0</td>\n",
       "      <td>2</td>\n",
       "      <td>1.00</td>\n",
       "      <td>770</td>\n",
       "      <td>10000</td>\n",
       "      <td>1.0</td>\n",
       "      <td>NO</td>\n",
       "      <td>NONE</td>\n",
       "      <td>Average</td>\n",
       "      <td>6 Low Average</td>\n",
       "      <td>770</td>\n",
       "      <td>0.0</td>\n",
       "      <td>1933</td>\n",
       "      <td>NaN</td>\n",
       "      <td>98028</td>\n",
       "      <td>47.7379</td>\n",
       "      <td>-122.233</td>\n",
       "      <td>2720</td>\n",
       "      <td>8062</td>\n",
       "    </tr>\n",
       "    <tr>\n",
       "      <th>3</th>\n",
       "      <td>2487200875</td>\n",
       "      <td>12/9/2014</td>\n",
       "      <td>604000.0</td>\n",
       "      <td>4</td>\n",
       "      <td>3.00</td>\n",
       "      <td>1960</td>\n",
       "      <td>5000</td>\n",
       "      <td>1.0</td>\n",
       "      <td>NO</td>\n",
       "      <td>NONE</td>\n",
       "      <td>Very Good</td>\n",
       "      <td>7 Average</td>\n",
       "      <td>1050</td>\n",
       "      <td>910.0</td>\n",
       "      <td>1965</td>\n",
       "      <td>0.0</td>\n",
       "      <td>98136</td>\n",
       "      <td>47.5208</td>\n",
       "      <td>-122.393</td>\n",
       "      <td>1360</td>\n",
       "      <td>5000</td>\n",
       "    </tr>\n",
       "    <tr>\n",
       "      <th>4</th>\n",
       "      <td>1954400510</td>\n",
       "      <td>2/18/2015</td>\n",
       "      <td>510000.0</td>\n",
       "      <td>3</td>\n",
       "      <td>2.00</td>\n",
       "      <td>1680</td>\n",
       "      <td>8080</td>\n",
       "      <td>1.0</td>\n",
       "      <td>NO</td>\n",
       "      <td>NONE</td>\n",
       "      <td>Average</td>\n",
       "      <td>8 Good</td>\n",
       "      <td>1680</td>\n",
       "      <td>0.0</td>\n",
       "      <td>1987</td>\n",
       "      <td>0.0</td>\n",
       "      <td>98074</td>\n",
       "      <td>47.6168</td>\n",
       "      <td>-122.045</td>\n",
       "      <td>1800</td>\n",
       "      <td>7503</td>\n",
       "    </tr>\n",
       "  </tbody>\n",
       "</table>\n",
       "</div>"
      ],
      "text/plain": [
       "           id        date     price  bedrooms  bathrooms  sqft_living  \\\n",
       "0  7129300520  10/13/2014  221900.0         3       1.00         1180   \n",
       "1  6414100192   12/9/2014  538000.0         3       2.25         2570   \n",
       "2  5631500400   2/25/2015  180000.0         2       1.00          770   \n",
       "3  2487200875   12/9/2014  604000.0         4       3.00         1960   \n",
       "4  1954400510   2/18/2015  510000.0         3       2.00         1680   \n",
       "\n",
       "   sqft_lot  floors waterfront  view  condition          grade  sqft_above  \\\n",
       "0      5650     1.0        NaN  NONE    Average      7 Average        1180   \n",
       "1      7242     2.0         NO  NONE    Average      7 Average        2170   \n",
       "2     10000     1.0         NO  NONE    Average  6 Low Average         770   \n",
       "3      5000     1.0         NO  NONE  Very Good      7 Average        1050   \n",
       "4      8080     1.0         NO  NONE    Average         8 Good        1680   \n",
       "\n",
       "  sqft_basement  yr_built  yr_renovated  zipcode      lat     long  \\\n",
       "0           0.0      1955           0.0    98178  47.5112 -122.257   \n",
       "1         400.0      1951        1991.0    98125  47.7210 -122.319   \n",
       "2           0.0      1933           NaN    98028  47.7379 -122.233   \n",
       "3         910.0      1965           0.0    98136  47.5208 -122.393   \n",
       "4           0.0      1987           0.0    98074  47.6168 -122.045   \n",
       "\n",
       "   sqft_living15  sqft_lot15  \n",
       "0           1340        5650  \n",
       "1           1690        7639  \n",
       "2           2720        8062  \n",
       "3           1360        5000  \n",
       "4           1800        7503  "
      ]
     },
     "execution_count": 185,
     "metadata": {},
     "output_type": "execute_result"
    }
   ],
   "source": [
    "df = pd.read_csv('.\\data\\kc_house_data.csv')\n",
    "df.head()"
   ]
  },
  {
   "cell_type": "code",
   "execution_count": 195,
   "metadata": {},
   "outputs": [
    {
     "data": {
      "text/plain": [
       "(21597, 21)"
      ]
     },
     "execution_count": 195,
     "metadata": {},
     "output_type": "execute_result"
    }
   ],
   "source": [
    "# checking size of initial dataframe\n",
    "df.shape"
   ]
  },
  {
   "cell_type": "code",
   "execution_count": 186,
   "metadata": {
    "scrolled": true
   },
   "outputs": [
    {
     "name": "stdout",
     "output_type": "stream",
     "text": [
      "<class 'pandas.core.frame.DataFrame'>\n",
      "RangeIndex: 21597 entries, 0 to 21596\n",
      "Data columns (total 21 columns):\n",
      " #   Column         Non-Null Count  Dtype  \n",
      "---  ------         --------------  -----  \n",
      " 0   id             21597 non-null  int64  \n",
      " 1   date           21597 non-null  object \n",
      " 2   price          21597 non-null  float64\n",
      " 3   bedrooms       21597 non-null  int64  \n",
      " 4   bathrooms      21597 non-null  float64\n",
      " 5   sqft_living    21597 non-null  int64  \n",
      " 6   sqft_lot       21597 non-null  int64  \n",
      " 7   floors         21597 non-null  float64\n",
      " 8   waterfront     19221 non-null  object \n",
      " 9   view           21534 non-null  object \n",
      " 10  condition      21597 non-null  object \n",
      " 11  grade          21597 non-null  object \n",
      " 12  sqft_above     21597 non-null  int64  \n",
      " 13  sqft_basement  21597 non-null  object \n",
      " 14  yr_built       21597 non-null  int64  \n",
      " 15  yr_renovated   17755 non-null  float64\n",
      " 16  zipcode        21597 non-null  int64  \n",
      " 17  lat            21597 non-null  float64\n",
      " 18  long           21597 non-null  float64\n",
      " 19  sqft_living15  21597 non-null  int64  \n",
      " 20  sqft_lot15     21597 non-null  int64  \n",
      "dtypes: float64(6), int64(9), object(6)\n",
      "memory usage: 3.5+ MB\n"
     ]
    }
   ],
   "source": [
    "# Exploring the size of the data set, data types\n",
    "df.info()"
   ]
  },
  {
   "cell_type": "markdown",
   "metadata": {},
   "source": [
    "Some of the features may require an alteration in data type for better numeric evaluation and potential fit to our model\n",
    "- date\n",
    "- zipcode\n",
    "- grade\n",
    "- condition\n",
    "- etc\n",
    "- We chose condition as one categorical feature to explore, partially to avoid adding too many more features with one hot encoding ALL categorical variables, and we will explain why we it was the most relevant categorical feature for us to explore.  "
   ]
  },
  {
   "cell_type": "code",
   "execution_count": 208,
   "metadata": {},
   "outputs": [
    {
     "data": {
      "text/plain": [
       "(70, 5, 2, 11)"
      ]
     },
     "execution_count": 208,
     "metadata": {},
     "output_type": "execute_result"
    }
   ],
   "source": [
    "# as an example, to illustrate value counts we would have to consider with \n",
    "# multiple categorical features to transform\n",
    "len(df['zipcode'].value_counts()), len(df['view'].value_counts()), len(df['waterfront'].value_counts()), len(df['grade'].value_counts())"
   ]
  },
  {
   "cell_type": "code",
   "execution_count": 187,
   "metadata": {},
   "outputs": [
    {
     "data": {
      "text/html": [
       "<div>\n",
       "<style scoped>\n",
       "    .dataframe tbody tr th:only-of-type {\n",
       "        vertical-align: middle;\n",
       "    }\n",
       "\n",
       "    .dataframe tbody tr th {\n",
       "        vertical-align: top;\n",
       "    }\n",
       "\n",
       "    .dataframe thead th {\n",
       "        text-align: right;\n",
       "    }\n",
       "</style>\n",
       "<table border=\"1\" class=\"dataframe\">\n",
       "  <thead>\n",
       "    <tr style=\"text-align: right;\">\n",
       "      <th></th>\n",
       "      <th>id</th>\n",
       "      <th>price</th>\n",
       "      <th>bedrooms</th>\n",
       "      <th>bathrooms</th>\n",
       "      <th>sqft_living</th>\n",
       "      <th>sqft_lot</th>\n",
       "      <th>floors</th>\n",
       "      <th>sqft_above</th>\n",
       "      <th>yr_built</th>\n",
       "      <th>yr_renovated</th>\n",
       "      <th>zipcode</th>\n",
       "      <th>lat</th>\n",
       "      <th>long</th>\n",
       "      <th>sqft_living15</th>\n",
       "      <th>sqft_lot15</th>\n",
       "    </tr>\n",
       "  </thead>\n",
       "  <tbody>\n",
       "    <tr>\n",
       "      <th>count</th>\n",
       "      <td>2.159700e+04</td>\n",
       "      <td>2.159700e+04</td>\n",
       "      <td>21597.000000</td>\n",
       "      <td>21597.000000</td>\n",
       "      <td>21597.000000</td>\n",
       "      <td>2.159700e+04</td>\n",
       "      <td>21597.000000</td>\n",
       "      <td>21597.000000</td>\n",
       "      <td>21597.000000</td>\n",
       "      <td>17755.000000</td>\n",
       "      <td>21597.000000</td>\n",
       "      <td>21597.000000</td>\n",
       "      <td>21597.000000</td>\n",
       "      <td>21597.000000</td>\n",
       "      <td>21597.000000</td>\n",
       "    </tr>\n",
       "    <tr>\n",
       "      <th>mean</th>\n",
       "      <td>4.580474e+09</td>\n",
       "      <td>5.402966e+05</td>\n",
       "      <td>3.373200</td>\n",
       "      <td>2.115826</td>\n",
       "      <td>2080.321850</td>\n",
       "      <td>1.509941e+04</td>\n",
       "      <td>1.494096</td>\n",
       "      <td>1788.596842</td>\n",
       "      <td>1970.999676</td>\n",
       "      <td>83.636778</td>\n",
       "      <td>98077.951845</td>\n",
       "      <td>47.560093</td>\n",
       "      <td>-122.213982</td>\n",
       "      <td>1986.620318</td>\n",
       "      <td>12758.283512</td>\n",
       "    </tr>\n",
       "    <tr>\n",
       "      <th>std</th>\n",
       "      <td>2.876736e+09</td>\n",
       "      <td>3.673681e+05</td>\n",
       "      <td>0.926299</td>\n",
       "      <td>0.768984</td>\n",
       "      <td>918.106125</td>\n",
       "      <td>4.141264e+04</td>\n",
       "      <td>0.539683</td>\n",
       "      <td>827.759761</td>\n",
       "      <td>29.375234</td>\n",
       "      <td>399.946414</td>\n",
       "      <td>53.513072</td>\n",
       "      <td>0.138552</td>\n",
       "      <td>0.140724</td>\n",
       "      <td>685.230472</td>\n",
       "      <td>27274.441950</td>\n",
       "    </tr>\n",
       "    <tr>\n",
       "      <th>min</th>\n",
       "      <td>1.000102e+06</td>\n",
       "      <td>7.800000e+04</td>\n",
       "      <td>1.000000</td>\n",
       "      <td>0.500000</td>\n",
       "      <td>370.000000</td>\n",
       "      <td>5.200000e+02</td>\n",
       "      <td>1.000000</td>\n",
       "      <td>370.000000</td>\n",
       "      <td>1900.000000</td>\n",
       "      <td>0.000000</td>\n",
       "      <td>98001.000000</td>\n",
       "      <td>47.155900</td>\n",
       "      <td>-122.519000</td>\n",
       "      <td>399.000000</td>\n",
       "      <td>651.000000</td>\n",
       "    </tr>\n",
       "    <tr>\n",
       "      <th>25%</th>\n",
       "      <td>2.123049e+09</td>\n",
       "      <td>3.220000e+05</td>\n",
       "      <td>3.000000</td>\n",
       "      <td>1.750000</td>\n",
       "      <td>1430.000000</td>\n",
       "      <td>5.040000e+03</td>\n",
       "      <td>1.000000</td>\n",
       "      <td>1190.000000</td>\n",
       "      <td>1951.000000</td>\n",
       "      <td>0.000000</td>\n",
       "      <td>98033.000000</td>\n",
       "      <td>47.471100</td>\n",
       "      <td>-122.328000</td>\n",
       "      <td>1490.000000</td>\n",
       "      <td>5100.000000</td>\n",
       "    </tr>\n",
       "    <tr>\n",
       "      <th>50%</th>\n",
       "      <td>3.904930e+09</td>\n",
       "      <td>4.500000e+05</td>\n",
       "      <td>3.000000</td>\n",
       "      <td>2.250000</td>\n",
       "      <td>1910.000000</td>\n",
       "      <td>7.618000e+03</td>\n",
       "      <td>1.500000</td>\n",
       "      <td>1560.000000</td>\n",
       "      <td>1975.000000</td>\n",
       "      <td>0.000000</td>\n",
       "      <td>98065.000000</td>\n",
       "      <td>47.571800</td>\n",
       "      <td>-122.231000</td>\n",
       "      <td>1840.000000</td>\n",
       "      <td>7620.000000</td>\n",
       "    </tr>\n",
       "    <tr>\n",
       "      <th>75%</th>\n",
       "      <td>7.308900e+09</td>\n",
       "      <td>6.450000e+05</td>\n",
       "      <td>4.000000</td>\n",
       "      <td>2.500000</td>\n",
       "      <td>2550.000000</td>\n",
       "      <td>1.068500e+04</td>\n",
       "      <td>2.000000</td>\n",
       "      <td>2210.000000</td>\n",
       "      <td>1997.000000</td>\n",
       "      <td>0.000000</td>\n",
       "      <td>98118.000000</td>\n",
       "      <td>47.678000</td>\n",
       "      <td>-122.125000</td>\n",
       "      <td>2360.000000</td>\n",
       "      <td>10083.000000</td>\n",
       "    </tr>\n",
       "    <tr>\n",
       "      <th>max</th>\n",
       "      <td>9.900000e+09</td>\n",
       "      <td>7.700000e+06</td>\n",
       "      <td>33.000000</td>\n",
       "      <td>8.000000</td>\n",
       "      <td>13540.000000</td>\n",
       "      <td>1.651359e+06</td>\n",
       "      <td>3.500000</td>\n",
       "      <td>9410.000000</td>\n",
       "      <td>2015.000000</td>\n",
       "      <td>2015.000000</td>\n",
       "      <td>98199.000000</td>\n",
       "      <td>47.777600</td>\n",
       "      <td>-121.315000</td>\n",
       "      <td>6210.000000</td>\n",
       "      <td>871200.000000</td>\n",
       "    </tr>\n",
       "  </tbody>\n",
       "</table>\n",
       "</div>"
      ],
      "text/plain": [
       "                 id         price      bedrooms     bathrooms   sqft_living  \\\n",
       "count  2.159700e+04  2.159700e+04  21597.000000  21597.000000  21597.000000   \n",
       "mean   4.580474e+09  5.402966e+05      3.373200      2.115826   2080.321850   \n",
       "std    2.876736e+09  3.673681e+05      0.926299      0.768984    918.106125   \n",
       "min    1.000102e+06  7.800000e+04      1.000000      0.500000    370.000000   \n",
       "25%    2.123049e+09  3.220000e+05      3.000000      1.750000   1430.000000   \n",
       "50%    3.904930e+09  4.500000e+05      3.000000      2.250000   1910.000000   \n",
       "75%    7.308900e+09  6.450000e+05      4.000000      2.500000   2550.000000   \n",
       "max    9.900000e+09  7.700000e+06     33.000000      8.000000  13540.000000   \n",
       "\n",
       "           sqft_lot        floors    sqft_above      yr_built  yr_renovated  \\\n",
       "count  2.159700e+04  21597.000000  21597.000000  21597.000000  17755.000000   \n",
       "mean   1.509941e+04      1.494096   1788.596842   1970.999676     83.636778   \n",
       "std    4.141264e+04      0.539683    827.759761     29.375234    399.946414   \n",
       "min    5.200000e+02      1.000000    370.000000   1900.000000      0.000000   \n",
       "25%    5.040000e+03      1.000000   1190.000000   1951.000000      0.000000   \n",
       "50%    7.618000e+03      1.500000   1560.000000   1975.000000      0.000000   \n",
       "75%    1.068500e+04      2.000000   2210.000000   1997.000000      0.000000   \n",
       "max    1.651359e+06      3.500000   9410.000000   2015.000000   2015.000000   \n",
       "\n",
       "            zipcode           lat          long  sqft_living15     sqft_lot15  \n",
       "count  21597.000000  21597.000000  21597.000000   21597.000000   21597.000000  \n",
       "mean   98077.951845     47.560093   -122.213982    1986.620318   12758.283512  \n",
       "std       53.513072      0.138552      0.140724     685.230472   27274.441950  \n",
       "min    98001.000000     47.155900   -122.519000     399.000000     651.000000  \n",
       "25%    98033.000000     47.471100   -122.328000    1490.000000    5100.000000  \n",
       "50%    98065.000000     47.571800   -122.231000    1840.000000    7620.000000  \n",
       "75%    98118.000000     47.678000   -122.125000    2360.000000   10083.000000  \n",
       "max    98199.000000     47.777600   -121.315000    6210.000000  871200.000000  "
      ]
     },
     "execution_count": 187,
     "metadata": {},
     "output_type": "execute_result"
    }
   ],
   "source": [
    "# obtaining statistics for numeric columns\n",
    "df.describe()\n",
    "# noted likely outliers for bedrooms and sqft_lot15.  Will address below"
   ]
  },
  {
   "cell_type": "code",
   "execution_count": 188,
   "metadata": {},
   "outputs": [
    {
     "data": {
      "text/plain": [
       "id                  0\n",
       "date                0\n",
       "price               0\n",
       "bedrooms            0\n",
       "bathrooms           0\n",
       "sqft_living         0\n",
       "sqft_lot            0\n",
       "floors              0\n",
       "waterfront       2376\n",
       "view               63\n",
       "condition           0\n",
       "grade               0\n",
       "sqft_above          0\n",
       "sqft_basement       0\n",
       "yr_built            0\n",
       "yr_renovated     3842\n",
       "zipcode             0\n",
       "lat                 0\n",
       "long                0\n",
       "sqft_living15       0\n",
       "sqft_lot15          0\n",
       "dtype: int64"
      ]
     },
     "execution_count": 188,
     "metadata": {},
     "output_type": "execute_result"
    }
   ],
   "source": [
    "# checking for null values\n",
    "df.isna().sum()"
   ]
  },
  {
   "cell_type": "code",
   "execution_count": 189,
   "metadata": {},
   "outputs": [
    {
     "data": {
      "text/html": [
       "<div>\n",
       "<style scoped>\n",
       "    .dataframe tbody tr th:only-of-type {\n",
       "        vertical-align: middle;\n",
       "    }\n",
       "\n",
       "    .dataframe tbody tr th {\n",
       "        vertical-align: top;\n",
       "    }\n",
       "\n",
       "    .dataframe thead th {\n",
       "        text-align: right;\n",
       "    }\n",
       "</style>\n",
       "<table border=\"1\" class=\"dataframe\">\n",
       "  <thead>\n",
       "    <tr style=\"text-align: right;\">\n",
       "      <th></th>\n",
       "      <th>id</th>\n",
       "      <th>price</th>\n",
       "      <th>bedrooms</th>\n",
       "      <th>bathrooms</th>\n",
       "      <th>sqft_living</th>\n",
       "      <th>sqft_lot</th>\n",
       "      <th>floors</th>\n",
       "      <th>sqft_above</th>\n",
       "      <th>yr_built</th>\n",
       "      <th>yr_renovated</th>\n",
       "      <th>zipcode</th>\n",
       "      <th>lat</th>\n",
       "      <th>long</th>\n",
       "      <th>sqft_living15</th>\n",
       "      <th>sqft_lot15</th>\n",
       "    </tr>\n",
       "  </thead>\n",
       "  <tbody>\n",
       "    <tr>\n",
       "      <th>id</th>\n",
       "      <td>1.000000</td>\n",
       "      <td>-0.016772</td>\n",
       "      <td>0.001150</td>\n",
       "      <td>0.005162</td>\n",
       "      <td>-0.012241</td>\n",
       "      <td>-0.131911</td>\n",
       "      <td>0.018608</td>\n",
       "      <td>-0.010799</td>\n",
       "      <td>0.021617</td>\n",
       "      <td>-0.012010</td>\n",
       "      <td>-0.008211</td>\n",
       "      <td>-0.001798</td>\n",
       "      <td>0.020672</td>\n",
       "      <td>-0.002701</td>\n",
       "      <td>-0.138557</td>\n",
       "    </tr>\n",
       "    <tr>\n",
       "      <th>price</th>\n",
       "      <td>-0.016772</td>\n",
       "      <td>1.000000</td>\n",
       "      <td>0.308787</td>\n",
       "      <td>0.525906</td>\n",
       "      <td>0.701917</td>\n",
       "      <td>0.089876</td>\n",
       "      <td>0.256804</td>\n",
       "      <td>0.605368</td>\n",
       "      <td>0.053953</td>\n",
       "      <td>0.129599</td>\n",
       "      <td>-0.053402</td>\n",
       "      <td>0.306692</td>\n",
       "      <td>0.022036</td>\n",
       "      <td>0.585241</td>\n",
       "      <td>0.082845</td>\n",
       "    </tr>\n",
       "    <tr>\n",
       "      <th>bedrooms</th>\n",
       "      <td>0.001150</td>\n",
       "      <td>0.308787</td>\n",
       "      <td>1.000000</td>\n",
       "      <td>0.514508</td>\n",
       "      <td>0.578212</td>\n",
       "      <td>0.032471</td>\n",
       "      <td>0.177944</td>\n",
       "      <td>0.479386</td>\n",
       "      <td>0.155670</td>\n",
       "      <td>0.018495</td>\n",
       "      <td>-0.154092</td>\n",
       "      <td>-0.009951</td>\n",
       "      <td>0.132054</td>\n",
       "      <td>0.393406</td>\n",
       "      <td>0.030690</td>\n",
       "    </tr>\n",
       "    <tr>\n",
       "      <th>bathrooms</th>\n",
       "      <td>0.005162</td>\n",
       "      <td>0.525906</td>\n",
       "      <td>0.514508</td>\n",
       "      <td>1.000000</td>\n",
       "      <td>0.755758</td>\n",
       "      <td>0.088373</td>\n",
       "      <td>0.502582</td>\n",
       "      <td>0.686668</td>\n",
       "      <td>0.507173</td>\n",
       "      <td>0.051050</td>\n",
       "      <td>-0.204786</td>\n",
       "      <td>0.024280</td>\n",
       "      <td>0.224903</td>\n",
       "      <td>0.569884</td>\n",
       "      <td>0.088303</td>\n",
       "    </tr>\n",
       "    <tr>\n",
       "      <th>sqft_living</th>\n",
       "      <td>-0.012241</td>\n",
       "      <td>0.701917</td>\n",
       "      <td>0.578212</td>\n",
       "      <td>0.755758</td>\n",
       "      <td>1.000000</td>\n",
       "      <td>0.173453</td>\n",
       "      <td>0.353953</td>\n",
       "      <td>0.876448</td>\n",
       "      <td>0.318152</td>\n",
       "      <td>0.055660</td>\n",
       "      <td>-0.199802</td>\n",
       "      <td>0.052155</td>\n",
       "      <td>0.241214</td>\n",
       "      <td>0.756402</td>\n",
       "      <td>0.184342</td>\n",
       "    </tr>\n",
       "    <tr>\n",
       "      <th>sqft_lot</th>\n",
       "      <td>-0.131911</td>\n",
       "      <td>0.089876</td>\n",
       "      <td>0.032471</td>\n",
       "      <td>0.088373</td>\n",
       "      <td>0.173453</td>\n",
       "      <td>1.000000</td>\n",
       "      <td>-0.004814</td>\n",
       "      <td>0.184139</td>\n",
       "      <td>0.052946</td>\n",
       "      <td>0.004513</td>\n",
       "      <td>-0.129586</td>\n",
       "      <td>-0.085514</td>\n",
       "      <td>0.230227</td>\n",
       "      <td>0.144763</td>\n",
       "      <td>0.718204</td>\n",
       "    </tr>\n",
       "    <tr>\n",
       "      <th>floors</th>\n",
       "      <td>0.018608</td>\n",
       "      <td>0.256804</td>\n",
       "      <td>0.177944</td>\n",
       "      <td>0.502582</td>\n",
       "      <td>0.353953</td>\n",
       "      <td>-0.004814</td>\n",
       "      <td>1.000000</td>\n",
       "      <td>0.523989</td>\n",
       "      <td>0.489193</td>\n",
       "      <td>0.003535</td>\n",
       "      <td>-0.059541</td>\n",
       "      <td>0.049239</td>\n",
       "      <td>0.125943</td>\n",
       "      <td>0.280102</td>\n",
       "      <td>-0.010722</td>\n",
       "    </tr>\n",
       "    <tr>\n",
       "      <th>sqft_above</th>\n",
       "      <td>-0.010799</td>\n",
       "      <td>0.605368</td>\n",
       "      <td>0.479386</td>\n",
       "      <td>0.686668</td>\n",
       "      <td>0.876448</td>\n",
       "      <td>0.184139</td>\n",
       "      <td>0.523989</td>\n",
       "      <td>1.000000</td>\n",
       "      <td>0.424037</td>\n",
       "      <td>0.022137</td>\n",
       "      <td>-0.261570</td>\n",
       "      <td>-0.001199</td>\n",
       "      <td>0.344842</td>\n",
       "      <td>0.731767</td>\n",
       "      <td>0.195077</td>\n",
       "    </tr>\n",
       "    <tr>\n",
       "      <th>yr_built</th>\n",
       "      <td>0.021617</td>\n",
       "      <td>0.053953</td>\n",
       "      <td>0.155670</td>\n",
       "      <td>0.507173</td>\n",
       "      <td>0.318152</td>\n",
       "      <td>0.052946</td>\n",
       "      <td>0.489193</td>\n",
       "      <td>0.424037</td>\n",
       "      <td>1.000000</td>\n",
       "      <td>-0.225209</td>\n",
       "      <td>-0.347210</td>\n",
       "      <td>-0.148370</td>\n",
       "      <td>0.409993</td>\n",
       "      <td>0.326377</td>\n",
       "      <td>0.070777</td>\n",
       "    </tr>\n",
       "    <tr>\n",
       "      <th>yr_renovated</th>\n",
       "      <td>-0.012010</td>\n",
       "      <td>0.129599</td>\n",
       "      <td>0.018495</td>\n",
       "      <td>0.051050</td>\n",
       "      <td>0.055660</td>\n",
       "      <td>0.004513</td>\n",
       "      <td>0.003535</td>\n",
       "      <td>0.022137</td>\n",
       "      <td>-0.225209</td>\n",
       "      <td>1.000000</td>\n",
       "      <td>0.069846</td>\n",
       "      <td>0.032145</td>\n",
       "      <td>-0.072156</td>\n",
       "      <td>-0.000247</td>\n",
       "      <td>0.003852</td>\n",
       "    </tr>\n",
       "    <tr>\n",
       "      <th>zipcode</th>\n",
       "      <td>-0.008211</td>\n",
       "      <td>-0.053402</td>\n",
       "      <td>-0.154092</td>\n",
       "      <td>-0.204786</td>\n",
       "      <td>-0.199802</td>\n",
       "      <td>-0.129586</td>\n",
       "      <td>-0.059541</td>\n",
       "      <td>-0.261570</td>\n",
       "      <td>-0.347210</td>\n",
       "      <td>0.069846</td>\n",
       "      <td>1.000000</td>\n",
       "      <td>0.266742</td>\n",
       "      <td>-0.564259</td>\n",
       "      <td>-0.279299</td>\n",
       "      <td>-0.147294</td>\n",
       "    </tr>\n",
       "    <tr>\n",
       "      <th>lat</th>\n",
       "      <td>-0.001798</td>\n",
       "      <td>0.306692</td>\n",
       "      <td>-0.009951</td>\n",
       "      <td>0.024280</td>\n",
       "      <td>0.052155</td>\n",
       "      <td>-0.085514</td>\n",
       "      <td>0.049239</td>\n",
       "      <td>-0.001199</td>\n",
       "      <td>-0.148370</td>\n",
       "      <td>0.032145</td>\n",
       "      <td>0.266742</td>\n",
       "      <td>1.000000</td>\n",
       "      <td>-0.135371</td>\n",
       "      <td>0.048679</td>\n",
       "      <td>-0.086139</td>\n",
       "    </tr>\n",
       "    <tr>\n",
       "      <th>long</th>\n",
       "      <td>0.020672</td>\n",
       "      <td>0.022036</td>\n",
       "      <td>0.132054</td>\n",
       "      <td>0.224903</td>\n",
       "      <td>0.241214</td>\n",
       "      <td>0.230227</td>\n",
       "      <td>0.125943</td>\n",
       "      <td>0.344842</td>\n",
       "      <td>0.409993</td>\n",
       "      <td>-0.072156</td>\n",
       "      <td>-0.564259</td>\n",
       "      <td>-0.135371</td>\n",
       "      <td>1.000000</td>\n",
       "      <td>0.335626</td>\n",
       "      <td>0.255586</td>\n",
       "    </tr>\n",
       "    <tr>\n",
       "      <th>sqft_living15</th>\n",
       "      <td>-0.002701</td>\n",
       "      <td>0.585241</td>\n",
       "      <td>0.393406</td>\n",
       "      <td>0.569884</td>\n",
       "      <td>0.756402</td>\n",
       "      <td>0.144763</td>\n",
       "      <td>0.280102</td>\n",
       "      <td>0.731767</td>\n",
       "      <td>0.326377</td>\n",
       "      <td>-0.000247</td>\n",
       "      <td>-0.279299</td>\n",
       "      <td>0.048679</td>\n",
       "      <td>0.335626</td>\n",
       "      <td>1.000000</td>\n",
       "      <td>0.183515</td>\n",
       "    </tr>\n",
       "    <tr>\n",
       "      <th>sqft_lot15</th>\n",
       "      <td>-0.138557</td>\n",
       "      <td>0.082845</td>\n",
       "      <td>0.030690</td>\n",
       "      <td>0.088303</td>\n",
       "      <td>0.184342</td>\n",
       "      <td>0.718204</td>\n",
       "      <td>-0.010722</td>\n",
       "      <td>0.195077</td>\n",
       "      <td>0.070777</td>\n",
       "      <td>0.003852</td>\n",
       "      <td>-0.147294</td>\n",
       "      <td>-0.086139</td>\n",
       "      <td>0.255586</td>\n",
       "      <td>0.183515</td>\n",
       "      <td>1.000000</td>\n",
       "    </tr>\n",
       "  </tbody>\n",
       "</table>\n",
       "</div>"
      ],
      "text/plain": [
       "                     id     price  bedrooms  bathrooms  sqft_living  sqft_lot  \\\n",
       "id             1.000000 -0.016772  0.001150   0.005162    -0.012241 -0.131911   \n",
       "price         -0.016772  1.000000  0.308787   0.525906     0.701917  0.089876   \n",
       "bedrooms       0.001150  0.308787  1.000000   0.514508     0.578212  0.032471   \n",
       "bathrooms      0.005162  0.525906  0.514508   1.000000     0.755758  0.088373   \n",
       "sqft_living   -0.012241  0.701917  0.578212   0.755758     1.000000  0.173453   \n",
       "sqft_lot      -0.131911  0.089876  0.032471   0.088373     0.173453  1.000000   \n",
       "floors         0.018608  0.256804  0.177944   0.502582     0.353953 -0.004814   \n",
       "sqft_above    -0.010799  0.605368  0.479386   0.686668     0.876448  0.184139   \n",
       "yr_built       0.021617  0.053953  0.155670   0.507173     0.318152  0.052946   \n",
       "yr_renovated  -0.012010  0.129599  0.018495   0.051050     0.055660  0.004513   \n",
       "zipcode       -0.008211 -0.053402 -0.154092  -0.204786    -0.199802 -0.129586   \n",
       "lat           -0.001798  0.306692 -0.009951   0.024280     0.052155 -0.085514   \n",
       "long           0.020672  0.022036  0.132054   0.224903     0.241214  0.230227   \n",
       "sqft_living15 -0.002701  0.585241  0.393406   0.569884     0.756402  0.144763   \n",
       "sqft_lot15    -0.138557  0.082845  0.030690   0.088303     0.184342  0.718204   \n",
       "\n",
       "                 floors  sqft_above  yr_built  yr_renovated   zipcode  \\\n",
       "id             0.018608   -0.010799  0.021617     -0.012010 -0.008211   \n",
       "price          0.256804    0.605368  0.053953      0.129599 -0.053402   \n",
       "bedrooms       0.177944    0.479386  0.155670      0.018495 -0.154092   \n",
       "bathrooms      0.502582    0.686668  0.507173      0.051050 -0.204786   \n",
       "sqft_living    0.353953    0.876448  0.318152      0.055660 -0.199802   \n",
       "sqft_lot      -0.004814    0.184139  0.052946      0.004513 -0.129586   \n",
       "floors         1.000000    0.523989  0.489193      0.003535 -0.059541   \n",
       "sqft_above     0.523989    1.000000  0.424037      0.022137 -0.261570   \n",
       "yr_built       0.489193    0.424037  1.000000     -0.225209 -0.347210   \n",
       "yr_renovated   0.003535    0.022137 -0.225209      1.000000  0.069846   \n",
       "zipcode       -0.059541   -0.261570 -0.347210      0.069846  1.000000   \n",
       "lat            0.049239   -0.001199 -0.148370      0.032145  0.266742   \n",
       "long           0.125943    0.344842  0.409993     -0.072156 -0.564259   \n",
       "sqft_living15  0.280102    0.731767  0.326377     -0.000247 -0.279299   \n",
       "sqft_lot15    -0.010722    0.195077  0.070777      0.003852 -0.147294   \n",
       "\n",
       "                    lat      long  sqft_living15  sqft_lot15  \n",
       "id            -0.001798  0.020672      -0.002701   -0.138557  \n",
       "price          0.306692  0.022036       0.585241    0.082845  \n",
       "bedrooms      -0.009951  0.132054       0.393406    0.030690  \n",
       "bathrooms      0.024280  0.224903       0.569884    0.088303  \n",
       "sqft_living    0.052155  0.241214       0.756402    0.184342  \n",
       "sqft_lot      -0.085514  0.230227       0.144763    0.718204  \n",
       "floors         0.049239  0.125943       0.280102   -0.010722  \n",
       "sqft_above    -0.001199  0.344842       0.731767    0.195077  \n",
       "yr_built      -0.148370  0.409993       0.326377    0.070777  \n",
       "yr_renovated   0.032145 -0.072156      -0.000247    0.003852  \n",
       "zipcode        0.266742 -0.564259      -0.279299   -0.147294  \n",
       "lat            1.000000 -0.135371       0.048679   -0.086139  \n",
       "long          -0.135371  1.000000       0.335626    0.255586  \n",
       "sqft_living15  0.048679  0.335626       1.000000    0.183515  \n",
       "sqft_lot15    -0.086139  0.255586       0.183515    1.000000  "
      ]
     },
     "execution_count": 189,
     "metadata": {},
     "output_type": "execute_result"
    }
   ],
   "source": [
    "# looking at correlation for numeric portion of dataframe\n",
    "df.corr()"
   ]
  },
  {
   "cell_type": "code",
   "execution_count": 190,
   "metadata": {
    "scrolled": false
   },
   "outputs": [
    {
     "data": {
      "image/png": "[encoded data removed]",
      "text/plain": [
       "<Figure size 720x720 with 2 Axes>"
      ]
     },
     "metadata": {
      "needs_background": "light"
     },
     "output_type": "display_data"
    }
   ],
   "source": [
    "# producing a heatmap of correlations\n",
    "fig, ax = plt.subplots(figsize=(10,10))\n",
    "sns.heatmap(df.corr(), annot=True, linewidths=.5, ax=ax);"
   ]
  },
  {
   "cell_type": "markdown",
   "metadata": {},
   "source": [
    "We want to include as many numeric features as we can and would like to include as many relevant categorical features as well to improve our model"
   ]
  },
  {
   "cell_type": "markdown",
   "metadata": {},
   "source": [
    "# Data Preparation"
   ]
  },
  {
   "cell_type": "markdown",
   "metadata": {},
   "source": [
    "## Create a new column that converts date into a time stamp"
   ]
  },
  {
   "cell_type": "code",
   "execution_count": 192,
   "metadata": {},
   "outputs": [
    {
     "data": {
      "text/html": [
       "<div>\n",
       "<style scoped>\n",
       "    .dataframe tbody tr th:only-of-type {\n",
       "        vertical-align: middle;\n",
       "    }\n",
       "\n",
       "    .dataframe tbody tr th {\n",
       "        vertical-align: top;\n",
       "    }\n",
       "\n",
       "    .dataframe thead th {\n",
       "        text-align: right;\n",
       "    }\n",
       "</style>\n",
       "<table border=\"1\" class=\"dataframe\">\n",
       "  <thead>\n",
       "    <tr style=\"text-align: right;\">\n",
       "      <th></th>\n",
       "      <th>id</th>\n",
       "      <th>date</th>\n",
       "      <th>price</th>\n",
       "      <th>bedrooms</th>\n",
       "      <th>bathrooms</th>\n",
       "      <th>sqft_living</th>\n",
       "      <th>sqft_lot</th>\n",
       "      <th>floors</th>\n",
       "      <th>waterfront</th>\n",
       "      <th>view</th>\n",
       "      <th>condition</th>\n",
       "      <th>grade</th>\n",
       "      <th>sqft_above</th>\n",
       "      <th>sqft_basement</th>\n",
       "      <th>yr_built</th>\n",
       "      <th>yr_renovated</th>\n",
       "      <th>zipcode</th>\n",
       "      <th>lat</th>\n",
       "      <th>long</th>\n",
       "      <th>sqft_living15</th>\n",
       "      <th>sqft_lot15</th>\n",
       "      <th>time_stamp</th>\n",
       "    </tr>\n",
       "  </thead>\n",
       "  <tbody>\n",
       "    <tr>\n",
       "      <th>0</th>\n",
       "      <td>7129300520</td>\n",
       "      <td>10/13/2014</td>\n",
       "      <td>221900.0</td>\n",
       "      <td>3</td>\n",
       "      <td>1.00</td>\n",
       "      <td>1180</td>\n",
       "      <td>5650</td>\n",
       "      <td>1.0</td>\n",
       "      <td>NaN</td>\n",
       "      <td>NONE</td>\n",
       "      <td>Average</td>\n",
       "      <td>7 Average</td>\n",
       "      <td>1180</td>\n",
       "      <td>0.0</td>\n",
       "      <td>1955</td>\n",
       "      <td>0.0</td>\n",
       "      <td>98178</td>\n",
       "      <td>47.5112</td>\n",
       "      <td>-122.257</td>\n",
       "      <td>1340</td>\n",
       "      <td>5650</td>\n",
       "      <td>1.413173e+09</td>\n",
       "    </tr>\n",
       "    <tr>\n",
       "      <th>1</th>\n",
       "      <td>6414100192</td>\n",
       "      <td>12/9/2014</td>\n",
       "      <td>538000.0</td>\n",
       "      <td>3</td>\n",
       "      <td>2.25</td>\n",
       "      <td>2570</td>\n",
       "      <td>7242</td>\n",
       "      <td>2.0</td>\n",
       "      <td>NO</td>\n",
       "      <td>NONE</td>\n",
       "      <td>Average</td>\n",
       "      <td>7 Average</td>\n",
       "      <td>2170</td>\n",
       "      <td>400.0</td>\n",
       "      <td>1951</td>\n",
       "      <td>1991.0</td>\n",
       "      <td>98125</td>\n",
       "      <td>47.7210</td>\n",
       "      <td>-122.319</td>\n",
       "      <td>1690</td>\n",
       "      <td>7639</td>\n",
       "      <td>1.418101e+09</td>\n",
       "    </tr>\n",
       "    <tr>\n",
       "      <th>2</th>\n",
       "      <td>5631500400</td>\n",
       "      <td>2/25/2015</td>\n",
       "      <td>180000.0</td>\n",
       "      <td>2</td>\n",
       "      <td>1.00</td>\n",
       "      <td>770</td>\n",
       "      <td>10000</td>\n",
       "      <td>1.0</td>\n",
       "      <td>NO</td>\n",
       "      <td>NONE</td>\n",
       "      <td>Average</td>\n",
       "      <td>6 Low Average</td>\n",
       "      <td>770</td>\n",
       "      <td>0.0</td>\n",
       "      <td>1933</td>\n",
       "      <td>NaN</td>\n",
       "      <td>98028</td>\n",
       "      <td>47.7379</td>\n",
       "      <td>-122.233</td>\n",
       "      <td>2720</td>\n",
       "      <td>8062</td>\n",
       "      <td>1.424840e+09</td>\n",
       "    </tr>\n",
       "    <tr>\n",
       "      <th>3</th>\n",
       "      <td>2487200875</td>\n",
       "      <td>12/9/2014</td>\n",
       "      <td>604000.0</td>\n",
       "      <td>4</td>\n",
       "      <td>3.00</td>\n",
       "      <td>1960</td>\n",
       "      <td>5000</td>\n",
       "      <td>1.0</td>\n",
       "      <td>NO</td>\n",
       "      <td>NONE</td>\n",
       "      <td>Very Good</td>\n",
       "      <td>7 Average</td>\n",
       "      <td>1050</td>\n",
       "      <td>910.0</td>\n",
       "      <td>1965</td>\n",
       "      <td>0.0</td>\n",
       "      <td>98136</td>\n",
       "      <td>47.5208</td>\n",
       "      <td>-122.393</td>\n",
       "      <td>1360</td>\n",
       "      <td>5000</td>\n",
       "      <td>1.418101e+09</td>\n",
       "    </tr>\n",
       "    <tr>\n",
       "      <th>4</th>\n",
       "      <td>1954400510</td>\n",
       "      <td>2/18/2015</td>\n",
       "      <td>510000.0</td>\n",
       "      <td>3</td>\n",
       "      <td>2.00</td>\n",
       "      <td>1680</td>\n",
       "      <td>8080</td>\n",
       "      <td>1.0</td>\n",
       "      <td>NO</td>\n",
       "      <td>NONE</td>\n",
       "      <td>Average</td>\n",
       "      <td>8 Good</td>\n",
       "      <td>1680</td>\n",
       "      <td>0.0</td>\n",
       "      <td>1987</td>\n",
       "      <td>0.0</td>\n",
       "      <td>98074</td>\n",
       "      <td>47.6168</td>\n",
       "      <td>-122.045</td>\n",
       "      <td>1800</td>\n",
       "      <td>7503</td>\n",
       "      <td>1.424236e+09</td>\n",
       "    </tr>\n",
       "  </tbody>\n",
       "</table>\n",
       "</div>"
      ],
      "text/plain": [
       "           id        date     price  bedrooms  bathrooms  sqft_living  \\\n",
       "0  7129300520  10/13/2014  221900.0         3       1.00         1180   \n",
       "1  6414100192   12/9/2014  538000.0         3       2.25         2570   \n",
       "2  5631500400   2/25/2015  180000.0         2       1.00          770   \n",
       "3  2487200875   12/9/2014  604000.0         4       3.00         1960   \n",
       "4  1954400510   2/18/2015  510000.0         3       2.00         1680   \n",
       "\n",
       "   sqft_lot  floors waterfront  view  condition          grade  sqft_above  \\\n",
       "0      5650     1.0        NaN  NONE    Average      7 Average        1180   \n",
       "1      7242     2.0         NO  NONE    Average      7 Average        2170   \n",
       "2     10000     1.0         NO  NONE    Average  6 Low Average         770   \n",
       "3      5000     1.0         NO  NONE  Very Good      7 Average        1050   \n",
       "4      8080     1.0         NO  NONE    Average         8 Good        1680   \n",
       "\n",
       "  sqft_basement  yr_built  yr_renovated  zipcode      lat     long  \\\n",
       "0           0.0      1955           0.0    98178  47.5112 -122.257   \n",
       "1         400.0      1951        1991.0    98125  47.7210 -122.319   \n",
       "2           0.0      1933           NaN    98028  47.7379 -122.233   \n",
       "3         910.0      1965           0.0    98136  47.5208 -122.393   \n",
       "4           0.0      1987           0.0    98074  47.6168 -122.045   \n",
       "\n",
       "   sqft_living15  sqft_lot15    time_stamp  \n",
       "0           1340        5650  1.413173e+09  \n",
       "1           1690        7639  1.418101e+09  \n",
       "2           2720        8062  1.424840e+09  \n",
       "3           1360        5000  1.418101e+09  \n",
       "4           1800        7503  1.424236e+09  "
      ]
     },
     "execution_count": 192,
     "metadata": {},
     "output_type": "execute_result"
    }
   ],
   "source": [
    "# df2 - added timestamp\n",
    "# creating new column that converts date into a time stamp which is the number of seconds since 1/1/1970 (aka UTC)\n",
    "df2 = df.copy()\n",
    "df2['time_stamp'] = [time.mktime(time.strptime(x, '%m/%d/%Y')) for x in df['date']]\n",
    "df2.head()"
   ]
  },
  {
   "cell_type": "code",
   "execution_count": 196,
   "metadata": {},
   "outputs": [
    {
     "data": {
      "text/plain": [
       "(21597, 22)"
      ]
     },
     "execution_count": 196,
     "metadata": {},
     "output_type": "execute_result"
    }
   ],
   "source": [
    "# sanity check to ensure only one column added to original dataframe\n",
    "df2.shape"
   ]
  },
  {
   "cell_type": "markdown",
   "metadata": {},
   "source": [
    "# Creating a new dataframe with column for distance from downtown Seattle"
   ]
  },
  {
   "cell_type": "code",
   "execution_count": 198,
   "metadata": {},
   "outputs": [],
   "source": [
    "# initializing and formatting location variables\n",
    "# loc 1 equals lat/long of each house in dataset\n",
    "# loc 2 equals defined lat/long of Seattle from Google\n",
    "loc1 = list(zip(df2['lat'], df2['long']))\n",
    "loc2 = (47.6050, -122.3344)"
   ]
  },
  {
   "cell_type": "code",
   "execution_count": 226,
   "metadata": {},
   "outputs": [
    {
     "data": {
      "text/html": [
       "<div>\n",
       "<style scoped>\n",
       "    .dataframe tbody tr th:only-of-type {\n",
       "        vertical-align: middle;\n",
       "    }\n",
       "\n",
       "    .dataframe tbody tr th {\n",
       "        vertical-align: top;\n",
       "    }\n",
       "\n",
       "    .dataframe thead th {\n",
       "        text-align: right;\n",
       "    }\n",
       "</style>\n",
       "<table border=\"1\" class=\"dataframe\">\n",
       "  <thead>\n",
       "    <tr style=\"text-align: right;\">\n",
       "      <th></th>\n",
       "      <th>id</th>\n",
       "      <th>date</th>\n",
       "      <th>price</th>\n",
       "      <th>bedrooms</th>\n",
       "      <th>bathrooms</th>\n",
       "      <th>sqft_living</th>\n",
       "      <th>sqft_lot</th>\n",
       "      <th>floors</th>\n",
       "      <th>waterfront</th>\n",
       "      <th>view</th>\n",
       "      <th>condition</th>\n",
       "      <th>grade</th>\n",
       "      <th>sqft_above</th>\n",
       "      <th>sqft_basement</th>\n",
       "      <th>yr_built</th>\n",
       "      <th>yr_renovated</th>\n",
       "      <th>zipcode</th>\n",
       "      <th>lat</th>\n",
       "      <th>long</th>\n",
       "      <th>sqft_living15</th>\n",
       "      <th>sqft_lot15</th>\n",
       "      <th>time_stamp</th>\n",
       "      <th>dist_Seattle</th>\n",
       "    </tr>\n",
       "  </thead>\n",
       "  <tbody>\n",
       "    <tr>\n",
       "      <th>0</th>\n",
       "      <td>7129300520</td>\n",
       "      <td>10/13/2014</td>\n",
       "      <td>221900.0</td>\n",
       "      <td>3</td>\n",
       "      <td>1.00</td>\n",
       "      <td>1180</td>\n",
       "      <td>5650</td>\n",
       "      <td>1.0</td>\n",
       "      <td>NaN</td>\n",
       "      <td>NONE</td>\n",
       "      <td>Average</td>\n",
       "      <td>7 Average</td>\n",
       "      <td>1180</td>\n",
       "      <td>0.0</td>\n",
       "      <td>1955</td>\n",
       "      <td>0.0</td>\n",
       "      <td>98178</td>\n",
       "      <td>47.5112</td>\n",
       "      <td>-122.257</td>\n",
       "      <td>1340</td>\n",
       "      <td>5650</td>\n",
       "      <td>1.413173e+09</td>\n",
       "      <td>7.418041</td>\n",
       "    </tr>\n",
       "    <tr>\n",
       "      <th>1</th>\n",
       "      <td>6414100192</td>\n",
       "      <td>12/9/2014</td>\n",
       "      <td>538000.0</td>\n",
       "      <td>3</td>\n",
       "      <td>2.25</td>\n",
       "      <td>2570</td>\n",
       "      <td>7242</td>\n",
       "      <td>2.0</td>\n",
       "      <td>NO</td>\n",
       "      <td>NONE</td>\n",
       "      <td>Average</td>\n",
       "      <td>7 Average</td>\n",
       "      <td>2170</td>\n",
       "      <td>400.0</td>\n",
       "      <td>1951</td>\n",
       "      <td>1991.0</td>\n",
       "      <td>98125</td>\n",
       "      <td>47.7210</td>\n",
       "      <td>-122.319</td>\n",
       "      <td>1690</td>\n",
       "      <td>7639</td>\n",
       "      <td>1.418101e+09</td>\n",
       "      <td>8.046810</td>\n",
       "    </tr>\n",
       "    <tr>\n",
       "      <th>2</th>\n",
       "      <td>5631500400</td>\n",
       "      <td>2/25/2015</td>\n",
       "      <td>180000.0</td>\n",
       "      <td>2</td>\n",
       "      <td>1.00</td>\n",
       "      <td>770</td>\n",
       "      <td>10000</td>\n",
       "      <td>1.0</td>\n",
       "      <td>NO</td>\n",
       "      <td>NONE</td>\n",
       "      <td>Average</td>\n",
       "      <td>6 Low Average</td>\n",
       "      <td>770</td>\n",
       "      <td>0.0</td>\n",
       "      <td>1933</td>\n",
       "      <td>NaN</td>\n",
       "      <td>98028</td>\n",
       "      <td>47.7379</td>\n",
       "      <td>-122.233</td>\n",
       "      <td>2720</td>\n",
       "      <td>8062</td>\n",
       "      <td>1.424840e+09</td>\n",
       "      <td>10.323554</td>\n",
       "    </tr>\n",
       "    <tr>\n",
       "      <th>3</th>\n",
       "      <td>2487200875</td>\n",
       "      <td>12/9/2014</td>\n",
       "      <td>604000.0</td>\n",
       "      <td>4</td>\n",
       "      <td>3.00</td>\n",
       "      <td>1960</td>\n",
       "      <td>5000</td>\n",
       "      <td>1.0</td>\n",
       "      <td>NO</td>\n",
       "      <td>NONE</td>\n",
       "      <td>Very Good</td>\n",
       "      <td>7 Average</td>\n",
       "      <td>1050</td>\n",
       "      <td>910.0</td>\n",
       "      <td>1965</td>\n",
       "      <td>0.0</td>\n",
       "      <td>98136</td>\n",
       "      <td>47.5208</td>\n",
       "      <td>-122.393</td>\n",
       "      <td>1360</td>\n",
       "      <td>5000</td>\n",
       "      <td>1.418101e+09</td>\n",
       "      <td>6.427255</td>\n",
       "    </tr>\n",
       "    <tr>\n",
       "      <th>4</th>\n",
       "      <td>1954400510</td>\n",
       "      <td>2/18/2015</td>\n",
       "      <td>510000.0</td>\n",
       "      <td>3</td>\n",
       "      <td>2.00</td>\n",
       "      <td>1680</td>\n",
       "      <td>8080</td>\n",
       "      <td>1.0</td>\n",
       "      <td>NO</td>\n",
       "      <td>NONE</td>\n",
       "      <td>Average</td>\n",
       "      <td>8 Good</td>\n",
       "      <td>1680</td>\n",
       "      <td>0.0</td>\n",
       "      <td>1987</td>\n",
       "      <td>0.0</td>\n",
       "      <td>98074</td>\n",
       "      <td>47.6168</td>\n",
       "      <td>-122.045</td>\n",
       "      <td>1800</td>\n",
       "      <td>7503</td>\n",
       "      <td>1.424236e+09</td>\n",
       "      <td>13.504920</td>\n",
       "    </tr>\n",
       "  </tbody>\n",
       "</table>\n",
       "</div>"
      ],
      "text/plain": [
       "           id        date     price  bedrooms  bathrooms  sqft_living  \\\n",
       "0  7129300520  10/13/2014  221900.0         3       1.00         1180   \n",
       "1  6414100192   12/9/2014  538000.0         3       2.25         2570   \n",
       "2  5631500400   2/25/2015  180000.0         2       1.00          770   \n",
       "3  2487200875   12/9/2014  604000.0         4       3.00         1960   \n",
       "4  1954400510   2/18/2015  510000.0         3       2.00         1680   \n",
       "\n",
       "   sqft_lot  floors waterfront  view  condition          grade  sqft_above  \\\n",
       "0      5650     1.0        NaN  NONE    Average      7 Average        1180   \n",
       "1      7242     2.0         NO  NONE    Average      7 Average        2170   \n",
       "2     10000     1.0         NO  NONE    Average  6 Low Average         770   \n",
       "3      5000     1.0         NO  NONE  Very Good      7 Average        1050   \n",
       "4      8080     1.0         NO  NONE    Average         8 Good        1680   \n",
       "\n",
       "  sqft_basement  yr_built  yr_renovated  zipcode      lat     long  \\\n",
       "0           0.0      1955           0.0    98178  47.5112 -122.257   \n",
       "1         400.0      1951        1991.0    98125  47.7210 -122.319   \n",
       "2           0.0      1933           NaN    98028  47.7379 -122.233   \n",
       "3         910.0      1965           0.0    98136  47.5208 -122.393   \n",
       "4           0.0      1987           0.0    98074  47.6168 -122.045   \n",
       "\n",
       "   sqft_living15  sqft_lot15    time_stamp  dist_Seattle  \n",
       "0           1340        5650  1.413173e+09      7.418041  \n",
       "1           1690        7639  1.418101e+09      8.046810  \n",
       "2           2720        8062  1.424840e+09     10.323554  \n",
       "3           1360        5000  1.418101e+09      6.427255  \n",
       "4           1800        7503  1.424236e+09     13.504920  "
      ]
     },
     "execution_count": 226,
     "metadata": {},
     "output_type": "execute_result"
    }
   ],
   "source": [
    "# df3 - created new column to convert lat/long to distance from downtown Seattle\n",
    "# in miles\n",
    "df3 = df2.copy()\n",
    "df3['dist_Seattle'] = [hs.haversine((x,y), loc2, unit='mi') for x,y in loc1]\n",
    "df3.head()"
   ]
  },
  {
   "cell_type": "code",
   "execution_count": 227,
   "metadata": {},
   "outputs": [
    {
     "data": {
      "text/plain": [
       "(21597, 23)"
      ]
     },
     "execution_count": 227,
     "metadata": {},
     "output_type": "execute_result"
    }
   ],
   "source": [
    "# confirming only one more column added\n",
    "df3.shape"
   ]
  },
  {
   "cell_type": "markdown",
   "metadata": {},
   "source": [
    "# Creating a new dataframe with column for ordinal-encoded condition"
   ]
  },
  {
   "cell_type": "markdown",
   "metadata": {},
   "source": [
    "## Quick explanation of why not other categoricals"
   ]
  },
  {
   "cell_type": "code",
   "execution_count": null,
   "metadata": {},
   "outputs": [],
   "source": []
  },
  {
   "cell_type": "code",
   "execution_count": 210,
   "metadata": {},
   "outputs": [],
   "source": [
    "# ordinal encoding condition\n",
    "categories = [['Poor', 'Fair', 'Average', 'Good', 'Very Good']]\n",
    "ords = OrdinalEncoder(categories=categories)"
   ]
  },
  {
   "cell_type": "code",
   "execution_count": 228,
   "metadata": {},
   "outputs": [],
   "source": [
    "# df4 - create dataframe of only 'condition'\n",
    "df4 = pd.DataFrame(df3['condition'])"
   ]
  },
  {
   "cell_type": "code",
   "execution_count": 229,
   "metadata": {},
   "outputs": [
    {
     "data": {
      "text/plain": [
       "array([[2.],\n",
       "       [2.],\n",
       "       [2.],\n",
       "       ...,\n",
       "       [2.],\n",
       "       [2.],\n",
       "       [2.]])"
      ]
     },
     "execution_count": 229,
     "metadata": {},
     "output_type": "execute_result"
    }
   ],
   "source": [
    "# fit to ordinal encoder and transform\n",
    "ords.fit(df4)\n",
    "cond = ords.transform(df4)\n",
    "cond"
   ]
  },
  {
   "cell_type": "code",
   "execution_count": 241,
   "metadata": {},
   "outputs": [],
   "source": [
    "# df5 - new dataframe with ordinal encoding taking place of grade\n",
    "df5 = pd.DataFrame(cond, df4.index, columns=['ord_cond'])\n",
    "# reset df5 dataframe to index of df4"
   ]
  },
  {
   "cell_type": "code",
   "execution_count": 231,
   "metadata": {},
   "outputs": [
    {
     "data": {
      "text/plain": [
       "condition\n",
       "Average      14020\n",
       "Good          5677\n",
       "Very Good     1701\n",
       "Fair           170\n",
       "Poor            29\n",
       "dtype: int64"
      ]
     },
     "execution_count": 231,
     "metadata": {},
     "output_type": "execute_result"
    }
   ],
   "source": [
    "df4.value_counts()"
   ]
  },
  {
   "cell_type": "code",
   "execution_count": 232,
   "metadata": {},
   "outputs": [
    {
     "data": {
      "text/plain": [
       "2.0    14020\n",
       "3.0     5677\n",
       "4.0     1701\n",
       "1.0      170\n",
       "0.0       29\n",
       "dtype: int64"
      ]
     },
     "execution_count": 232,
     "metadata": {},
     "output_type": "execute_result"
    }
   ],
   "source": [
    "df5.value_counts()"
   ]
  },
  {
   "cell_type": "code",
   "execution_count": 242,
   "metadata": {},
   "outputs": [
    {
     "data": {
      "text/html": [
       "<div>\n",
       "<style scoped>\n",
       "    .dataframe tbody tr th:only-of-type {\n",
       "        vertical-align: middle;\n",
       "    }\n",
       "\n",
       "    .dataframe tbody tr th {\n",
       "        vertical-align: top;\n",
       "    }\n",
       "\n",
       "    .dataframe thead th {\n",
       "        text-align: right;\n",
       "    }\n",
       "</style>\n",
       "<table border=\"1\" class=\"dataframe\">\n",
       "  <thead>\n",
       "    <tr style=\"text-align: right;\">\n",
       "      <th></th>\n",
       "      <th>id</th>\n",
       "      <th>date</th>\n",
       "      <th>price</th>\n",
       "      <th>bedrooms</th>\n",
       "      <th>bathrooms</th>\n",
       "      <th>sqft_living</th>\n",
       "      <th>sqft_lot</th>\n",
       "      <th>floors</th>\n",
       "      <th>waterfront</th>\n",
       "      <th>view</th>\n",
       "      <th>condition</th>\n",
       "      <th>grade</th>\n",
       "      <th>sqft_above</th>\n",
       "      <th>sqft_basement</th>\n",
       "      <th>yr_built</th>\n",
       "      <th>yr_renovated</th>\n",
       "      <th>zipcode</th>\n",
       "      <th>lat</th>\n",
       "      <th>long</th>\n",
       "      <th>sqft_living15</th>\n",
       "      <th>sqft_lot15</th>\n",
       "      <th>time_stamp</th>\n",
       "      <th>dist_Seattle</th>\n",
       "      <th>ord_cond</th>\n",
       "    </tr>\n",
       "  </thead>\n",
       "  <tbody>\n",
       "    <tr>\n",
       "      <th>0</th>\n",
       "      <td>7129300520</td>\n",
       "      <td>10/13/2014</td>\n",
       "      <td>221900.0</td>\n",
       "      <td>3</td>\n",
       "      <td>1.00</td>\n",
       "      <td>1180</td>\n",
       "      <td>5650</td>\n",
       "      <td>1.0</td>\n",
       "      <td>NaN</td>\n",
       "      <td>NONE</td>\n",
       "      <td>Average</td>\n",
       "      <td>7 Average</td>\n",
       "      <td>1180</td>\n",
       "      <td>0.0</td>\n",
       "      <td>1955</td>\n",
       "      <td>0.0</td>\n",
       "      <td>98178</td>\n",
       "      <td>47.5112</td>\n",
       "      <td>-122.257</td>\n",
       "      <td>1340</td>\n",
       "      <td>5650</td>\n",
       "      <td>1.413173e+09</td>\n",
       "      <td>7.418041</td>\n",
       "      <td>2.0</td>\n",
       "    </tr>\n",
       "    <tr>\n",
       "      <th>1</th>\n",
       "      <td>6414100192</td>\n",
       "      <td>12/9/2014</td>\n",
       "      <td>538000.0</td>\n",
       "      <td>3</td>\n",
       "      <td>2.25</td>\n",
       "      <td>2570</td>\n",
       "      <td>7242</td>\n",
       "      <td>2.0</td>\n",
       "      <td>NO</td>\n",
       "      <td>NONE</td>\n",
       "      <td>Average</td>\n",
       "      <td>7 Average</td>\n",
       "      <td>2170</td>\n",
       "      <td>400.0</td>\n",
       "      <td>1951</td>\n",
       "      <td>1991.0</td>\n",
       "      <td>98125</td>\n",
       "      <td>47.7210</td>\n",
       "      <td>-122.319</td>\n",
       "      <td>1690</td>\n",
       "      <td>7639</td>\n",
       "      <td>1.418101e+09</td>\n",
       "      <td>8.046810</td>\n",
       "      <td>2.0</td>\n",
       "    </tr>\n",
       "    <tr>\n",
       "      <th>2</th>\n",
       "      <td>5631500400</td>\n",
       "      <td>2/25/2015</td>\n",
       "      <td>180000.0</td>\n",
       "      <td>2</td>\n",
       "      <td>1.00</td>\n",
       "      <td>770</td>\n",
       "      <td>10000</td>\n",
       "      <td>1.0</td>\n",
       "      <td>NO</td>\n",
       "      <td>NONE</td>\n",
       "      <td>Average</td>\n",
       "      <td>6 Low Average</td>\n",
       "      <td>770</td>\n",
       "      <td>0.0</td>\n",
       "      <td>1933</td>\n",
       "      <td>NaN</td>\n",
       "      <td>98028</td>\n",
       "      <td>47.7379</td>\n",
       "      <td>-122.233</td>\n",
       "      <td>2720</td>\n",
       "      <td>8062</td>\n",
       "      <td>1.424840e+09</td>\n",
       "      <td>10.323554</td>\n",
       "      <td>2.0</td>\n",
       "    </tr>\n",
       "    <tr>\n",
       "      <th>3</th>\n",
       "      <td>2487200875</td>\n",
       "      <td>12/9/2014</td>\n",
       "      <td>604000.0</td>\n",
       "      <td>4</td>\n",
       "      <td>3.00</td>\n",
       "      <td>1960</td>\n",
       "      <td>5000</td>\n",
       "      <td>1.0</td>\n",
       "      <td>NO</td>\n",
       "      <td>NONE</td>\n",
       "      <td>Very Good</td>\n",
       "      <td>7 Average</td>\n",
       "      <td>1050</td>\n",
       "      <td>910.0</td>\n",
       "      <td>1965</td>\n",
       "      <td>0.0</td>\n",
       "      <td>98136</td>\n",
       "      <td>47.5208</td>\n",
       "      <td>-122.393</td>\n",
       "      <td>1360</td>\n",
       "      <td>5000</td>\n",
       "      <td>1.418101e+09</td>\n",
       "      <td>6.427255</td>\n",
       "      <td>4.0</td>\n",
       "    </tr>\n",
       "    <tr>\n",
       "      <th>4</th>\n",
       "      <td>1954400510</td>\n",
       "      <td>2/18/2015</td>\n",
       "      <td>510000.0</td>\n",
       "      <td>3</td>\n",
       "      <td>2.00</td>\n",
       "      <td>1680</td>\n",
       "      <td>8080</td>\n",
       "      <td>1.0</td>\n",
       "      <td>NO</td>\n",
       "      <td>NONE</td>\n",
       "      <td>Average</td>\n",
       "      <td>8 Good</td>\n",
       "      <td>1680</td>\n",
       "      <td>0.0</td>\n",
       "      <td>1987</td>\n",
       "      <td>0.0</td>\n",
       "      <td>98074</td>\n",
       "      <td>47.6168</td>\n",
       "      <td>-122.045</td>\n",
       "      <td>1800</td>\n",
       "      <td>7503</td>\n",
       "      <td>1.424236e+09</td>\n",
       "      <td>13.504920</td>\n",
       "      <td>2.0</td>\n",
       "    </tr>\n",
       "  </tbody>\n",
       "</table>\n",
       "</div>"
      ],
      "text/plain": [
       "           id        date     price  bedrooms  bathrooms  sqft_living  \\\n",
       "0  7129300520  10/13/2014  221900.0         3       1.00         1180   \n",
       "1  6414100192   12/9/2014  538000.0         3       2.25         2570   \n",
       "2  5631500400   2/25/2015  180000.0         2       1.00          770   \n",
       "3  2487200875   12/9/2014  604000.0         4       3.00         1960   \n",
       "4  1954400510   2/18/2015  510000.0         3       2.00         1680   \n",
       "\n",
       "   sqft_lot  floors waterfront  view  condition          grade  sqft_above  \\\n",
       "0      5650     1.0        NaN  NONE    Average      7 Average        1180   \n",
       "1      7242     2.0         NO  NONE    Average      7 Average        2170   \n",
       "2     10000     1.0         NO  NONE    Average  6 Low Average         770   \n",
       "3      5000     1.0         NO  NONE  Very Good      7 Average        1050   \n",
       "4      8080     1.0         NO  NONE    Average         8 Good        1680   \n",
       "\n",
       "  sqft_basement  yr_built  yr_renovated  zipcode      lat     long  \\\n",
       "0           0.0      1955           0.0    98178  47.5112 -122.257   \n",
       "1         400.0      1951        1991.0    98125  47.7210 -122.319   \n",
       "2           0.0      1933           NaN    98028  47.7379 -122.233   \n",
       "3         910.0      1965           0.0    98136  47.5208 -122.393   \n",
       "4           0.0      1987           0.0    98074  47.6168 -122.045   \n",
       "\n",
       "   sqft_living15  sqft_lot15    time_stamp  dist_Seattle  ord_cond  \n",
       "0           1340        5650  1.413173e+09      7.418041       2.0  \n",
       "1           1690        7639  1.418101e+09      8.046810       2.0  \n",
       "2           2720        8062  1.424840e+09     10.323554       2.0  \n",
       "3           1360        5000  1.418101e+09      6.427255       4.0  \n",
       "4           1800        7503  1.424236e+09     13.504920       2.0  "
      ]
     },
     "execution_count": 242,
     "metadata": {},
     "output_type": "execute_result"
    }
   ],
   "source": [
    "# df6 - concatenate df3 and df5 (ordinal encoded condition)\n",
    "df6 = pd.concat([df3, df5], axis=1)\n",
    "df6.head()"
   ]
  },
  {
   "cell_type": "code",
   "execution_count": 243,
   "metadata": {},
   "outputs": [
    {
     "data": {
      "text/plain": [
       "(21597, 24)"
      ]
     },
     "execution_count": 243,
     "metadata": {},
     "output_type": "execute_result"
    }
   ],
   "source": [
    "df6.shape"
   ]
  },
  {
   "cell_type": "markdown",
   "metadata": {},
   "source": [
    "## Trimming dataframe to remove irrelevant categorical and numeric features"
   ]
  },
  {
   "cell_type": "markdown",
   "metadata": {},
   "source": [
    "## Explanation of why these are being dropped"
   ]
  },
  {
   "cell_type": "code",
   "execution_count": null,
   "metadata": {},
   "outputs": [],
   "source": []
  },
  {
   "cell_type": "code",
   "execution_count": null,
   "metadata": {},
   "outputs": [],
   "source": []
  },
  {
   "cell_type": "code",
   "execution_count": null,
   "metadata": {},
   "outputs": [],
   "source": []
  },
  {
   "cell_type": "code",
   "execution_count": 245,
   "metadata": {},
   "outputs": [
    {
     "data": {
      "text/html": [
       "<div>\n",
       "<style scoped>\n",
       "    .dataframe tbody tr th:only-of-type {\n",
       "        vertical-align: middle;\n",
       "    }\n",
       "\n",
       "    .dataframe tbody tr th {\n",
       "        vertical-align: top;\n",
       "    }\n",
       "\n",
       "    .dataframe thead th {\n",
       "        text-align: right;\n",
       "    }\n",
       "</style>\n",
       "<table border=\"1\" class=\"dataframe\">\n",
       "  <thead>\n",
       "    <tr style=\"text-align: right;\">\n",
       "      <th></th>\n",
       "      <th>id</th>\n",
       "      <th>price</th>\n",
       "      <th>bedrooms</th>\n",
       "      <th>bathrooms</th>\n",
       "      <th>sqft_living</th>\n",
       "      <th>sqft_lot</th>\n",
       "      <th>floors</th>\n",
       "      <th>sqft_above</th>\n",
       "      <th>yr_built</th>\n",
       "      <th>yr_renovated</th>\n",
       "      <th>zipcode</th>\n",
       "      <th>lat</th>\n",
       "      <th>long</th>\n",
       "      <th>sqft_living15</th>\n",
       "      <th>sqft_lot15</th>\n",
       "      <th>time_stamp</th>\n",
       "      <th>dist_Seattle</th>\n",
       "      <th>ord_cond</th>\n",
       "    </tr>\n",
       "  </thead>\n",
       "  <tbody>\n",
       "    <tr>\n",
       "      <th>0</th>\n",
       "      <td>7129300520</td>\n",
       "      <td>221900.0</td>\n",
       "      <td>3</td>\n",
       "      <td>1.00</td>\n",
       "      <td>1180</td>\n",
       "      <td>5650</td>\n",
       "      <td>1.0</td>\n",
       "      <td>1180</td>\n",
       "      <td>1955</td>\n",
       "      <td>0.0</td>\n",
       "      <td>98178</td>\n",
       "      <td>47.5112</td>\n",
       "      <td>-122.257</td>\n",
       "      <td>1340</td>\n",
       "      <td>5650</td>\n",
       "      <td>1.413173e+09</td>\n",
       "      <td>7.418041</td>\n",
       "      <td>2.0</td>\n",
       "    </tr>\n",
       "    <tr>\n",
       "      <th>1</th>\n",
       "      <td>6414100192</td>\n",
       "      <td>538000.0</td>\n",
       "      <td>3</td>\n",
       "      <td>2.25</td>\n",
       "      <td>2570</td>\n",
       "      <td>7242</td>\n",
       "      <td>2.0</td>\n",
       "      <td>2170</td>\n",
       "      <td>1951</td>\n",
       "      <td>1991.0</td>\n",
       "      <td>98125</td>\n",
       "      <td>47.7210</td>\n",
       "      <td>-122.319</td>\n",
       "      <td>1690</td>\n",
       "      <td>7639</td>\n",
       "      <td>1.418101e+09</td>\n",
       "      <td>8.046810</td>\n",
       "      <td>2.0</td>\n",
       "    </tr>\n",
       "    <tr>\n",
       "      <th>2</th>\n",
       "      <td>5631500400</td>\n",
       "      <td>180000.0</td>\n",
       "      <td>2</td>\n",
       "      <td>1.00</td>\n",
       "      <td>770</td>\n",
       "      <td>10000</td>\n",
       "      <td>1.0</td>\n",
       "      <td>770</td>\n",
       "      <td>1933</td>\n",
       "      <td>NaN</td>\n",
       "      <td>98028</td>\n",
       "      <td>47.7379</td>\n",
       "      <td>-122.233</td>\n",
       "      <td>2720</td>\n",
       "      <td>8062</td>\n",
       "      <td>1.424840e+09</td>\n",
       "      <td>10.323554</td>\n",
       "      <td>2.0</td>\n",
       "    </tr>\n",
       "    <tr>\n",
       "      <th>3</th>\n",
       "      <td>2487200875</td>\n",
       "      <td>604000.0</td>\n",
       "      <td>4</td>\n",
       "      <td>3.00</td>\n",
       "      <td>1960</td>\n",
       "      <td>5000</td>\n",
       "      <td>1.0</td>\n",
       "      <td>1050</td>\n",
       "      <td>1965</td>\n",
       "      <td>0.0</td>\n",
       "      <td>98136</td>\n",
       "      <td>47.5208</td>\n",
       "      <td>-122.393</td>\n",
       "      <td>1360</td>\n",
       "      <td>5000</td>\n",
       "      <td>1.418101e+09</td>\n",
       "      <td>6.427255</td>\n",
       "      <td>4.0</td>\n",
       "    </tr>\n",
       "    <tr>\n",
       "      <th>4</th>\n",
       "      <td>1954400510</td>\n",
       "      <td>510000.0</td>\n",
       "      <td>3</td>\n",
       "      <td>2.00</td>\n",
       "      <td>1680</td>\n",
       "      <td>8080</td>\n",
       "      <td>1.0</td>\n",
       "      <td>1680</td>\n",
       "      <td>1987</td>\n",
       "      <td>0.0</td>\n",
       "      <td>98074</td>\n",
       "      <td>47.6168</td>\n",
       "      <td>-122.045</td>\n",
       "      <td>1800</td>\n",
       "      <td>7503</td>\n",
       "      <td>1.424236e+09</td>\n",
       "      <td>13.504920</td>\n",
       "      <td>2.0</td>\n",
       "    </tr>\n",
       "  </tbody>\n",
       "</table>\n",
       "</div>"
      ],
      "text/plain": [
       "           id     price  bedrooms  bathrooms  sqft_living  sqft_lot  floors  \\\n",
       "0  7129300520  221900.0         3       1.00         1180      5650     1.0   \n",
       "1  6414100192  538000.0         3       2.25         2570      7242     2.0   \n",
       "2  5631500400  180000.0         2       1.00          770     10000     1.0   \n",
       "3  2487200875  604000.0         4       3.00         1960      5000     1.0   \n",
       "4  1954400510  510000.0         3       2.00         1680      8080     1.0   \n",
       "\n",
       "   sqft_above  yr_built  yr_renovated  zipcode      lat     long  \\\n",
       "0        1180      1955           0.0    98178  47.5112 -122.257   \n",
       "1        2170      1951        1991.0    98125  47.7210 -122.319   \n",
       "2         770      1933           NaN    98028  47.7379 -122.233   \n",
       "3        1050      1965           0.0    98136  47.5208 -122.393   \n",
       "4        1680      1987           0.0    98074  47.6168 -122.045   \n",
       "\n",
       "   sqft_living15  sqft_lot15    time_stamp  dist_Seattle  ord_cond  \n",
       "0           1340        5650  1.413173e+09      7.418041       2.0  \n",
       "1           1690        7639  1.418101e+09      8.046810       2.0  \n",
       "2           2720        8062  1.424840e+09     10.323554       2.0  \n",
       "3           1360        5000  1.418101e+09      6.427255       4.0  \n",
       "4           1800        7503  1.424236e+09     13.504920       2.0  "
      ]
     },
     "execution_count": 245,
     "metadata": {},
     "output_type": "execute_result"
    }
   ],
   "source": [
    "# df7 - creating dataframe with only numeric columns\n",
    "df7 = df6.select_dtypes(include='number')\n",
    "df7.head()"
   ]
  },
  {
   "cell_type": "code",
   "execution_count": null,
   "metadata": {},
   "outputs": [],
   "source": []
  },
  {
   "cell_type": "code",
   "execution_count": null,
   "metadata": {},
   "outputs": [],
   "source": []
  },
  {
   "cell_type": "code",
   "execution_count": null,
   "metadata": {},
   "outputs": [],
   "source": []
  },
  {
   "cell_type": "code",
   "execution_count": 276,
   "metadata": {},
   "outputs": [],
   "source": [
    "# df8 - created dataframe with only relevant numerics included\n",
    "df8 = df7.drop(['yr_renovated', 'zipcode', 'lat', 'long'], axis=1)"
   ]
  },
  {
   "cell_type": "code",
   "execution_count": 277,
   "metadata": {},
   "outputs": [
    {
     "data": {
      "text/plain": [
       "(21597, 14)"
      ]
     },
     "execution_count": 277,
     "metadata": {},
     "output_type": "execute_result"
    }
   ],
   "source": [
    "df8.shape"
   ]
  },
  {
   "cell_type": "code",
   "execution_count": 278,
   "metadata": {},
   "outputs": [
    {
     "data": {
      "text/html": [
       "<div>\n",
       "<style scoped>\n",
       "    .dataframe tbody tr th:only-of-type {\n",
       "        vertical-align: middle;\n",
       "    }\n",
       "\n",
       "    .dataframe tbody tr th {\n",
       "        vertical-align: top;\n",
       "    }\n",
       "\n",
       "    .dataframe thead th {\n",
       "        text-align: right;\n",
       "    }\n",
       "</style>\n",
       "<table border=\"1\" class=\"dataframe\">\n",
       "  <thead>\n",
       "    <tr style=\"text-align: right;\">\n",
       "      <th></th>\n",
       "      <th>id</th>\n",
       "      <th>price</th>\n",
       "      <th>bedrooms</th>\n",
       "      <th>bathrooms</th>\n",
       "      <th>sqft_living</th>\n",
       "      <th>sqft_lot</th>\n",
       "      <th>floors</th>\n",
       "      <th>sqft_above</th>\n",
       "      <th>yr_built</th>\n",
       "      <th>sqft_living15</th>\n",
       "      <th>sqft_lot15</th>\n",
       "      <th>time_stamp</th>\n",
       "      <th>dist_Seattle</th>\n",
       "      <th>ord_cond</th>\n",
       "    </tr>\n",
       "  </thead>\n",
       "  <tbody>\n",
       "    <tr>\n",
       "      <th>0</th>\n",
       "      <td>7129300520</td>\n",
       "      <td>221900.0</td>\n",
       "      <td>3</td>\n",
       "      <td>1.00</td>\n",
       "      <td>1180</td>\n",
       "      <td>5650</td>\n",
       "      <td>1.0</td>\n",
       "      <td>1180</td>\n",
       "      <td>1955</td>\n",
       "      <td>1340</td>\n",
       "      <td>5650</td>\n",
       "      <td>1.413173e+09</td>\n",
       "      <td>7.418041</td>\n",
       "      <td>2.0</td>\n",
       "    </tr>\n",
       "    <tr>\n",
       "      <th>1</th>\n",
       "      <td>6414100192</td>\n",
       "      <td>538000.0</td>\n",
       "      <td>3</td>\n",
       "      <td>2.25</td>\n",
       "      <td>2570</td>\n",
       "      <td>7242</td>\n",
       "      <td>2.0</td>\n",
       "      <td>2170</td>\n",
       "      <td>1951</td>\n",
       "      <td>1690</td>\n",
       "      <td>7639</td>\n",
       "      <td>1.418101e+09</td>\n",
       "      <td>8.046810</td>\n",
       "      <td>2.0</td>\n",
       "    </tr>\n",
       "    <tr>\n",
       "      <th>2</th>\n",
       "      <td>5631500400</td>\n",
       "      <td>180000.0</td>\n",
       "      <td>2</td>\n",
       "      <td>1.00</td>\n",
       "      <td>770</td>\n",
       "      <td>10000</td>\n",
       "      <td>1.0</td>\n",
       "      <td>770</td>\n",
       "      <td>1933</td>\n",
       "      <td>2720</td>\n",
       "      <td>8062</td>\n",
       "      <td>1.424840e+09</td>\n",
       "      <td>10.323554</td>\n",
       "      <td>2.0</td>\n",
       "    </tr>\n",
       "    <tr>\n",
       "      <th>3</th>\n",
       "      <td>2487200875</td>\n",
       "      <td>604000.0</td>\n",
       "      <td>4</td>\n",
       "      <td>3.00</td>\n",
       "      <td>1960</td>\n",
       "      <td>5000</td>\n",
       "      <td>1.0</td>\n",
       "      <td>1050</td>\n",
       "      <td>1965</td>\n",
       "      <td>1360</td>\n",
       "      <td>5000</td>\n",
       "      <td>1.418101e+09</td>\n",
       "      <td>6.427255</td>\n",
       "      <td>4.0</td>\n",
       "    </tr>\n",
       "    <tr>\n",
       "      <th>4</th>\n",
       "      <td>1954400510</td>\n",
       "      <td>510000.0</td>\n",
       "      <td>3</td>\n",
       "      <td>2.00</td>\n",
       "      <td>1680</td>\n",
       "      <td>8080</td>\n",
       "      <td>1.0</td>\n",
       "      <td>1680</td>\n",
       "      <td>1987</td>\n",
       "      <td>1800</td>\n",
       "      <td>7503</td>\n",
       "      <td>1.424236e+09</td>\n",
       "      <td>13.504920</td>\n",
       "      <td>2.0</td>\n",
       "    </tr>\n",
       "  </tbody>\n",
       "</table>\n",
       "</div>"
      ],
      "text/plain": [
       "           id     price  bedrooms  bathrooms  sqft_living  sqft_lot  floors  \\\n",
       "0  7129300520  221900.0         3       1.00         1180      5650     1.0   \n",
       "1  6414100192  538000.0         3       2.25         2570      7242     2.0   \n",
       "2  5631500400  180000.0         2       1.00          770     10000     1.0   \n",
       "3  2487200875  604000.0         4       3.00         1960      5000     1.0   \n",
       "4  1954400510  510000.0         3       2.00         1680      8080     1.0   \n",
       "\n",
       "   sqft_above  yr_built  sqft_living15  sqft_lot15    time_stamp  \\\n",
       "0        1180      1955           1340        5650  1.413173e+09   \n",
       "1        2170      1951           1690        7639  1.418101e+09   \n",
       "2         770      1933           2720        8062  1.424840e+09   \n",
       "3        1050      1965           1360        5000  1.418101e+09   \n",
       "4        1680      1987           1800        7503  1.424236e+09   \n",
       "\n",
       "   dist_Seattle  ord_cond  \n",
       "0      7.418041       2.0  \n",
       "1      8.046810       2.0  \n",
       "2     10.323554       2.0  \n",
       "3      6.427255       4.0  \n",
       "4     13.504920       2.0  "
      ]
     },
     "execution_count": 278,
     "metadata": {},
     "output_type": "execute_result"
    }
   ],
   "source": [
    "df8.head()"
   ]
  },
  {
   "cell_type": "markdown",
   "metadata": {},
   "source": [
    "## Investigating for Outliers"
   ]
  },
  {
   "cell_type": "code",
   "execution_count": null,
   "metadata": {},
   "outputs": [],
   "source": []
  },
  {
   "cell_type": "code",
   "execution_count": 279,
   "metadata": {},
   "outputs": [
    {
     "name": "stdout",
     "output_type": "stream",
     "text": [
      "['id', -3180840729.4084797, 12341789304.950453]\n",
      "['price', -450847.60668237554, 1531440.7536935345]\n",
      "['bedrooms', 0.8740835415323494, 5.872316421425469]\n",
      "['bathrooms', 0.04113816755141686, 4.190514376783444]\n",
      "['sqft_living', -396.690833578044, 4557.334534092004]\n",
      "['sqft_lot', -96630.18764399773, 126829.00516494972]\n",
      "['floors', 0.03805435879181829, 2.9501384457643702]\n",
      "['sqft_above', -444.6650559673178, 4021.8587402753233]\n",
      "['yr_built', 1891.7464985531415, 2050.252853208677]\n",
      "['sqft_living15', 137.8965983619844, 3835.3440369114332]\n",
      "['sqft_lot15', -60827.042639815634, 86343.6096630133]\n",
      "['time_stamp', 1388215665.5854847, 1440927828.0108483]\n",
      "['dist_Seattle', -6.31042261892084, 29.308841402496142]\n",
      "['ord_cond', 0.6546799855346104, 4.164970891902071]\n"
     ]
    }
   ],
   "source": [
    "for column in df8.columns:\n",
    "    rvs = stats.norm(loc=df8[column].mean(), scale=df8[column].std())\n",
    "    IQR = rvs.ppf(0.75) - rvs.ppf(0.25)\n",
    "    upper = rvs.ppf(0.75) + (1.5*IQR)\n",
    "    lower = rvs.ppf(0.25) - (1.5*IQR)\n",
    "    print([column, lower, upper])"
   ]
  },
  {
   "cell_type": "code",
   "execution_count": 275,
   "metadata": {},
   "outputs": [],
   "source": [
    "# for column in df8.columns:\n",
    "    # rvs = stats.norm(loc=df8[column].mean(), scale=df8[column].std())\n",
    "    # IQR = rvs.ppf(0.75) - rvs.ppf(0.25)\n",
    "    # upper = rvs.ppf(0.75) + (1.5*IQR)\n",
    "    # lower = rvs.ppf(0.25) - (1.5*IQR)\n",
    "    # df9 = df8.drop(df8[(df8[column] >= upper) | (df8[column] <= lower)].index)"
   ]
  },
  {
   "cell_type": "markdown",
   "metadata": {},
   "source": [
    "### Outlier in Bedrooms"
   ]
  },
  {
   "cell_type": "code",
   "execution_count": 280,
   "metadata": {},
   "outputs": [
    {
     "data": {
      "text/plain": [
       "3     9824\n",
       "4     6882\n",
       "2     2760\n",
       "5     1601\n",
       "6      272\n",
       "1      196\n",
       "7       38\n",
       "8       13\n",
       "9        6\n",
       "10       3\n",
       "11       1\n",
       "33       1\n",
       "Name: bedrooms, dtype: int64"
      ]
     },
     "execution_count": 280,
     "metadata": {},
     "output_type": "execute_result"
    }
   ],
   "source": [
    "df8['bedrooms'].value_counts()\n",
    "# reveals one house with '33' bedrooms"
   ]
  },
  {
   "cell_type": "code",
   "execution_count": 281,
   "metadata": {},
   "outputs": [
    {
     "data": {
      "text/html": [
       "<div>\n",
       "<style scoped>\n",
       "    .dataframe tbody tr th:only-of-type {\n",
       "        vertical-align: middle;\n",
       "    }\n",
       "\n",
       "    .dataframe tbody tr th {\n",
       "        vertical-align: top;\n",
       "    }\n",
       "\n",
       "    .dataframe thead th {\n",
       "        text-align: right;\n",
       "    }\n",
       "</style>\n",
       "<table border=\"1\" class=\"dataframe\">\n",
       "  <thead>\n",
       "    <tr style=\"text-align: right;\">\n",
       "      <th></th>\n",
       "      <th>id</th>\n",
       "      <th>price</th>\n",
       "      <th>bedrooms</th>\n",
       "      <th>bathrooms</th>\n",
       "      <th>sqft_living</th>\n",
       "      <th>sqft_lot</th>\n",
       "      <th>floors</th>\n",
       "      <th>sqft_above</th>\n",
       "      <th>yr_built</th>\n",
       "      <th>sqft_living15</th>\n",
       "      <th>sqft_lot15</th>\n",
       "      <th>time_stamp</th>\n",
       "      <th>dist_Seattle</th>\n",
       "      <th>ord_cond</th>\n",
       "    </tr>\n",
       "  </thead>\n",
       "  <tbody>\n",
       "    <tr>\n",
       "      <th>15856</th>\n",
       "      <td>2402100895</td>\n",
       "      <td>640000.0</td>\n",
       "      <td>33</td>\n",
       "      <td>1.75</td>\n",
       "      <td>1620</td>\n",
       "      <td>6000</td>\n",
       "      <td>1.0</td>\n",
       "      <td>1040</td>\n",
       "      <td>1947</td>\n",
       "      <td>1330</td>\n",
       "      <td>4700</td>\n",
       "      <td>1.403669e+09</td>\n",
       "      <td>5.723124</td>\n",
       "      <td>4.0</td>\n",
       "    </tr>\n",
       "  </tbody>\n",
       "</table>\n",
       "</div>"
      ],
      "text/plain": [
       "               id     price  bedrooms  bathrooms  sqft_living  sqft_lot  \\\n",
       "15856  2402100895  640000.0        33       1.75         1620      6000   \n",
       "\n",
       "       floors  sqft_above  yr_built  sqft_living15  sqft_lot15    time_stamp  \\\n",
       "15856     1.0        1040      1947           1330        4700  1.403669e+09   \n",
       "\n",
       "       dist_Seattle  ord_cond  \n",
       "15856      5.723124       4.0  "
      ]
     },
     "execution_count": 281,
     "metadata": {},
     "output_type": "execute_result"
    }
   ],
   "source": [
    "beds_outlier = df8.loc[df8['bedrooms'] > 11]\n",
    "beds_outlier\n",
    "# looks like the number '3' entered twice by mistake.  Will impute to '3'"
   ]
  },
  {
   "cell_type": "code",
   "execution_count": 282,
   "metadata": {},
   "outputs": [],
   "source": [
    "# Imputing 33 to 3\n",
    "df8['bedrooms'] = df8['bedrooms'].replace([33], 3)"
   ]
  },
  {
   "cell_type": "code",
   "execution_count": 283,
   "metadata": {},
   "outputs": [
    {
     "data": {
      "text/plain": [
       "count    21597.000000\n",
       "mean         3.371811\n",
       "std          0.904096\n",
       "min          1.000000\n",
       "25%          3.000000\n",
       "50%          3.000000\n",
       "75%          4.000000\n",
       "max         11.000000\n",
       "Name: bedrooms, dtype: float64"
      ]
     },
     "execution_count": 283,
     "metadata": {},
     "output_type": "execute_result"
    }
   ],
   "source": [
    "# checking that it's gone\n",
    "df8['bedrooms'].describe()"
   ]
  },
  {
   "cell_type": "markdown",
   "metadata": {},
   "source": [
    "### Outliers in sqft_lot15"
   ]
  },
  {
   "cell_type": "code",
   "execution_count": 284,
   "metadata": {},
   "outputs": [
    {
     "data": {
      "text/plain": [
       "count     21597.000000\n",
       "mean      12758.283512\n",
       "std       27274.441950\n",
       "min         651.000000\n",
       "25%        5100.000000\n",
       "50%        7620.000000\n",
       "75%       10083.000000\n",
       "max      871200.000000\n",
       "Name: sqft_lot15, dtype: float64"
      ]
     },
     "execution_count": 284,
     "metadata": {},
     "output_type": "execute_result"
    }
   ],
   "source": [
    "df8['sqft_lot15'].describe()\n",
    "# large difference between max and 75%"
   ]
  },
  {
   "cell_type": "code",
   "execution_count": 285,
   "metadata": {},
   "outputs": [
    {
     "data": {
      "text/plain": [
       "36792.663075707234"
      ]
     },
     "execution_count": 285,
     "metadata": {},
     "output_type": "execute_result"
    }
   ],
   "source": [
    "# calculating interquartile range for sqft_lot15\n",
    "IQR_sqft_lot15 = rvs_sqft_lot15.ppf(0.75) - rvs_sqft_lot15.ppf(0.25)\n",
    "IQR_sqft_lot15"
   ]
  },
  {
   "cell_type": "code",
   "execution_count": 286,
   "metadata": {},
   "outputs": [
    {
     "data": {
      "text/plain": [
       "86343.6096630133"
      ]
     },
     "execution_count": 286,
     "metadata": {},
     "output_type": "execute_result"
    }
   ],
   "source": [
    "# calculating outliers via IQR range\n",
    "upper_sqft_lot15 = rvs_sqft_lot15.ppf(0.75) + (1.5*IQR_sqft_lot15)\n",
    "upper_sqft_lot15"
   ]
  },
  {
   "cell_type": "code",
   "execution_count": 287,
   "metadata": {},
   "outputs": [
    {
     "data": {
      "text/plain": [
       "-60827.042639815634"
      ]
     },
     "execution_count": 287,
     "metadata": {},
     "output_type": "execute_result"
    }
   ],
   "source": [
    "lower_sqft_lot15 = rvs_sqft_lot15.ppf(0.25) - (1.5*IQR_sqft_lot15)\n",
    "lower_sqft_lot15\n",
    "# this yields a negative number, \n",
    "# so we won't be eliminating any values at the lower end of sqft_lot15 data"
   ]
  },
  {
   "cell_type": "code",
   "execution_count": 288,
   "metadata": {},
   "outputs": [],
   "source": [
    "# creating a dataframe (df_lot for reduced outliers of sqft_lot15) \n",
    "# with sqft_lot15 values above the upper_sqft_lot15 threshold removed\n",
    "df9.drop(df8[df8['sqft_lot15'] >= upper_sqft_lot15].index, inplace=True)"
   ]
  },
  {
   "cell_type": "code",
   "execution_count": 289,
   "metadata": {},
   "outputs": [
    {
     "data": {
      "text/plain": [
       "(21161, 14)"
      ]
     },
     "execution_count": 289,
     "metadata": {},
     "output_type": "execute_result"
    }
   ],
   "source": [
    "df9.shape"
   ]
  },
  {
   "cell_type": "code",
   "execution_count": 290,
   "metadata": {},
   "outputs": [
    {
     "data": {
      "text/plain": [
       "436"
      ]
     },
     "execution_count": 290,
     "metadata": {},
     "output_type": "execute_result"
    }
   ],
   "source": [
    "len(df8) - len(df9)"
   ]
  },
  {
   "cell_type": "code",
   "execution_count": 292,
   "metadata": {},
   "outputs": [
    {
     "data": {
      "text/plain": [
       "0.020187989072556374"
      ]
     },
     "execution_count": 292,
     "metadata": {},
     "output_type": "execute_result"
    }
   ],
   "source": [
    "436 / len(df8)"
   ]
  },
  {
   "cell_type": "markdown",
   "metadata": {},
   "source": [
    "- That would remove 2.0% of values from df8"
   ]
  },
  {
   "cell_type": "markdown",
   "metadata": {},
   "source": [
    "## Removing price outliers"
   ]
  },
  {
   "cell_type": "code",
   "execution_count": null,
   "metadata": {},
   "outputs": [],
   "source": []
  },
  {
   "cell_type": "code",
   "execution_count": 295,
   "metadata": {},
   "outputs": [
    {
     "data": {
      "image/png": "[encoded data removed]",
      "text/plain": [
       "<Figure size 432x288 with 1 Axes>"
      ]
     },
     "metadata": {
      "needs_background": "light"
     },
     "output_type": "display_data"
    }
   ],
   "source": [
    "# quick histogram to visualize potential skewness\n",
    "df9['price'].hist(bins=50);"
   ]
  },
  {
   "cell_type": "code",
   "execution_count": 296,
   "metadata": {},
   "outputs": [
    {
     "data": {
      "text/plain": [
       "495874.44485276565"
      ]
     },
     "execution_count": 296,
     "metadata": {},
     "output_type": "execute_result"
    }
   ],
   "source": [
    "# calculating interquartile range for price\n",
    "IQR_price = rvs_price.ppf(0.75) - rvs_price.ppf(0.25)\n",
    "IQR_price"
   ]
  },
  {
   "cell_type": "code",
   "execution_count": 297,
   "metadata": {},
   "outputs": [
    {
     "data": {
      "text/plain": [
       "1530456.1767277117"
      ]
     },
     "execution_count": 297,
     "metadata": {},
     "output_type": "execute_result"
    }
   ],
   "source": [
    "# calculating outliers via IQR range\n",
    "upper_price = rvs_price.ppf(0.75) + (1.5*IQR_price)\n",
    "upper_price"
   ]
  },
  {
   "cell_type": "code",
   "execution_count": 298,
   "metadata": {},
   "outputs": [
    {
     "data": {
      "text/plain": [
       "-453041.602683351"
      ]
     },
     "execution_count": 298,
     "metadata": {},
     "output_type": "execute_result"
    }
   ],
   "source": [
    "lower_price = rvs_price.ppf(0.25) - (1.5*IQR_price)\n",
    "lower_price\n",
    "# this yields a negative number, so we won't be eliminating any values at the lower end of price data"
   ]
  },
  {
   "cell_type": "code",
   "execution_count": 301,
   "metadata": {},
   "outputs": [],
   "source": [
    "# df10 - creating a dataframe with price values above the upper_price \n",
    "# threshold removed\n",
    "df10 = df9.drop(df9[df9['price'] >= upper_price].index)"
   ]
  },
  {
   "cell_type": "code",
   "execution_count": 302,
   "metadata": {},
   "outputs": [
    {
     "data": {
      "text/plain": [
       "(20677, 14)"
      ]
     },
     "execution_count": 302,
     "metadata": {},
     "output_type": "execute_result"
    }
   ],
   "source": [
    "df10.shape"
   ]
  },
  {
   "cell_type": "code",
   "execution_count": null,
   "metadata": {},
   "outputs": [],
   "source": []
  },
  {
   "cell_type": "markdown",
   "metadata": {},
   "source": [
    "# Modeling"
   ]
  },
  {
   "cell_type": "markdown",
   "metadata": {},
   "source": [
    "## Creating models based on highest correlations to price with dataframe (df9)"
   ]
  },
  {
   "cell_type": "code",
   "execution_count": 306,
   "metadata": {},
   "outputs": [
    {
     "data": {
      "text/plain": [
       "(21161, 14)"
      ]
     },
     "execution_count": 306,
     "metadata": {},
     "output_type": "execute_result"
    }
   ],
   "source": [
    "df9.shape"
   ]
  },
  {
   "cell_type": "code",
   "execution_count": 307,
   "metadata": {},
   "outputs": [
    {
     "data": {
      "text/html": [
       "<div>\n",
       "<style scoped>\n",
       "    .dataframe tbody tr th:only-of-type {\n",
       "        vertical-align: middle;\n",
       "    }\n",
       "\n",
       "    .dataframe tbody tr th {\n",
       "        vertical-align: top;\n",
       "    }\n",
       "\n",
       "    .dataframe thead th {\n",
       "        text-align: right;\n",
       "    }\n",
       "</style>\n",
       "<table border=\"1\" class=\"dataframe\">\n",
       "  <thead>\n",
       "    <tr style=\"text-align: right;\">\n",
       "      <th></th>\n",
       "      <th>id</th>\n",
       "      <th>price</th>\n",
       "      <th>bedrooms</th>\n",
       "      <th>bathrooms</th>\n",
       "      <th>sqft_living</th>\n",
       "      <th>sqft_lot</th>\n",
       "      <th>floors</th>\n",
       "      <th>sqft_above</th>\n",
       "      <th>yr_built</th>\n",
       "      <th>sqft_living15</th>\n",
       "      <th>sqft_lot15</th>\n",
       "      <th>time_stamp</th>\n",
       "      <th>dist_Seattle</th>\n",
       "      <th>ord_cond</th>\n",
       "    </tr>\n",
       "  </thead>\n",
       "  <tbody>\n",
       "    <tr>\n",
       "      <th>0</th>\n",
       "      <td>7129300520</td>\n",
       "      <td>221900.0</td>\n",
       "      <td>3</td>\n",
       "      <td>1.00</td>\n",
       "      <td>1180</td>\n",
       "      <td>5650</td>\n",
       "      <td>1.0</td>\n",
       "      <td>1180</td>\n",
       "      <td>1955</td>\n",
       "      <td>1340</td>\n",
       "      <td>5650</td>\n",
       "      <td>1.413173e+09</td>\n",
       "      <td>7.418041</td>\n",
       "      <td>2.0</td>\n",
       "    </tr>\n",
       "    <tr>\n",
       "      <th>1</th>\n",
       "      <td>6414100192</td>\n",
       "      <td>538000.0</td>\n",
       "      <td>3</td>\n",
       "      <td>2.25</td>\n",
       "      <td>2570</td>\n",
       "      <td>7242</td>\n",
       "      <td>2.0</td>\n",
       "      <td>2170</td>\n",
       "      <td>1951</td>\n",
       "      <td>1690</td>\n",
       "      <td>7639</td>\n",
       "      <td>1.418101e+09</td>\n",
       "      <td>8.046810</td>\n",
       "      <td>2.0</td>\n",
       "    </tr>\n",
       "    <tr>\n",
       "      <th>2</th>\n",
       "      <td>5631500400</td>\n",
       "      <td>180000.0</td>\n",
       "      <td>2</td>\n",
       "      <td>1.00</td>\n",
       "      <td>770</td>\n",
       "      <td>10000</td>\n",
       "      <td>1.0</td>\n",
       "      <td>770</td>\n",
       "      <td>1933</td>\n",
       "      <td>2720</td>\n",
       "      <td>8062</td>\n",
       "      <td>1.424840e+09</td>\n",
       "      <td>10.323554</td>\n",
       "      <td>2.0</td>\n",
       "    </tr>\n",
       "    <tr>\n",
       "      <th>3</th>\n",
       "      <td>2487200875</td>\n",
       "      <td>604000.0</td>\n",
       "      <td>4</td>\n",
       "      <td>3.00</td>\n",
       "      <td>1960</td>\n",
       "      <td>5000</td>\n",
       "      <td>1.0</td>\n",
       "      <td>1050</td>\n",
       "      <td>1965</td>\n",
       "      <td>1360</td>\n",
       "      <td>5000</td>\n",
       "      <td>1.418101e+09</td>\n",
       "      <td>6.427255</td>\n",
       "      <td>4.0</td>\n",
       "    </tr>\n",
       "    <tr>\n",
       "      <th>4</th>\n",
       "      <td>1954400510</td>\n",
       "      <td>510000.0</td>\n",
       "      <td>3</td>\n",
       "      <td>2.00</td>\n",
       "      <td>1680</td>\n",
       "      <td>8080</td>\n",
       "      <td>1.0</td>\n",
       "      <td>1680</td>\n",
       "      <td>1987</td>\n",
       "      <td>1800</td>\n",
       "      <td>7503</td>\n",
       "      <td>1.424236e+09</td>\n",
       "      <td>13.504920</td>\n",
       "      <td>2.0</td>\n",
       "    </tr>\n",
       "  </tbody>\n",
       "</table>\n",
       "</div>"
      ],
      "text/plain": [
       "           id     price  bedrooms  bathrooms  sqft_living  sqft_lot  floors  \\\n",
       "0  7129300520  221900.0         3       1.00         1180      5650     1.0   \n",
       "1  6414100192  538000.0         3       2.25         2570      7242     2.0   \n",
       "2  5631500400  180000.0         2       1.00          770     10000     1.0   \n",
       "3  2487200875  604000.0         4       3.00         1960      5000     1.0   \n",
       "4  1954400510  510000.0         3       2.00         1680      8080     1.0   \n",
       "\n",
       "   sqft_above  yr_built  sqft_living15  sqft_lot15    time_stamp  \\\n",
       "0        1180      1955           1340        5650  1.413173e+09   \n",
       "1        2170      1951           1690        7639  1.418101e+09   \n",
       "2         770      1933           2720        8062  1.424840e+09   \n",
       "3        1050      1965           1360        5000  1.418101e+09   \n",
       "4        1680      1987           1800        7503  1.424236e+09   \n",
       "\n",
       "   dist_Seattle  ord_cond  \n",
       "0      7.418041       2.0  \n",
       "1      8.046810       2.0  \n",
       "2     10.323554       2.0  \n",
       "3      6.427255       4.0  \n",
       "4     13.504920       2.0  "
      ]
     },
     "execution_count": 307,
     "metadata": {},
     "output_type": "execute_result"
    }
   ],
   "source": [
    "df9.head()"
   ]
  },
  {
   "cell_type": "code",
   "execution_count": 309,
   "metadata": {},
   "outputs": [],
   "source": [
    "df9drop = df9.drop(['id', 'price'], axis=1)"
   ]
  },
  {
   "cell_type": "code",
   "execution_count": 310,
   "metadata": {},
   "outputs": [],
   "source": [
    "ss_df9 = StandardScaler().fit(df9drop)\n",
    "df9_scaled = ss_df9.transform(df9drop)"
   ]
  },
  {
   "cell_type": "code",
   "execution_count": 311,
   "metadata": {},
   "outputs": [],
   "source": [
    "df9_scaled = pd.DataFrame(df9_scaled, columns=df9drop.columns)"
   ]
  },
  {
   "cell_type": "code",
   "execution_count": 316,
   "metadata": {},
   "outputs": [],
   "source": [
    "x1 = sm.add_constant(df9_scaled)\n",
    "y1 = df9['price'].reset_index(drop=True)"
   ]
  },
  {
   "cell_type": "code",
   "execution_count": 317,
   "metadata": {},
   "outputs": [],
   "source": [
    "model1 = sm.OLS(endog=y1, exog=x1).fit()"
   ]
  },
  {
   "cell_type": "code",
   "execution_count": 318,
   "metadata": {},
   "outputs": [
    {
     "data": {
      "text/html": [
       "<table class=\"simpletable\">\n",
       "<caption>OLS Regression Results</caption>\n",
       "<tr>\n",
       "  <th>Dep. Variable:</th>          <td>price</td>      <th>  R-squared:         </th>  <td>   0.651</td>  \n",
       "</tr>\n",
       "<tr>\n",
       "  <th>Model:</th>                   <td>OLS</td>       <th>  Adj. R-squared:    </th>  <td>   0.651</td>  \n",
       "</tr>\n",
       "<tr>\n",
       "  <th>Method:</th>             <td>Least Squares</td>  <th>  F-statistic:       </th>  <td>   3290.</td>  \n",
       "</tr>\n",
       "<tr>\n",
       "  <th>Date:</th>             <td>Thu, 27 Oct 2022</td> <th>  Prob (F-statistic):</th>   <td>  0.00</td>   \n",
       "</tr>\n",
       "<tr>\n",
       "  <th>Time:</th>                 <td>13:22:31</td>     <th>  Log-Likelihood:    </th> <td>-2.9006e+05</td>\n",
       "</tr>\n",
       "<tr>\n",
       "  <th>No. Observations:</th>      <td> 21161</td>      <th>  AIC:               </th>  <td>5.801e+05</td> \n",
       "</tr>\n",
       "<tr>\n",
       "  <th>Df Residuals:</th>          <td> 21148</td>      <th>  BIC:               </th>  <td>5.802e+05</td> \n",
       "</tr>\n",
       "<tr>\n",
       "  <th>Df Model:</th>              <td>    12</td>      <th>                     </th>      <td> </td>     \n",
       "</tr>\n",
       "<tr>\n",
       "  <th>Covariance Type:</th>      <td>nonrobust</td>    <th>                     </th>      <td> </td>     \n",
       "</tr>\n",
       "</table>\n",
       "<table class=\"simpletable\">\n",
       "<tr>\n",
       "        <td></td>           <th>coef</th>     <th>std err</th>      <th>t</th>      <th>P>|t|</th>  <th>[0.025</th>    <th>0.975]</th>  \n",
       "</tr>\n",
       "<tr>\n",
       "  <th>const</th>         <td>  5.39e+05</td> <td> 1493.027</td> <td>  360.997</td> <td> 0.000</td> <td> 5.36e+05</td> <td> 5.42e+05</td>\n",
       "</tr>\n",
       "<tr>\n",
       "  <th>bedrooms</th>      <td>-5.252e+04</td> <td> 1887.450</td> <td>  -27.827</td> <td> 0.000</td> <td>-5.62e+04</td> <td>-4.88e+04</td>\n",
       "</tr>\n",
       "<tr>\n",
       "  <th>bathrooms</th>     <td> 4.183e+04</td> <td> 2697.261</td> <td>   15.510</td> <td> 0.000</td> <td> 3.65e+04</td> <td> 4.71e+04</td>\n",
       "</tr>\n",
       "<tr>\n",
       "  <th>sqft_living</th>   <td> 1.811e+05</td> <td> 4220.372</td> <td>   42.909</td> <td> 0.000</td> <td> 1.73e+05</td> <td> 1.89e+05</td>\n",
       "</tr>\n",
       "<tr>\n",
       "  <th>sqft_lot</th>      <td> 4346.6355</td> <td> 1782.130</td> <td>    2.439</td> <td> 0.015</td> <td>  853.525</td> <td> 7839.746</td>\n",
       "</tr>\n",
       "<tr>\n",
       "  <th>floors</th>        <td>-2342.1096</td> <td> 2151.605</td> <td>   -1.089</td> <td> 0.276</td> <td>-6559.419</td> <td> 1875.200</td>\n",
       "</tr>\n",
       "<tr>\n",
       "  <th>sqft_above</th>    <td> 5.535e+04</td> <td> 3838.812</td> <td>   14.419</td> <td> 0.000</td> <td> 4.78e+04</td> <td> 6.29e+04</td>\n",
       "</tr>\n",
       "<tr>\n",
       "  <th>yr_built</th>      <td>-3.814e+04</td> <td> 2175.106</td> <td>  -17.534</td> <td> 0.000</td> <td>-4.24e+04</td> <td>-3.39e+04</td>\n",
       "</tr>\n",
       "<tr>\n",
       "  <th>sqft_living15</th> <td> 6.141e+04</td> <td> 2410.687</td> <td>   25.475</td> <td> 0.000</td> <td> 5.67e+04</td> <td> 6.61e+04</td>\n",
       "</tr>\n",
       "<tr>\n",
       "  <th>sqft_lot15</th>    <td> 9681.8977</td> <td> 1942.345</td> <td>    4.985</td> <td> 0.000</td> <td> 5874.754</td> <td> 1.35e+04</td>\n",
       "</tr>\n",
       "<tr>\n",
       "  <th>time_stamp</th>    <td> 1.218e+04</td> <td> 1497.399</td> <td>    8.133</td> <td> 0.000</td> <td> 9242.604</td> <td> 1.51e+04</td>\n",
       "</tr>\n",
       "<tr>\n",
       "  <th>dist_Seattle</th>  <td>-1.255e+05</td> <td> 1816.935</td> <td>  -69.046</td> <td> 0.000</td> <td>-1.29e+05</td> <td>-1.22e+05</td>\n",
       "</tr>\n",
       "<tr>\n",
       "  <th>ord_cond</th>      <td> 2.204e+04</td> <td> 1644.174</td> <td>   13.404</td> <td> 0.000</td> <td> 1.88e+04</td> <td> 2.53e+04</td>\n",
       "</tr>\n",
       "</table>\n",
       "<table class=\"simpletable\">\n",
       "<tr>\n",
       "  <th>Omnibus:</th>       <td>17523.396</td> <th>  Durbin-Watson:     </th>  <td>   2.005</td>  \n",
       "</tr>\n",
       "<tr>\n",
       "  <th>Prob(Omnibus):</th>  <td> 0.000</td>   <th>  Jarque-Bera (JB):  </th> <td>1287137.184</td>\n",
       "</tr>\n",
       "<tr>\n",
       "  <th>Skew:</th>           <td> 3.523</td>   <th>  Prob(JB):          </th>  <td>    0.00</td>  \n",
       "</tr>\n",
       "<tr>\n",
       "  <th>Kurtosis:</th>       <td>40.552</td>   <th>  Cond. No.          </th>  <td>    7.56</td>  \n",
       "</tr>\n",
       "</table><br/><br/>Notes:<br/>[1] Standard Errors assume that the covariance matrix of the errors is correctly specified."
      ],
      "text/plain": [
       "<class 'statsmodels.iolib.summary.Summary'>\n",
       "\"\"\"\n",
       "                            OLS Regression Results                            \n",
       "==============================================================================\n",
       "Dep. Variable:                  price   R-squared:                       0.651\n",
       "Model:                            OLS   Adj. R-squared:                  0.651\n",
       "Method:                 Least Squares   F-statistic:                     3290.\n",
       "Date:                Thu, 27 Oct 2022   Prob (F-statistic):               0.00\n",
       "Time:                        13:22:31   Log-Likelihood:            -2.9006e+05\n",
       "No. Observations:               21161   AIC:                         5.801e+05\n",
       "Df Residuals:                   21148   BIC:                         5.802e+05\n",
       "Df Model:                          12                                         \n",
       "Covariance Type:            nonrobust                                         \n",
       "=================================================================================\n",
       "                    coef    std err          t      P>|t|      [0.025      0.975]\n",
       "---------------------------------------------------------------------------------\n",
       "const           5.39e+05   1493.027    360.997      0.000    5.36e+05    5.42e+05\n",
       "bedrooms      -5.252e+04   1887.450    -27.827      0.000   -5.62e+04   -4.88e+04\n",
       "bathrooms      4.183e+04   2697.261     15.510      0.000    3.65e+04    4.71e+04\n",
       "sqft_living    1.811e+05   4220.372     42.909      0.000    1.73e+05    1.89e+05\n",
       "sqft_lot       4346.6355   1782.130      2.439      0.015     853.525    7839.746\n",
       "floors        -2342.1096   2151.605     -1.089      0.276   -6559.419    1875.200\n",
       "sqft_above     5.535e+04   3838.812     14.419      0.000    4.78e+04    6.29e+04\n",
       "yr_built      -3.814e+04   2175.106    -17.534      0.000   -4.24e+04   -3.39e+04\n",
       "sqft_living15  6.141e+04   2410.687     25.475      0.000    5.67e+04    6.61e+04\n",
       "sqft_lot15     9681.8977   1942.345      4.985      0.000    5874.754    1.35e+04\n",
       "time_stamp     1.218e+04   1497.399      8.133      0.000    9242.604    1.51e+04\n",
       "dist_Seattle  -1.255e+05   1816.935    -69.046      0.000   -1.29e+05   -1.22e+05\n",
       "ord_cond       2.204e+04   1644.174     13.404      0.000    1.88e+04    2.53e+04\n",
       "==============================================================================\n",
       "Omnibus:                    17523.396   Durbin-Watson:                   2.005\n",
       "Prob(Omnibus):                  0.000   Jarque-Bera (JB):          1287137.184\n",
       "Skew:                           3.523   Prob(JB):                         0.00\n",
       "Kurtosis:                      40.552   Cond. No.                         7.56\n",
       "==============================================================================\n",
       "\n",
       "Notes:\n",
       "[1] Standard Errors assume that the covariance matrix of the errors is correctly specified.\n",
       "\"\"\""
      ]
     },
     "execution_count": 318,
     "metadata": {},
     "output_type": "execute_result"
    }
   ],
   "source": [
    "model1.summary()"
   ]
  },
  {
   "cell_type": "markdown",
   "metadata": {},
   "source": [
    "## check assumptions"
   ]
  },
  {
   "cell_type": "code",
   "execution_count": null,
   "metadata": {},
   "outputs": [],
   "source": []
  },
  {
   "cell_type": "code",
   "execution_count": null,
   "metadata": {},
   "outputs": [],
   "source": []
  },
  {
   "cell_type": "markdown",
   "metadata": {},
   "source": [
    "## Repeat assessment with lower price dataframe (df10)"
   ]
  },
  {
   "cell_type": "code",
   "execution_count": 315,
   "metadata": {},
   "outputs": [
    {
     "data": {
      "text/plain": [
       "(20677, 14)"
      ]
     },
     "execution_count": 315,
     "metadata": {},
     "output_type": "execute_result"
    }
   ],
   "source": [
    "df10.shape"
   ]
  },
  {
   "cell_type": "code",
   "execution_count": null,
   "metadata": {},
   "outputs": [],
   "source": []
  },
  {
   "cell_type": "code",
   "execution_count": 319,
   "metadata": {},
   "outputs": [],
   "source": [
    "df10drop = df10.drop(['id', 'price'], axis=1)"
   ]
  },
  {
   "cell_type": "code",
   "execution_count": 320,
   "metadata": {},
   "outputs": [],
   "source": [
    "ss_df10 = StandardScaler().fit(df10drop)\n",
    "df10_scaled = ss_df10.transform(df10drop)"
   ]
  },
  {
   "cell_type": "code",
   "execution_count": 321,
   "metadata": {},
   "outputs": [],
   "source": [
    "df10_scaled = pd.DataFrame(df10_scaled, columns=df10drop.columns)"
   ]
  },
  {
   "cell_type": "code",
   "execution_count": 322,
   "metadata": {},
   "outputs": [],
   "source": [
    "x2 = sm.add_constant(df10_scaled)\n",
    "y2 = df10['price'].reset_index(drop=True)"
   ]
  },
  {
   "cell_type": "code",
   "execution_count": 323,
   "metadata": {},
   "outputs": [],
   "source": [
    "model2 = sm.OLS(endog=y2, exog=x2).fit()"
   ]
  },
  {
   "cell_type": "code",
   "execution_count": 324,
   "metadata": {},
   "outputs": [
    {
     "data": {
      "text/html": [
       "<table class=\"simpletable\">\n",
       "<caption>OLS Regression Results</caption>\n",
       "<tr>\n",
       "  <th>Dep. Variable:</th>          <td>price</td>      <th>  R-squared:         </th>  <td>   0.661</td>  \n",
       "</tr>\n",
       "<tr>\n",
       "  <th>Model:</th>                   <td>OLS</td>       <th>  Adj. R-squared:    </th>  <td>   0.661</td>  \n",
       "</tr>\n",
       "<tr>\n",
       "  <th>Method:</th>             <td>Least Squares</td>  <th>  F-statistic:       </th>  <td>   3357.</td>  \n",
       "</tr>\n",
       "<tr>\n",
       "  <th>Date:</th>             <td>Thu, 27 Oct 2022</td> <th>  Prob (F-statistic):</th>   <td>  0.00</td>   \n",
       "</tr>\n",
       "<tr>\n",
       "  <th>Time:</th>                 <td>13:23:03</td>     <th>  Log-Likelihood:    </th> <td>-2.7513e+05</td>\n",
       "</tr>\n",
       "<tr>\n",
       "  <th>No. Observations:</th>      <td> 20677</td>      <th>  AIC:               </th>  <td>5.503e+05</td> \n",
       "</tr>\n",
       "<tr>\n",
       "  <th>Df Residuals:</th>          <td> 20664</td>      <th>  BIC:               </th>  <td>5.504e+05</td> \n",
       "</tr>\n",
       "<tr>\n",
       "  <th>Df Model:</th>              <td>    12</td>      <th>                     </th>      <td> </td>     \n",
       "</tr>\n",
       "<tr>\n",
       "  <th>Covariance Type:</th>      <td>nonrobust</td>    <th>                     </th>      <td> </td>     \n",
       "</tr>\n",
       "</table>\n",
       "<table class=\"simpletable\">\n",
       "<tr>\n",
       "        <td></td>           <th>coef</th>     <th>std err</th>      <th>t</th>      <th>P>|t|</th>  <th>[0.025</th>    <th>0.975]</th>  \n",
       "</tr>\n",
       "<tr>\n",
       "  <th>const</th>         <td> 5.011e+05</td> <td> 1011.492</td> <td>  495.392</td> <td> 0.000</td> <td> 4.99e+05</td> <td> 5.03e+05</td>\n",
       "</tr>\n",
       "<tr>\n",
       "  <th>bedrooms</th>      <td>-2.369e+04</td> <td> 1288.832</td> <td>  -18.377</td> <td> 0.000</td> <td>-2.62e+04</td> <td>-2.12e+04</td>\n",
       "</tr>\n",
       "<tr>\n",
       "  <th>bathrooms</th>     <td>  2.79e+04</td> <td> 1770.455</td> <td>   15.759</td> <td> 0.000</td> <td> 2.44e+04</td> <td> 3.14e+04</td>\n",
       "</tr>\n",
       "<tr>\n",
       "  <th>sqft_living</th>   <td> 9.224e+04</td> <td> 2716.355</td> <td>   33.957</td> <td> 0.000</td> <td> 8.69e+04</td> <td> 9.76e+04</td>\n",
       "</tr>\n",
       "<tr>\n",
       "  <th>sqft_lot</th>      <td> 7866.9891</td> <td> 1203.200</td> <td>    6.538</td> <td> 0.000</td> <td> 5508.621</td> <td> 1.02e+04</td>\n",
       "</tr>\n",
       "<tr>\n",
       "  <th>floors</th>        <td> 1.182e+04</td> <td> 1475.458</td> <td>    8.013</td> <td> 0.000</td> <td> 8931.019</td> <td> 1.47e+04</td>\n",
       "</tr>\n",
       "<tr>\n",
       "  <th>sqft_above</th>    <td>  3.12e+04</td> <td> 2510.424</td> <td>   12.428</td> <td> 0.000</td> <td> 2.63e+04</td> <td> 3.61e+04</td>\n",
       "</tr>\n",
       "<tr>\n",
       "  <th>yr_built</th>      <td>-2.547e+04</td> <td> 1487.236</td> <td>  -17.128</td> <td> 0.000</td> <td>-2.84e+04</td> <td>-2.26e+04</td>\n",
       "</tr>\n",
       "<tr>\n",
       "  <th>sqft_living15</th> <td> 7.161e+04</td> <td> 1630.210</td> <td>   43.924</td> <td> 0.000</td> <td> 6.84e+04</td> <td> 7.48e+04</td>\n",
       "</tr>\n",
       "<tr>\n",
       "  <th>sqft_lot15</th>    <td> 8380.1980</td> <td> 1309.322</td> <td>    6.400</td> <td> 0.000</td> <td> 5813.823</td> <td> 1.09e+04</td>\n",
       "</tr>\n",
       "<tr>\n",
       "  <th>time_stamp</th>    <td> 8505.0462</td> <td> 1014.703</td> <td>    8.382</td> <td> 0.000</td> <td> 6516.149</td> <td> 1.05e+04</td>\n",
       "</tr>\n",
       "<tr>\n",
       "  <th>dist_Seattle</th>  <td>-1.061e+05</td> <td> 1238.157</td> <td>  -85.716</td> <td> 0.000</td> <td>-1.09e+05</td> <td>-1.04e+05</td>\n",
       "</tr>\n",
       "<tr>\n",
       "  <th>ord_cond</th>      <td> 1.996e+04</td> <td> 1112.274</td> <td>   17.941</td> <td> 0.000</td> <td> 1.78e+04</td> <td> 2.21e+04</td>\n",
       "</tr>\n",
       "</table>\n",
       "<table class=\"simpletable\">\n",
       "<tr>\n",
       "  <th>Omnibus:</th>       <td>3148.009</td> <th>  Durbin-Watson:     </th> <td>   2.012</td>\n",
       "</tr>\n",
       "<tr>\n",
       "  <th>Prob(Omnibus):</th>  <td> 0.000</td>  <th>  Jarque-Bera (JB):  </th> <td>7918.873</td>\n",
       "</tr>\n",
       "<tr>\n",
       "  <th>Skew:</th>           <td> 0.857</td>  <th>  Prob(JB):          </th> <td>    0.00</td>\n",
       "</tr>\n",
       "<tr>\n",
       "  <th>Kurtosis:</th>       <td> 5.501</td>  <th>  Cond. No.          </th> <td>    7.21</td>\n",
       "</tr>\n",
       "</table><br/><br/>Notes:<br/>[1] Standard Errors assume that the covariance matrix of the errors is correctly specified."
      ],
      "text/plain": [
       "<class 'statsmodels.iolib.summary.Summary'>\n",
       "\"\"\"\n",
       "                            OLS Regression Results                            \n",
       "==============================================================================\n",
       "Dep. Variable:                  price   R-squared:                       0.661\n",
       "Model:                            OLS   Adj. R-squared:                  0.661\n",
       "Method:                 Least Squares   F-statistic:                     3357.\n",
       "Date:                Thu, 27 Oct 2022   Prob (F-statistic):               0.00\n",
       "Time:                        13:23:03   Log-Likelihood:            -2.7513e+05\n",
       "No. Observations:               20677   AIC:                         5.503e+05\n",
       "Df Residuals:                   20664   BIC:                         5.504e+05\n",
       "Df Model:                          12                                         \n",
       "Covariance Type:            nonrobust                                         \n",
       "=================================================================================\n",
       "                    coef    std err          t      P>|t|      [0.025      0.975]\n",
       "---------------------------------------------------------------------------------\n",
       "const          5.011e+05   1011.492    495.392      0.000    4.99e+05    5.03e+05\n",
       "bedrooms      -2.369e+04   1288.832    -18.377      0.000   -2.62e+04   -2.12e+04\n",
       "bathrooms       2.79e+04   1770.455     15.759      0.000    2.44e+04    3.14e+04\n",
       "sqft_living    9.224e+04   2716.355     33.957      0.000    8.69e+04    9.76e+04\n",
       "sqft_lot       7866.9891   1203.200      6.538      0.000    5508.621    1.02e+04\n",
       "floors         1.182e+04   1475.458      8.013      0.000    8931.019    1.47e+04\n",
       "sqft_above      3.12e+04   2510.424     12.428      0.000    2.63e+04    3.61e+04\n",
       "yr_built      -2.547e+04   1487.236    -17.128      0.000   -2.84e+04   -2.26e+04\n",
       "sqft_living15  7.161e+04   1630.210     43.924      0.000    6.84e+04    7.48e+04\n",
       "sqft_lot15     8380.1980   1309.322      6.400      0.000    5813.823    1.09e+04\n",
       "time_stamp     8505.0462   1014.703      8.382      0.000    6516.149    1.05e+04\n",
       "dist_Seattle  -1.061e+05   1238.157    -85.716      0.000   -1.09e+05   -1.04e+05\n",
       "ord_cond       1.996e+04   1112.274     17.941      0.000    1.78e+04    2.21e+04\n",
       "==============================================================================\n",
       "Omnibus:                     3148.009   Durbin-Watson:                   2.012\n",
       "Prob(Omnibus):                  0.000   Jarque-Bera (JB):             7918.873\n",
       "Skew:                           0.857   Prob(JB):                         0.00\n",
       "Kurtosis:                       5.501   Cond. No.                         7.21\n",
       "==============================================================================\n",
       "\n",
       "Notes:\n",
       "[1] Standard Errors assume that the covariance matrix of the errors is correctly specified.\n",
       "\"\"\""
      ]
     },
     "execution_count": 324,
     "metadata": {},
     "output_type": "execute_result"
    }
   ],
   "source": [
    "model2.summary()"
   ]
  },
  {
   "cell_type": "code",
   "execution_count": null,
   "metadata": {},
   "outputs": [],
   "source": []
  },
  {
   "cell_type": "code",
   "execution_count": 336,
   "metadata": {},
   "outputs": [
    {
     "data": {
      "image/png": "[encoded data removed]",
      "text/plain": [
       "<Figure size 432x288 with 1 Axes>"
      ]
     },
     "metadata": {
      "needs_background": "light"
     },
     "output_type": "display_data"
    }
   ],
   "source": [
    "# predicted vs. actual\n",
    "model2_pred = model2.predict(x2)\n",
    "\n",
    "\n",
    "y = model2_pred / 1000000\n",
    "x = df10['price'] / 1000000\n",
    "\n",
    "plt.plot(x,y, \"o\")\n",
    "m, b = np.polyfit(x, y, 1)\n",
    "plt.plot(x, m*x+b)\n",
    "plt.ylim(ymin=0)\n",
    "plt.xlim(xmin=0)\n",
    "plt.xlabel('Actual Price ($millions)')\n",
    "plt.ylabel('Predicted Price ($millions)')\n",
    "plt.title('Actual vs. Model-Predicted Price')\n",
    "plt.savefig('./model_act_pred', bbox_inches='tight', dpi=300);"
   ]
  },
  {
   "cell_type": "markdown",
   "metadata": {},
   "source": [
    "# Bar plot"
   ]
  },
  {
   "cell_type": "code",
   "execution_count": 359,
   "metadata": {},
   "outputs": [
    {
     "name": "stdout",
     "output_type": "stream",
     "text": [
      "Index(['dist_Seattle', 'sqft_living', 'sqft_living15', 'sqft_above',\n",
      "       'bathrooms', 'yr_built', 'bedrooms', 'ord_cond', 'floors', 'time_stamp',\n",
      "       'sqft_lot15', 'sqft_lot'],\n",
      "      dtype='object')\n"
     ]
    }
   ],
   "source": [
    "x_bar = model2.params.map(abs).sort_values(ascending=False).index[1:13]\n",
    "print(x_bar)"
   ]
  },
  {
   "cell_type": "code",
   "execution_count": 358,
   "metadata": {},
   "outputs": [
    {
     "name": "stdout",
     "output_type": "stream",
     "text": [
      "dist_Seattle     106129.569402\n",
      "sqft_living       92240.081416\n",
      "sqft_living15     71605.969638\n",
      "sqft_above        31198.729286\n",
      "bathrooms         27900.356551\n",
      "yr_built          25473.588086\n",
      "bedrooms          23685.390981\n",
      "ord_cond          19955.315940\n",
      "floors            11823.032642\n",
      "time_stamp         8505.046174\n",
      "sqft_lot15         8380.197976\n",
      "sqft_lot           7866.989114\n",
      "dtype: float64\n"
     ]
    }
   ],
   "source": [
    "y_bar= model2.params.map(abs).sort_values(ascending=False)[1:13]\n",
    "print(y_bar)"
   ]
  },
  {
   "cell_type": "code",
   "execution_count": 372,
   "metadata": {},
   "outputs": [
    {
     "data": {
      "image/png": "[encoded data removed]",
      "text/plain": [
       "<Figure size 432x288 with 1 Axes>"
      ]
     },
     "metadata": {
      "needs_background": "light"
     },
     "output_type": "display_data"
    }
   ],
   "source": [
    "plt.bar(x = x_bar, height = y_bar, color=['red', 'red', 'red', 'blue', 'blue','blue','blue','blue','blue','blue','blue','blue'])\n",
    "plt.xticks(rotation=40, ha=\"right\", rotation_mode='anchor')\n",
    "# plt.xlabel('Features')\n",
    "# plt.ylabel('Absolute change in price ($) per standard deviation of feature')\n",
    "plt.savefig('./coefs', bbox_inches='tight', dpi=300);"
   ]
  },
  {
   "cell_type": "code",
   "execution_count": null,
   "metadata": {},
   "outputs": [],
   "source": []
  },
  {
   "cell_type": "code",
   "execution_count": 139,
   "metadata": {},
   "outputs": [
    {
     "data": {
      "text/plain": [
       "(21190, 12)"
      ]
     },
     "execution_count": 139,
     "metadata": {},
     "output_type": "execute_result"
    }
   ],
   "source": [
    "#create numeric df with 'id', 'yr_renovated' and 'zipcode' dropped. \n",
    "# BUT keeping price \n",
    "df_hd_num_price = df_hd_numeric_all.drop(['yr_renovated', 'zipcode', 'id'], axis=1)\n",
    "df_hd_num_price.shape"
   ]
  },
  {
   "cell_type": "code",
   "execution_count": null,
   "metadata": {},
   "outputs": [],
   "source": []
  },
  {
   "cell_type": "code",
   "execution_count": null,
   "metadata": {},
   "outputs": [],
   "source": []
  },
  {
   "cell_type": "code",
   "execution_count": null,
   "metadata": {},
   "outputs": [],
   "source": []
  },
  {
   "cell_type": "code",
   "execution_count": null,
   "metadata": {},
   "outputs": [],
   "source": []
  },
  {
   "cell_type": "code",
   "execution_count": 140,
   "metadata": {},
   "outputs": [
    {
     "name": "stdout",
     "output_type": "stream",
     "text": [
      "Requirement already satisfied: haversine in c:\\users\\jonmc\\anaconda3\\envs\\learn-env\\lib\\site-packages (2.7.0)\n"
     ]
    }
   ],
   "source": [
    "# info from Andrew, with tweaks for my dataframe variable names\n",
    "# installing and importing haversine library for geo-location calculations\n",
    "!pip install haversine\n",
    "import haversine as hs"
   ]
  },
  {
   "cell_type": "code",
   "execution_count": 141,
   "metadata": {},
   "outputs": [
    {
     "data": {
      "text/html": [
       "<div>\n",
       "<style scoped>\n",
       "    .dataframe tbody tr th:only-of-type {\n",
       "        vertical-align: middle;\n",
       "    }\n",
       "\n",
       "    .dataframe tbody tr th {\n",
       "        vertical-align: top;\n",
       "    }\n",
       "\n",
       "    .dataframe thead th {\n",
       "        text-align: right;\n",
       "    }\n",
       "</style>\n",
       "<table border=\"1\" class=\"dataframe\">\n",
       "  <thead>\n",
       "    <tr style=\"text-align: right;\">\n",
       "      <th></th>\n",
       "      <th>price</th>\n",
       "      <th>bedrooms</th>\n",
       "      <th>bathrooms</th>\n",
       "      <th>sqft_living</th>\n",
       "      <th>sqft_lot</th>\n",
       "      <th>floors</th>\n",
       "      <th>sqft_above</th>\n",
       "      <th>yr_built</th>\n",
       "      <th>lat</th>\n",
       "      <th>long</th>\n",
       "      <th>sqft_living15</th>\n",
       "      <th>sqft_lot15</th>\n",
       "      <th>Distance_from_DTSeattle</th>\n",
       "    </tr>\n",
       "  </thead>\n",
       "  <tbody>\n",
       "    <tr>\n",
       "      <th>0</th>\n",
       "      <td>221900.0</td>\n",
       "      <td>3</td>\n",
       "      <td>1.00</td>\n",
       "      <td>1180</td>\n",
       "      <td>5650</td>\n",
       "      <td>1.0</td>\n",
       "      <td>1180</td>\n",
       "      <td>1955</td>\n",
       "      <td>47.5112</td>\n",
       "      <td>-122.257</td>\n",
       "      <td>1340</td>\n",
       "      <td>5650</td>\n",
       "      <td>7.418041</td>\n",
       "    </tr>\n",
       "    <tr>\n",
       "      <th>1</th>\n",
       "      <td>538000.0</td>\n",
       "      <td>3</td>\n",
       "      <td>2.25</td>\n",
       "      <td>2570</td>\n",
       "      <td>7242</td>\n",
       "      <td>2.0</td>\n",
       "      <td>2170</td>\n",
       "      <td>1951</td>\n",
       "      <td>47.7210</td>\n",
       "      <td>-122.319</td>\n",
       "      <td>1690</td>\n",
       "      <td>7639</td>\n",
       "      <td>8.046810</td>\n",
       "    </tr>\n",
       "    <tr>\n",
       "      <th>2</th>\n",
       "      <td>180000.0</td>\n",
       "      <td>2</td>\n",
       "      <td>1.00</td>\n",
       "      <td>770</td>\n",
       "      <td>10000</td>\n",
       "      <td>1.0</td>\n",
       "      <td>770</td>\n",
       "      <td>1933</td>\n",
       "      <td>47.7379</td>\n",
       "      <td>-122.233</td>\n",
       "      <td>2720</td>\n",
       "      <td>8062</td>\n",
       "      <td>10.323554</td>\n",
       "    </tr>\n",
       "    <tr>\n",
       "      <th>3</th>\n",
       "      <td>604000.0</td>\n",
       "      <td>4</td>\n",
       "      <td>3.00</td>\n",
       "      <td>1960</td>\n",
       "      <td>5000</td>\n",
       "      <td>1.0</td>\n",
       "      <td>1050</td>\n",
       "      <td>1965</td>\n",
       "      <td>47.5208</td>\n",
       "      <td>-122.393</td>\n",
       "      <td>1360</td>\n",
       "      <td>5000</td>\n",
       "      <td>6.427255</td>\n",
       "    </tr>\n",
       "    <tr>\n",
       "      <th>4</th>\n",
       "      <td>510000.0</td>\n",
       "      <td>3</td>\n",
       "      <td>2.00</td>\n",
       "      <td>1680</td>\n",
       "      <td>8080</td>\n",
       "      <td>1.0</td>\n",
       "      <td>1680</td>\n",
       "      <td>1987</td>\n",
       "      <td>47.6168</td>\n",
       "      <td>-122.045</td>\n",
       "      <td>1800</td>\n",
       "      <td>7503</td>\n",
       "      <td>13.504920</td>\n",
       "    </tr>\n",
       "  </tbody>\n",
       "</table>\n",
       "</div>"
      ],
      "text/plain": [
       "      price  bedrooms  bathrooms  sqft_living  sqft_lot  floors  sqft_above  \\\n",
       "0  221900.0         3       1.00         1180      5650     1.0        1180   \n",
       "1  538000.0         3       2.25         2570      7242     2.0        2170   \n",
       "2  180000.0         2       1.00          770     10000     1.0         770   \n",
       "3  604000.0         4       3.00         1960      5000     1.0        1050   \n",
       "4  510000.0         3       2.00         1680      8080     1.0        1680   \n",
       "\n",
       "   yr_built      lat     long  sqft_living15  sqft_lot15  \\\n",
       "0      1955  47.5112 -122.257           1340        5650   \n",
       "1      1951  47.7210 -122.319           1690        7639   \n",
       "2      1933  47.7379 -122.233           2720        8062   \n",
       "3      1965  47.5208 -122.393           1360        5000   \n",
       "4      1987  47.6168 -122.045           1800        7503   \n",
       "\n",
       "   Distance_from_DTSeattle  \n",
       "0                 7.418041  \n",
       "1                 8.046810  \n",
       "2                10.323554  \n",
       "3                 6.427255  \n",
       "4                13.504920  "
      ]
     },
     "execution_count": 141,
     "metadata": {},
     "output_type": "execute_result"
    }
   ],
   "source": [
    "# initializing and formatting location variables\n",
    "loc1 = list(zip(df_hd_num_price['lat'], df_hd_num_price['long']))\n",
    "loc2 = (47.6050, -122.3344)\n",
    "# creating new dataframe from original df_hd with new column for house distance from downtown seattle\n",
    "df_hd_w_loc = df_hd_num_price.copy()\n",
    "df_hd_w_loc['Distance_from_DTSeattle'] = [hs.haversine((x,y), loc2, unit='mi') for x,y in loc1]\n",
    "df_hd_w_loc.head()"
   ]
  },
  {
   "cell_type": "code",
   "execution_count": 142,
   "metadata": {},
   "outputs": [
    {
     "data": {
      "text/html": [
       "<div>\n",
       "<style scoped>\n",
       "    .dataframe tbody tr th:only-of-type {\n",
       "        vertical-align: middle;\n",
       "    }\n",
       "\n",
       "    .dataframe tbody tr th {\n",
       "        vertical-align: top;\n",
       "    }\n",
       "\n",
       "    .dataframe thead th {\n",
       "        text-align: right;\n",
       "    }\n",
       "</style>\n",
       "<table border=\"1\" class=\"dataframe\">\n",
       "  <thead>\n",
       "    <tr style=\"text-align: right;\">\n",
       "      <th></th>\n",
       "      <th>price</th>\n",
       "      <th>bedrooms</th>\n",
       "      <th>bathrooms</th>\n",
       "      <th>sqft_living</th>\n",
       "      <th>sqft_lot</th>\n",
       "      <th>floors</th>\n",
       "      <th>sqft_above</th>\n",
       "      <th>yr_built</th>\n",
       "      <th>lat</th>\n",
       "      <th>long</th>\n",
       "      <th>sqft_living15</th>\n",
       "      <th>sqft_lot15</th>\n",
       "      <th>Distance_from_DTSeattle</th>\n",
       "      <th>0</th>\n",
       "    </tr>\n",
       "  </thead>\n",
       "  <tbody>\n",
       "    <tr>\n",
       "      <th>0</th>\n",
       "      <td>221900.0</td>\n",
       "      <td>3</td>\n",
       "      <td>1.00</td>\n",
       "      <td>1180</td>\n",
       "      <td>5650</td>\n",
       "      <td>1.0</td>\n",
       "      <td>1180</td>\n",
       "      <td>1955</td>\n",
       "      <td>47.5112</td>\n",
       "      <td>-122.257</td>\n",
       "      <td>1340</td>\n",
       "      <td>5650</td>\n",
       "      <td>7.418041</td>\n",
       "      <td>2.0</td>\n",
       "    </tr>\n",
       "    <tr>\n",
       "      <th>1</th>\n",
       "      <td>538000.0</td>\n",
       "      <td>3</td>\n",
       "      <td>2.25</td>\n",
       "      <td>2570</td>\n",
       "      <td>7242</td>\n",
       "      <td>2.0</td>\n",
       "      <td>2170</td>\n",
       "      <td>1951</td>\n",
       "      <td>47.7210</td>\n",
       "      <td>-122.319</td>\n",
       "      <td>1690</td>\n",
       "      <td>7639</td>\n",
       "      <td>8.046810</td>\n",
       "      <td>2.0</td>\n",
       "    </tr>\n",
       "    <tr>\n",
       "      <th>2</th>\n",
       "      <td>180000.0</td>\n",
       "      <td>2</td>\n",
       "      <td>1.00</td>\n",
       "      <td>770</td>\n",
       "      <td>10000</td>\n",
       "      <td>1.0</td>\n",
       "      <td>770</td>\n",
       "      <td>1933</td>\n",
       "      <td>47.7379</td>\n",
       "      <td>-122.233</td>\n",
       "      <td>2720</td>\n",
       "      <td>8062</td>\n",
       "      <td>10.323554</td>\n",
       "      <td>2.0</td>\n",
       "    </tr>\n",
       "    <tr>\n",
       "      <th>3</th>\n",
       "      <td>604000.0</td>\n",
       "      <td>4</td>\n",
       "      <td>3.00</td>\n",
       "      <td>1960</td>\n",
       "      <td>5000</td>\n",
       "      <td>1.0</td>\n",
       "      <td>1050</td>\n",
       "      <td>1965</td>\n",
       "      <td>47.5208</td>\n",
       "      <td>-122.393</td>\n",
       "      <td>1360</td>\n",
       "      <td>5000</td>\n",
       "      <td>6.427255</td>\n",
       "      <td>4.0</td>\n",
       "    </tr>\n",
       "    <tr>\n",
       "      <th>4</th>\n",
       "      <td>510000.0</td>\n",
       "      <td>3</td>\n",
       "      <td>2.00</td>\n",
       "      <td>1680</td>\n",
       "      <td>8080</td>\n",
       "      <td>1.0</td>\n",
       "      <td>1680</td>\n",
       "      <td>1987</td>\n",
       "      <td>47.6168</td>\n",
       "      <td>-122.045</td>\n",
       "      <td>1800</td>\n",
       "      <td>7503</td>\n",
       "      <td>13.504920</td>\n",
       "      <td>2.0</td>\n",
       "    </tr>\n",
       "  </tbody>\n",
       "</table>\n",
       "</div>"
      ],
      "text/plain": [
       "      price  bedrooms  bathrooms  sqft_living  sqft_lot  floors  sqft_above  \\\n",
       "0  221900.0         3       1.00         1180      5650     1.0        1180   \n",
       "1  538000.0         3       2.25         2570      7242     2.0        2170   \n",
       "2  180000.0         2       1.00          770     10000     1.0         770   \n",
       "3  604000.0         4       3.00         1960      5000     1.0        1050   \n",
       "4  510000.0         3       2.00         1680      8080     1.0        1680   \n",
       "\n",
       "   yr_built      lat     long  sqft_living15  sqft_lot15  \\\n",
       "0      1955  47.5112 -122.257           1340        5650   \n",
       "1      1951  47.7210 -122.319           1690        7639   \n",
       "2      1933  47.7379 -122.233           2720        8062   \n",
       "3      1965  47.5208 -122.393           1360        5000   \n",
       "4      1987  47.6168 -122.045           1800        7503   \n",
       "\n",
       "   Distance_from_DTSeattle    0  \n",
       "0                 7.418041  2.0  \n",
       "1                 8.046810  2.0  \n",
       "2                10.323554  2.0  \n",
       "3                 6.427255  4.0  \n",
       "4                13.504920  2.0  "
      ]
     },
     "execution_count": 142,
     "metadata": {},
     "output_type": "execute_result"
    }
   ],
   "source": [
    "# adding in ordinal encoded condition from above\n",
    "df_hd_ord_loc = pd.concat([df_hd_w_loc, cond_encoded], axis=1)\n",
    "df_hd_ord_loc.head()"
   ]
  },
  {
   "cell_type": "code",
   "execution_count": 143,
   "metadata": {},
   "outputs": [
    {
     "data": {
      "text/plain": [
       "(21190, 14)"
      ]
     },
     "execution_count": 143,
     "metadata": {},
     "output_type": "execute_result"
    }
   ],
   "source": [
    "# relevant numeric df (with price) and with ordinal encoded condition & loc\n",
    "df_hd_ord_loc.shape"
   ]
  },
  {
   "cell_type": "code",
   "execution_count": 144,
   "metadata": {},
   "outputs": [],
   "source": [
    "df_42 = df_hd_ord_loc.copy()"
   ]
  },
  {
   "cell_type": "code",
   "execution_count": 145,
   "metadata": {},
   "outputs": [
    {
     "data": {
      "text/plain": [
       "(20706, 14)"
      ]
     },
     "execution_count": 145,
     "metadata": {},
     "output_type": "execute_result"
    }
   ],
   "source": [
    "# now removing outlier high prices, as defined WAAAAAAY higher up in this JN\n",
    "df_hd_ord_loc_lp = df_42.drop(df_42[df_42['price'] >= upper_price].index)\n",
    "df_hd_ord_loc_lp.shape"
   ]
  },
  {
   "cell_type": "code",
   "execution_count": 146,
   "metadata": {},
   "outputs": [
    {
     "data": {
      "text/html": [
       "<div>\n",
       "<style scoped>\n",
       "    .dataframe tbody tr th:only-of-type {\n",
       "        vertical-align: middle;\n",
       "    }\n",
       "\n",
       "    .dataframe tbody tr th {\n",
       "        vertical-align: top;\n",
       "    }\n",
       "\n",
       "    .dataframe thead th {\n",
       "        text-align: right;\n",
       "    }\n",
       "</style>\n",
       "<table border=\"1\" class=\"dataframe\">\n",
       "  <thead>\n",
       "    <tr style=\"text-align: right;\">\n",
       "      <th></th>\n",
       "      <th>price</th>\n",
       "      <th>bedrooms</th>\n",
       "      <th>bathrooms</th>\n",
       "      <th>sqft_living</th>\n",
       "      <th>sqft_lot</th>\n",
       "      <th>floors</th>\n",
       "      <th>sqft_above</th>\n",
       "      <th>yr_built</th>\n",
       "      <th>lat</th>\n",
       "      <th>long</th>\n",
       "      <th>sqft_living15</th>\n",
       "      <th>sqft_lot15</th>\n",
       "      <th>Distance_from_DTSeattle</th>\n",
       "      <th>0</th>\n",
       "    </tr>\n",
       "  </thead>\n",
       "  <tbody>\n",
       "    <tr>\n",
       "      <th>0</th>\n",
       "      <td>221900.0</td>\n",
       "      <td>3</td>\n",
       "      <td>1.00</td>\n",
       "      <td>1180</td>\n",
       "      <td>5650</td>\n",
       "      <td>1.0</td>\n",
       "      <td>1180</td>\n",
       "      <td>1955</td>\n",
       "      <td>47.5112</td>\n",
       "      <td>-122.257</td>\n",
       "      <td>1340</td>\n",
       "      <td>5650</td>\n",
       "      <td>7.418041</td>\n",
       "      <td>2.0</td>\n",
       "    </tr>\n",
       "    <tr>\n",
       "      <th>1</th>\n",
       "      <td>538000.0</td>\n",
       "      <td>3</td>\n",
       "      <td>2.25</td>\n",
       "      <td>2570</td>\n",
       "      <td>7242</td>\n",
       "      <td>2.0</td>\n",
       "      <td>2170</td>\n",
       "      <td>1951</td>\n",
       "      <td>47.7210</td>\n",
       "      <td>-122.319</td>\n",
       "      <td>1690</td>\n",
       "      <td>7639</td>\n",
       "      <td>8.046810</td>\n",
       "      <td>2.0</td>\n",
       "    </tr>\n",
       "    <tr>\n",
       "      <th>2</th>\n",
       "      <td>180000.0</td>\n",
       "      <td>2</td>\n",
       "      <td>1.00</td>\n",
       "      <td>770</td>\n",
       "      <td>10000</td>\n",
       "      <td>1.0</td>\n",
       "      <td>770</td>\n",
       "      <td>1933</td>\n",
       "      <td>47.7379</td>\n",
       "      <td>-122.233</td>\n",
       "      <td>2720</td>\n",
       "      <td>8062</td>\n",
       "      <td>10.323554</td>\n",
       "      <td>2.0</td>\n",
       "    </tr>\n",
       "    <tr>\n",
       "      <th>3</th>\n",
       "      <td>604000.0</td>\n",
       "      <td>4</td>\n",
       "      <td>3.00</td>\n",
       "      <td>1960</td>\n",
       "      <td>5000</td>\n",
       "      <td>1.0</td>\n",
       "      <td>1050</td>\n",
       "      <td>1965</td>\n",
       "      <td>47.5208</td>\n",
       "      <td>-122.393</td>\n",
       "      <td>1360</td>\n",
       "      <td>5000</td>\n",
       "      <td>6.427255</td>\n",
       "      <td>4.0</td>\n",
       "    </tr>\n",
       "    <tr>\n",
       "      <th>4</th>\n",
       "      <td>510000.0</td>\n",
       "      <td>3</td>\n",
       "      <td>2.00</td>\n",
       "      <td>1680</td>\n",
       "      <td>8080</td>\n",
       "      <td>1.0</td>\n",
       "      <td>1680</td>\n",
       "      <td>1987</td>\n",
       "      <td>47.6168</td>\n",
       "      <td>-122.045</td>\n",
       "      <td>1800</td>\n",
       "      <td>7503</td>\n",
       "      <td>13.504920</td>\n",
       "      <td>2.0</td>\n",
       "    </tr>\n",
       "  </tbody>\n",
       "</table>\n",
       "</div>"
      ],
      "text/plain": [
       "      price  bedrooms  bathrooms  sqft_living  sqft_lot  floors  sqft_above  \\\n",
       "0  221900.0         3       1.00         1180      5650     1.0        1180   \n",
       "1  538000.0         3       2.25         2570      7242     2.0        2170   \n",
       "2  180000.0         2       1.00          770     10000     1.0         770   \n",
       "3  604000.0         4       3.00         1960      5000     1.0        1050   \n",
       "4  510000.0         3       2.00         1680      8080     1.0        1680   \n",
       "\n",
       "   yr_built      lat     long  sqft_living15  sqft_lot15  \\\n",
       "0      1955  47.5112 -122.257           1340        5650   \n",
       "1      1951  47.7210 -122.319           1690        7639   \n",
       "2      1933  47.7379 -122.233           2720        8062   \n",
       "3      1965  47.5208 -122.393           1360        5000   \n",
       "4      1987  47.6168 -122.045           1800        7503   \n",
       "\n",
       "   Distance_from_DTSeattle    0  \n",
       "0                 7.418041  2.0  \n",
       "1                 8.046810  2.0  \n",
       "2                10.323554  2.0  \n",
       "3                 6.427255  4.0  \n",
       "4                13.504920  2.0  "
      ]
     },
     "execution_count": 146,
     "metadata": {},
     "output_type": "execute_result"
    }
   ],
   "source": [
    "df_hd_ord_loc_lp.head()"
   ]
  },
  {
   "cell_type": "code",
   "execution_count": 147,
   "metadata": {},
   "outputs": [
    {
     "data": {
      "text/plain": [
       "484"
      ]
     },
     "execution_count": 147,
     "metadata": {},
     "output_type": "execute_result"
    }
   ],
   "source": [
    "# same 499 values removed as before\n",
    "df_hd_ord_loc.shape[0] - df_hd_ord_loc_lp.shape[0]"
   ]
  },
  {
   "cell_type": "code",
   "execution_count": 148,
   "metadata": {},
   "outputs": [],
   "source": [
    "df_x_drop = df_hd_ord_loc_lp.drop(['price', 'lat', 'long'], axis=1)"
   ]
  },
  {
   "cell_type": "code",
   "execution_count": 149,
   "metadata": {},
   "outputs": [],
   "source": [
    "ss_ords_loc_lp = StandardScaler().fit(df_x_drop)\n",
    "df_hd_ord_loc_lp_scaled = ss_ords_loc_lp.transform(df_x_drop)"
   ]
  },
  {
   "cell_type": "code",
   "execution_count": 150,
   "metadata": {},
   "outputs": [],
   "source": [
    "df_hd_ord_loc_lp_scaled = pd.DataFrame(df_hd_ord_loc_lp_scaled, columns=df_x_drop.columns)"
   ]
  },
  {
   "cell_type": "code",
   "execution_count": 151,
   "metadata": {},
   "outputs": [
    {
     "data": {
      "text/html": [
       "<div>\n",
       "<style scoped>\n",
       "    .dataframe tbody tr th:only-of-type {\n",
       "        vertical-align: middle;\n",
       "    }\n",
       "\n",
       "    .dataframe tbody tr th {\n",
       "        vertical-align: top;\n",
       "    }\n",
       "\n",
       "    .dataframe thead th {\n",
       "        text-align: right;\n",
       "    }\n",
       "</style>\n",
       "<table border=\"1\" class=\"dataframe\">\n",
       "  <thead>\n",
       "    <tr style=\"text-align: right;\">\n",
       "      <th></th>\n",
       "      <th>bedrooms</th>\n",
       "      <th>bathrooms</th>\n",
       "      <th>sqft_living</th>\n",
       "      <th>sqft_lot</th>\n",
       "      <th>floors</th>\n",
       "      <th>sqft_above</th>\n",
       "      <th>yr_built</th>\n",
       "      <th>sqft_living15</th>\n",
       "      <th>sqft_lot15</th>\n",
       "      <th>Distance_from_DTSeattle</th>\n",
       "      <th>0</th>\n",
       "    </tr>\n",
       "  </thead>\n",
       "  <tbody>\n",
       "    <tr>\n",
       "      <th>0</th>\n",
       "      <td>-0.394651</td>\n",
       "      <td>-1.476516</td>\n",
       "      <td>-1.019630</td>\n",
       "      <td>-0.228544</td>\n",
       "      <td>-0.899855</td>\n",
       "      <td>-0.733885</td>\n",
       "      <td>-0.534288</td>\n",
       "      <td>-0.939480</td>\n",
       "      <td>-0.408880</td>\n",
       "      <td>-0.617686</td>\n",
       "      <td>-0.629674</td>\n",
       "    </tr>\n",
       "    <tr>\n",
       "      <th>1</th>\n",
       "      <td>-0.394651</td>\n",
       "      <td>0.234996</td>\n",
       "      <td>0.681593</td>\n",
       "      <td>-0.165769</td>\n",
       "      <td>0.956054</td>\n",
       "      <td>0.577850</td>\n",
       "      <td>-0.670448</td>\n",
       "      <td>-0.397470</td>\n",
       "      <td>-0.197370</td>\n",
       "      <td>-0.521117</td>\n",
       "      <td>-0.629674</td>\n",
       "    </tr>\n",
       "    <tr>\n",
       "      <th>2</th>\n",
       "      <td>-1.511454</td>\n",
       "      <td>-1.476516</td>\n",
       "      <td>-1.521430</td>\n",
       "      <td>-0.057017</td>\n",
       "      <td>-0.899855</td>\n",
       "      <td>-1.277128</td>\n",
       "      <td>-1.283167</td>\n",
       "      <td>1.197590</td>\n",
       "      <td>-0.152388</td>\n",
       "      <td>-0.171442</td>\n",
       "      <td>-0.629674</td>\n",
       "    </tr>\n",
       "    <tr>\n",
       "      <th>3</th>\n",
       "      <td>0.722152</td>\n",
       "      <td>1.261903</td>\n",
       "      <td>-0.064987</td>\n",
       "      <td>-0.254174</td>\n",
       "      <td>-0.899855</td>\n",
       "      <td>-0.906133</td>\n",
       "      <td>-0.193889</td>\n",
       "      <td>-0.908508</td>\n",
       "      <td>-0.478001</td>\n",
       "      <td>-0.769856</td>\n",
       "      <td>2.451146</td>\n",
       "    </tr>\n",
       "    <tr>\n",
       "      <th>4</th>\n",
       "      <td>-0.394651</td>\n",
       "      <td>-0.107306</td>\n",
       "      <td>-0.407679</td>\n",
       "      <td>-0.132725</td>\n",
       "      <td>-0.899855</td>\n",
       "      <td>-0.071392</td>\n",
       "      <td>0.554989</td>\n",
       "      <td>-0.227123</td>\n",
       "      <td>-0.211832</td>\n",
       "      <td>0.317169</td>\n",
       "      <td>-0.629674</td>\n",
       "    </tr>\n",
       "  </tbody>\n",
       "</table>\n",
       "</div>"
      ],
      "text/plain": [
       "   bedrooms  bathrooms  sqft_living  sqft_lot    floors  sqft_above  yr_built  \\\n",
       "0 -0.394651  -1.476516    -1.019630 -0.228544 -0.899855   -0.733885 -0.534288   \n",
       "1 -0.394651   0.234996     0.681593 -0.165769  0.956054    0.577850 -0.670448   \n",
       "2 -1.511454  -1.476516    -1.521430 -0.057017 -0.899855   -1.277128 -1.283167   \n",
       "3  0.722152   1.261903    -0.064987 -0.254174 -0.899855   -0.906133 -0.193889   \n",
       "4 -0.394651  -0.107306    -0.407679 -0.132725 -0.899855   -0.071392  0.554989   \n",
       "\n",
       "   sqft_living15  sqft_lot15  Distance_from_DTSeattle         0  \n",
       "0      -0.939480   -0.408880                -0.617686 -0.629674  \n",
       "1      -0.397470   -0.197370                -0.521117 -0.629674  \n",
       "2       1.197590   -0.152388                -0.171442 -0.629674  \n",
       "3      -0.908508   -0.478001                -0.769856  2.451146  \n",
       "4      -0.227123   -0.211832                 0.317169 -0.629674  "
      ]
     },
     "execution_count": 151,
     "metadata": {},
     "output_type": "execute_result"
    }
   ],
   "source": [
    "df_hd_ord_loc_lp_scaled.head()"
   ]
  },
  {
   "cell_type": "code",
   "execution_count": 152,
   "metadata": {},
   "outputs": [],
   "source": [
    "df_hd_ord_loc_lp_c = sm.add_constant(df_hd_ord_loc_lp_scaled)\n",
    "y = df_hd_ord_loc_lp['price'].reset_index(drop=True)"
   ]
  },
  {
   "cell_type": "code",
   "execution_count": 153,
   "metadata": {},
   "outputs": [
    {
     "data": {
      "text/html": [
       "<div>\n",
       "<style scoped>\n",
       "    .dataframe tbody tr th:only-of-type {\n",
       "        vertical-align: middle;\n",
       "    }\n",
       "\n",
       "    .dataframe tbody tr th {\n",
       "        vertical-align: top;\n",
       "    }\n",
       "\n",
       "    .dataframe thead th {\n",
       "        text-align: right;\n",
       "    }\n",
       "</style>\n",
       "<table border=\"1\" class=\"dataframe\">\n",
       "  <thead>\n",
       "    <tr style=\"text-align: right;\">\n",
       "      <th></th>\n",
       "      <th>const</th>\n",
       "      <th>bedrooms</th>\n",
       "      <th>bathrooms</th>\n",
       "      <th>sqft_living</th>\n",
       "      <th>sqft_lot</th>\n",
       "      <th>floors</th>\n",
       "      <th>sqft_above</th>\n",
       "      <th>yr_built</th>\n",
       "      <th>sqft_living15</th>\n",
       "      <th>sqft_lot15</th>\n",
       "      <th>Distance_from_DTSeattle</th>\n",
       "      <th>0</th>\n",
       "    </tr>\n",
       "  </thead>\n",
       "  <tbody>\n",
       "    <tr>\n",
       "      <th>0</th>\n",
       "      <td>1.0</td>\n",
       "      <td>-0.394651</td>\n",
       "      <td>-1.476516</td>\n",
       "      <td>-1.019630</td>\n",
       "      <td>-0.228544</td>\n",
       "      <td>-0.899855</td>\n",
       "      <td>-0.733885</td>\n",
       "      <td>-0.534288</td>\n",
       "      <td>-0.939480</td>\n",
       "      <td>-0.408880</td>\n",
       "      <td>-0.617686</td>\n",
       "      <td>-0.629674</td>\n",
       "    </tr>\n",
       "    <tr>\n",
       "      <th>1</th>\n",
       "      <td>1.0</td>\n",
       "      <td>-0.394651</td>\n",
       "      <td>0.234996</td>\n",
       "      <td>0.681593</td>\n",
       "      <td>-0.165769</td>\n",
       "      <td>0.956054</td>\n",
       "      <td>0.577850</td>\n",
       "      <td>-0.670448</td>\n",
       "      <td>-0.397470</td>\n",
       "      <td>-0.197370</td>\n",
       "      <td>-0.521117</td>\n",
       "      <td>-0.629674</td>\n",
       "    </tr>\n",
       "    <tr>\n",
       "      <th>2</th>\n",
       "      <td>1.0</td>\n",
       "      <td>-1.511454</td>\n",
       "      <td>-1.476516</td>\n",
       "      <td>-1.521430</td>\n",
       "      <td>-0.057017</td>\n",
       "      <td>-0.899855</td>\n",
       "      <td>-1.277128</td>\n",
       "      <td>-1.283167</td>\n",
       "      <td>1.197590</td>\n",
       "      <td>-0.152388</td>\n",
       "      <td>-0.171442</td>\n",
       "      <td>-0.629674</td>\n",
       "    </tr>\n",
       "    <tr>\n",
       "      <th>3</th>\n",
       "      <td>1.0</td>\n",
       "      <td>0.722152</td>\n",
       "      <td>1.261903</td>\n",
       "      <td>-0.064987</td>\n",
       "      <td>-0.254174</td>\n",
       "      <td>-0.899855</td>\n",
       "      <td>-0.906133</td>\n",
       "      <td>-0.193889</td>\n",
       "      <td>-0.908508</td>\n",
       "      <td>-0.478001</td>\n",
       "      <td>-0.769856</td>\n",
       "      <td>2.451146</td>\n",
       "    </tr>\n",
       "    <tr>\n",
       "      <th>4</th>\n",
       "      <td>1.0</td>\n",
       "      <td>-0.394651</td>\n",
       "      <td>-0.107306</td>\n",
       "      <td>-0.407679</td>\n",
       "      <td>-0.132725</td>\n",
       "      <td>-0.899855</td>\n",
       "      <td>-0.071392</td>\n",
       "      <td>0.554989</td>\n",
       "      <td>-0.227123</td>\n",
       "      <td>-0.211832</td>\n",
       "      <td>0.317169</td>\n",
       "      <td>-0.629674</td>\n",
       "    </tr>\n",
       "  </tbody>\n",
       "</table>\n",
       "</div>"
      ],
      "text/plain": [
       "   const  bedrooms  bathrooms  sqft_living  sqft_lot    floors  sqft_above  \\\n",
       "0    1.0 -0.394651  -1.476516    -1.019630 -0.228544 -0.899855   -0.733885   \n",
       "1    1.0 -0.394651   0.234996     0.681593 -0.165769  0.956054    0.577850   \n",
       "2    1.0 -1.511454  -1.476516    -1.521430 -0.057017 -0.899855   -1.277128   \n",
       "3    1.0  0.722152   1.261903    -0.064987 -0.254174 -0.899855   -0.906133   \n",
       "4    1.0 -0.394651  -0.107306    -0.407679 -0.132725 -0.899855   -0.071392   \n",
       "\n",
       "   yr_built  sqft_living15  sqft_lot15  Distance_from_DTSeattle         0  \n",
       "0 -0.534288      -0.939480   -0.408880                -0.617686 -0.629674  \n",
       "1 -0.670448      -0.397470   -0.197370                -0.521117 -0.629674  \n",
       "2 -1.283167       1.197590   -0.152388                -0.171442 -0.629674  \n",
       "3 -0.193889      -0.908508   -0.478001                -0.769856  2.451146  \n",
       "4  0.554989      -0.227123   -0.211832                 0.317169 -0.629674  "
      ]
     },
     "execution_count": 153,
     "metadata": {},
     "output_type": "execute_result"
    }
   ],
   "source": [
    "df_hd_ord_loc_lp_c.head()"
   ]
  },
  {
   "cell_type": "code",
   "execution_count": 154,
   "metadata": {},
   "outputs": [],
   "source": [
    "model_num_ords_loc_lp = sm.OLS(endog=y, exog=df_hd_ord_loc_lp_c).fit()"
   ]
  },
  {
   "cell_type": "code",
   "execution_count": 155,
   "metadata": {},
   "outputs": [
    {
     "data": {
      "text/html": [
       "<table class=\"simpletable\">\n",
       "<caption>OLS Regression Results</caption>\n",
       "<tr>\n",
       "  <th>Dep. Variable:</th>          <td>price</td>      <th>  R-squared:         </th>  <td>   0.660</td>  \n",
       "</tr>\n",
       "<tr>\n",
       "  <th>Model:</th>                   <td>OLS</td>       <th>  Adj. R-squared:    </th>  <td>   0.660</td>  \n",
       "</tr>\n",
       "<tr>\n",
       "  <th>Method:</th>             <td>Least Squares</td>  <th>  F-statistic:       </th>  <td>   3648.</td>  \n",
       "</tr>\n",
       "<tr>\n",
       "  <th>Date:</th>             <td>Thu, 27 Oct 2022</td> <th>  Prob (F-statistic):</th>   <td>  0.00</td>   \n",
       "</tr>\n",
       "<tr>\n",
       "  <th>Time:</th>                 <td>11:02:57</td>     <th>  Log-Likelihood:    </th> <td>-2.7556e+05</td>\n",
       "</tr>\n",
       "<tr>\n",
       "  <th>No. Observations:</th>      <td> 20706</td>      <th>  AIC:               </th>  <td>5.511e+05</td> \n",
       "</tr>\n",
       "<tr>\n",
       "  <th>Df Residuals:</th>          <td> 20694</td>      <th>  BIC:               </th>  <td>5.512e+05</td> \n",
       "</tr>\n",
       "<tr>\n",
       "  <th>Df Model:</th>              <td>    11</td>      <th>                     </th>      <td> </td>     \n",
       "</tr>\n",
       "<tr>\n",
       "  <th>Covariance Type:</th>      <td>nonrobust</td>    <th>                     </th>      <td> </td>     \n",
       "</tr>\n",
       "</table>\n",
       "<table class=\"simpletable\">\n",
       "<tr>\n",
       "             <td></td>                <th>coef</th>     <th>std err</th>      <th>t</th>      <th>P>|t|</th>  <th>[0.025</th>    <th>0.975]</th>  \n",
       "</tr>\n",
       "<tr>\n",
       "  <th>const</th>                   <td> 5.009e+05</td> <td> 1012.920</td> <td>  494.472</td> <td> 0.000</td> <td> 4.99e+05</td> <td> 5.03e+05</td>\n",
       "</tr>\n",
       "<tr>\n",
       "  <th>bedrooms</th>                <td> -2.55e+04</td> <td> 1313.580</td> <td>  -19.410</td> <td> 0.000</td> <td>-2.81e+04</td> <td>-2.29e+04</td>\n",
       "</tr>\n",
       "<tr>\n",
       "  <th>bathrooms</th>               <td> 2.824e+04</td> <td> 1776.633</td> <td>   15.897</td> <td> 0.000</td> <td> 2.48e+04</td> <td> 3.17e+04</td>\n",
       "</tr>\n",
       "<tr>\n",
       "  <th>sqft_living</th>             <td> 9.364e+04</td> <td> 2729.695</td> <td>   34.305</td> <td> 0.000</td> <td> 8.83e+04</td> <td>  9.9e+04</td>\n",
       "</tr>\n",
       "<tr>\n",
       "  <th>sqft_lot</th>                <td> 7705.1643</td> <td> 1204.682</td> <td>    6.396</td> <td> 0.000</td> <td> 5343.892</td> <td> 1.01e+04</td>\n",
       "</tr>\n",
       "<tr>\n",
       "  <th>floors</th>                  <td> 1.136e+04</td> <td> 1477.452</td> <td>    7.687</td> <td> 0.000</td> <td> 8461.883</td> <td> 1.43e+04</td>\n",
       "</tr>\n",
       "<tr>\n",
       "  <th>sqft_above</th>              <td> 3.131e+04</td> <td> 2514.561</td> <td>   12.453</td> <td> 0.000</td> <td> 2.64e+04</td> <td> 3.62e+04</td>\n",
       "</tr>\n",
       "<tr>\n",
       "  <th>yr_built</th>                <td>-2.545e+04</td> <td> 1486.938</td> <td>  -17.117</td> <td> 0.000</td> <td>-2.84e+04</td> <td>-2.25e+04</td>\n",
       "</tr>\n",
       "<tr>\n",
       "  <th>sqft_living15</th>           <td> 7.106e+04</td> <td> 1630.674</td> <td>   43.577</td> <td> 0.000</td> <td> 6.79e+04</td> <td> 7.43e+04</td>\n",
       "</tr>\n",
       "<tr>\n",
       "  <th>sqft_lot15</th>              <td> 8212.3265</td> <td> 1310.788</td> <td>    6.265</td> <td> 0.000</td> <td> 5643.080</td> <td> 1.08e+04</td>\n",
       "</tr>\n",
       "<tr>\n",
       "  <th>Distance_from_DTSeattle</th> <td>-1.057e+05</td> <td> 1240.201</td> <td>  -85.243</td> <td> 0.000</td> <td>-1.08e+05</td> <td>-1.03e+05</td>\n",
       "</tr>\n",
       "<tr>\n",
       "  <th>0</th>                       <td> 1.987e+04</td> <td> 1107.209</td> <td>   17.949</td> <td> 0.000</td> <td> 1.77e+04</td> <td>  2.2e+04</td>\n",
       "</tr>\n",
       "</table>\n",
       "<table class=\"simpletable\">\n",
       "<tr>\n",
       "  <th>Omnibus:</th>       <td>3143.501</td> <th>  Durbin-Watson:     </th> <td>   2.008</td>\n",
       "</tr>\n",
       "<tr>\n",
       "  <th>Prob(Omnibus):</th>  <td> 0.000</td>  <th>  Jarque-Bera (JB):  </th> <td>7890.303</td>\n",
       "</tr>\n",
       "<tr>\n",
       "  <th>Skew:</th>           <td> 0.855</td>  <th>  Prob(JB):          </th> <td>    0.00</td>\n",
       "</tr>\n",
       "<tr>\n",
       "  <th>Kurtosis:</th>       <td> 5.494</td>  <th>  Cond. No.          </th> <td>    7.23</td>\n",
       "</tr>\n",
       "</table><br/><br/>Notes:<br/>[1] Standard Errors assume that the covariance matrix of the errors is correctly specified."
      ],
      "text/plain": [
       "<class 'statsmodels.iolib.summary.Summary'>\n",
       "\"\"\"\n",
       "                            OLS Regression Results                            \n",
       "==============================================================================\n",
       "Dep. Variable:                  price   R-squared:                       0.660\n",
       "Model:                            OLS   Adj. R-squared:                  0.660\n",
       "Method:                 Least Squares   F-statistic:                     3648.\n",
       "Date:                Thu, 27 Oct 2022   Prob (F-statistic):               0.00\n",
       "Time:                        11:02:57   Log-Likelihood:            -2.7556e+05\n",
       "No. Observations:               20706   AIC:                         5.511e+05\n",
       "Df Residuals:                   20694   BIC:                         5.512e+05\n",
       "Df Model:                          11                                         \n",
       "Covariance Type:            nonrobust                                         \n",
       "===========================================================================================\n",
       "                              coef    std err          t      P>|t|      [0.025      0.975]\n",
       "-------------------------------------------------------------------------------------------\n",
       "const                    5.009e+05   1012.920    494.472      0.000    4.99e+05    5.03e+05\n",
       "bedrooms                 -2.55e+04   1313.580    -19.410      0.000   -2.81e+04   -2.29e+04\n",
       "bathrooms                2.824e+04   1776.633     15.897      0.000    2.48e+04    3.17e+04\n",
       "sqft_living              9.364e+04   2729.695     34.305      0.000    8.83e+04     9.9e+04\n",
       "sqft_lot                 7705.1643   1204.682      6.396      0.000    5343.892    1.01e+04\n",
       "floors                   1.136e+04   1477.452      7.687      0.000    8461.883    1.43e+04\n",
       "sqft_above               3.131e+04   2514.561     12.453      0.000    2.64e+04    3.62e+04\n",
       "yr_built                -2.545e+04   1486.938    -17.117      0.000   -2.84e+04   -2.25e+04\n",
       "sqft_living15            7.106e+04   1630.674     43.577      0.000    6.79e+04    7.43e+04\n",
       "sqft_lot15               8212.3265   1310.788      6.265      0.000    5643.080    1.08e+04\n",
       "Distance_from_DTSeattle -1.057e+05   1240.201    -85.243      0.000   -1.08e+05   -1.03e+05\n",
       "0                        1.987e+04   1107.209     17.949      0.000    1.77e+04     2.2e+04\n",
       "==============================================================================\n",
       "Omnibus:                     3143.501   Durbin-Watson:                   2.008\n",
       "Prob(Omnibus):                  0.000   Jarque-Bera (JB):             7890.303\n",
       "Skew:                           0.855   Prob(JB):                         0.00\n",
       "Kurtosis:                       5.494   Cond. No.                         7.23\n",
       "==============================================================================\n",
       "\n",
       "Notes:\n",
       "[1] Standard Errors assume that the covariance matrix of the errors is correctly specified.\n",
       "\"\"\""
      ]
     },
     "execution_count": 155,
     "metadata": {},
     "output_type": "execute_result"
    }
   ],
   "source": [
    "# all numerics (- irrelevant), + distance to Seattle, +ordinal encoding\n",
    "model_num_ords_loc_lp.summary()"
   ]
  },
  {
   "cell_type": "code",
   "execution_count": 156,
   "metadata": {},
   "outputs": [
    {
     "data": {
      "text/plain": [
       "const                      500860.495122\n",
       "bedrooms                   -25496.715269\n",
       "bathrooms                   28242.803869\n",
       "sqft_living                 93643.025790\n",
       "sqft_lot                     7705.164336\n",
       "floors                      11357.805822\n",
       "sqft_above                  31314.936617\n",
       "yr_built                   -25451.405942\n",
       "sqft_living15               71059.359390\n",
       "sqft_lot15                   8212.326469\n",
       "Distance_from_DTSeattle   -105719.038873\n",
       "0                           19872.912768\n",
       "dtype: float64"
      ]
     },
     "execution_count": 156,
     "metadata": {},
     "output_type": "execute_result"
    }
   ],
   "source": [
    "# coefficients from above model\n",
    "model_num_ords_loc_lp.params"
   ]
  },
  {
   "cell_type": "code",
   "execution_count": 157,
   "metadata": {},
   "outputs": [
    {
     "data": {
      "text/plain": [
       "[<matplotlib.lines.Line2D at 0x1ec0af9bcd0>]"
      ]
     },
     "execution_count": 157,
     "metadata": {},
     "output_type": "execute_result"
    },
    {
     "data": {
      "image/png": "[encoded data removed]",
      "text/plain": [
       "<Figure size 432x288 with 1 Axes>"
      ]
     },
     "metadata": {
      "needs_background": "light"
     },
     "output_type": "display_data"
    }
   ],
   "source": [
    "model_preds_num_ords_loc_lp = model_num_ords_loc_lp.predict(df_hd_ord_loc_lp_c)\n",
    "resids_num_ords_loc_lp = y - model_preds_num_ords_loc_lp\n",
    "\n",
    "# fig, ax = plt.subplots()\n",
    "\n",
    "x=model_preds_num_ords_loc_lp\n",
    "y=resids_num_ords_loc_lp\n",
    "\n",
    "# ax.scatter(model_preds_num_ords_loc_lp, resids_num_ords_loc_lp)\n",
    "plt.plot(x,y, \"o\")\n",
    "m, b = np.polyfit(x, y, 1)\n",
    "plt.plot(x, m*x+b)\n",
    "\n",
    "# ax.set_xlabel('predictions')\n",
    "# ax.set_ylabel('residual')\n",
    "# plt.suptitle('Residuals Vs. Predictions');"
   ]
  },
  {
   "cell_type": "code",
   "execution_count": 158,
   "metadata": {},
   "outputs": [
    {
     "data": {
      "image/png": "[encoded data removed]",
      "text/plain": [
       "<Figure size 432x288 with 1 Axes>"
      ]
     },
     "metadata": {
      "needs_background": "light"
     },
     "output_type": "display_data"
    }
   ],
   "source": [
    "# second scatterplot for independence\n",
    "\n",
    "fig, ax = plt.subplots()\n",
    "\n",
    "ax.scatter(y, resids_num_ords_loc_lp);"
   ]
  },
  {
   "cell_type": "code",
   "execution_count": 159,
   "metadata": {},
   "outputs": [
    {
     "data": {
      "image/png": "[encoded data removed]",
      "text/plain": [
       "<Figure size 432x288 with 1 Axes>"
      ]
     },
     "metadata": {
      "needs_background": "light"
     },
     "output_type": "display_data"
    }
   ],
   "source": [
    "# creating histogram of residuals (errors) to check if errors are normally distributed, which they appear to be\n",
    "\n",
    "resids_num_ords_loc_lp.hist(bins=50);"
   ]
  },
  {
   "cell_type": "code",
   "execution_count": 160,
   "metadata": {},
   "outputs": [
    {
     "data": {
      "image/png": "[encoded data removed]",
      "text/plain": [
       "<Figure size 432x288 with 1 Axes>"
      ]
     },
     "metadata": {
      "needs_background": "light"
     },
     "output_type": "display_data"
    }
   ],
   "source": [
    "sm.qqplot(resids_num_ords_loc_lp, line='r');"
   ]
  },
  {
   "cell_type": "code",
   "execution_count": null,
   "metadata": {},
   "outputs": [],
   "source": []
  },
  {
   "cell_type": "code",
   "execution_count": 166,
   "metadata": {},
   "outputs": [
    {
     "data": {
      "text/html": [
       "<table class=\"simpletable\">\n",
       "<caption>OLS Regression Results</caption>\n",
       "<tr>\n",
       "  <th>Dep. Variable:</th>          <td>price</td>      <th>  R-squared:         </th>  <td>   0.627</td>  \n",
       "</tr>\n",
       "<tr>\n",
       "  <th>Model:</th>                   <td>OLS</td>       <th>  Adj. R-squared:    </th>  <td>   0.627</td>  \n",
       "</tr>\n",
       "<tr>\n",
       "  <th>Method:</th>             <td>Least Squares</td>  <th>  F-statistic:       </th>  <td>   2966.</td>  \n",
       "</tr>\n",
       "<tr>\n",
       "  <th>Date:</th>             <td>Thu, 27 Oct 2022</td> <th>  Prob (F-statistic):</th>   <td>  0.00</td>   \n",
       "</tr>\n",
       "<tr>\n",
       "  <th>Time:</th>                 <td>11:02:59</td>     <th>  Log-Likelihood:    </th> <td>-2.9116e+05</td>\n",
       "</tr>\n",
       "<tr>\n",
       "  <th>No. Observations:</th>      <td> 21190</td>      <th>  AIC:               </th>  <td>5.824e+05</td> \n",
       "</tr>\n",
       "<tr>\n",
       "  <th>Df Residuals:</th>          <td> 21177</td>      <th>  BIC:               </th>  <td>5.825e+05</td> \n",
       "</tr>\n",
       "<tr>\n",
       "  <th>Df Model:</th>              <td>    12</td>      <th>                     </th>      <td> </td>     \n",
       "</tr>\n",
       "<tr>\n",
       "  <th>Covariance Type:</th>      <td>nonrobust</td>    <th>                     </th>      <td> </td>     \n",
       "</tr>\n",
       "</table>"
      ],
      "text/plain": [
       "<class 'statsmodels.iolib.table.SimpleTable'>"
      ]
     },
     "execution_count": 166,
     "metadata": {},
     "output_type": "execute_result"
    }
   ],
   "source": [
    "# upper portion of table with ALL prices in, and no LOC\n",
    "model_num_ords.summary().tables[0]"
   ]
  },
  {
   "cell_type": "code",
   "execution_count": 167,
   "metadata": {},
   "outputs": [
    {
     "data": {
      "text/html": [
       "<table class=\"simpletable\">\n",
       "<caption>OLS Regression Results</caption>\n",
       "<tr>\n",
       "  <th>Dep. Variable:</th>          <td>price</td>      <th>  R-squared:         </th>  <td>   0.660</td>  \n",
       "</tr>\n",
       "<tr>\n",
       "  <th>Model:</th>                   <td>OLS</td>       <th>  Adj. R-squared:    </th>  <td>   0.660</td>  \n",
       "</tr>\n",
       "<tr>\n",
       "  <th>Method:</th>             <td>Least Squares</td>  <th>  F-statistic:       </th>  <td>   3648.</td>  \n",
       "</tr>\n",
       "<tr>\n",
       "  <th>Date:</th>             <td>Thu, 27 Oct 2022</td> <th>  Prob (F-statistic):</th>   <td>  0.00</td>   \n",
       "</tr>\n",
       "<tr>\n",
       "  <th>Time:</th>                 <td>11:02:59</td>     <th>  Log-Likelihood:    </th> <td>-2.7556e+05</td>\n",
       "</tr>\n",
       "<tr>\n",
       "  <th>No. Observations:</th>      <td> 20706</td>      <th>  AIC:               </th>  <td>5.511e+05</td> \n",
       "</tr>\n",
       "<tr>\n",
       "  <th>Df Residuals:</th>          <td> 20694</td>      <th>  BIC:               </th>  <td>5.512e+05</td> \n",
       "</tr>\n",
       "<tr>\n",
       "  <th>Df Model:</th>              <td>    11</td>      <th>                     </th>      <td> </td>     \n",
       "</tr>\n",
       "<tr>\n",
       "  <th>Covariance Type:</th>      <td>nonrobust</td>    <th>                     </th>      <td> </td>     \n",
       "</tr>\n",
       "</table>"
      ],
      "text/plain": [
       "<class 'statsmodels.iolib.table.SimpleTable'>"
      ]
     },
     "execution_count": 167,
     "metadata": {},
     "output_type": "execute_result"
    }
   ],
   "source": [
    "# most recent model, removed outlier prices and added LOC\n",
    "model_num_ords_loc_lp.summary().tables[0]"
   ]
  },
  {
   "cell_type": "code",
   "execution_count": 168,
   "metadata": {},
   "outputs": [
    {
     "data": {
      "text/html": [
       "<table class=\"simpletable\">\n",
       "<tr>\n",
       "        <td></td>           <th>coef</th>     <th>std err</th>      <th>t</th>      <th>P>|t|</th>  <th>[0.025</th>    <th>0.975]</th>  \n",
       "</tr>\n",
       "<tr>\n",
       "  <th>const</th>         <td> 5.387e+05</td> <td> 1542.707</td> <td>  349.196</td> <td> 0.000</td> <td> 5.36e+05</td> <td> 5.42e+05</td>\n",
       "</tr>\n",
       "<tr>\n",
       "  <th>bedrooms</th>      <td>-5.859e+04</td> <td> 1981.877</td> <td>  -29.561</td> <td> 0.000</td> <td>-6.25e+04</td> <td>-5.47e+04</td>\n",
       "</tr>\n",
       "<tr>\n",
       "  <th>bathrooms</th>     <td> 4.769e+04</td> <td> 2790.146</td> <td>   17.091</td> <td> 0.000</td> <td> 4.22e+04</td> <td> 5.32e+04</td>\n",
       "</tr>\n",
       "<tr>\n",
       "  <th>sqft_living</th>   <td> 2.075e+05</td> <td> 4367.446</td> <td>   47.505</td> <td> 0.000</td> <td> 1.99e+05</td> <td> 2.16e+05</td>\n",
       "</tr>\n",
       "<tr>\n",
       "  <th>sqft_lot</th>      <td> 2385.6908</td> <td> 1841.738</td> <td>    1.295</td> <td> 0.195</td> <td>-1224.255</td> <td> 5995.636</td>\n",
       "</tr>\n",
       "<tr>\n",
       "  <th>floors</th>        <td> 1.182e+04</td> <td> 2198.981</td> <td>    5.374</td> <td> 0.000</td> <td> 7506.897</td> <td> 1.61e+04</td>\n",
       "</tr>\n",
       "<tr>\n",
       "  <th>sqft_above</th>    <td>  2.92e+04</td> <td> 3957.672</td> <td>    7.379</td> <td> 0.000</td> <td> 2.14e+04</td> <td>  3.7e+04</td>\n",
       "</tr>\n",
       "<tr>\n",
       "  <th>yr_built</th>      <td>-6.638e+04</td> <td> 2194.292</td> <td>  -30.250</td> <td> 0.000</td> <td>-7.07e+04</td> <td>-6.21e+04</td>\n",
       "</tr>\n",
       "<tr>\n",
       "  <th>lat</th>           <td> 8.223e+04</td> <td> 1605.066</td> <td>   51.233</td> <td> 0.000</td> <td> 7.91e+04</td> <td> 8.54e+04</td>\n",
       "</tr>\n",
       "<tr>\n",
       "  <th>long</th>          <td>-3.346e+04</td> <td> 1865.663</td> <td>  -17.934</td> <td> 0.000</td> <td>-3.71e+04</td> <td>-2.98e+04</td>\n",
       "</tr>\n",
       "<tr>\n",
       "  <th>sqft_living15</th> <td>  6.22e+04</td> <td> 2515.351</td> <td>   24.730</td> <td> 0.000</td> <td> 5.73e+04</td> <td> 6.71e+04</td>\n",
       "</tr>\n",
       "<tr>\n",
       "  <th>sqft_lot15</th>    <td>-9179.1762</td> <td> 1993.780</td> <td>   -4.604</td> <td> 0.000</td> <td>-1.31e+04</td> <td>-5271.216</td>\n",
       "</tr>\n",
       "<tr>\n",
       "  <th>0</th>             <td> 2.077e+04</td> <td> 1689.863</td> <td>   12.291</td> <td> 0.000</td> <td> 1.75e+04</td> <td> 2.41e+04</td>\n",
       "</tr>\n",
       "</table>"
      ],
      "text/plain": [
       "<class 'statsmodels.iolib.table.SimpleTable'>"
      ]
     },
     "execution_count": 168,
     "metadata": {},
     "output_type": "execute_result"
    }
   ],
   "source": [
    "# all prices, no LOC. All coeffs significant\n",
    "model_num_ords.summary().tables[1]"
   ]
  },
  {
   "cell_type": "code",
   "execution_count": 169,
   "metadata": {},
   "outputs": [
    {
     "data": {
      "text/html": [
       "<table class=\"simpletable\">\n",
       "<tr>\n",
       "             <td></td>                <th>coef</th>     <th>std err</th>      <th>t</th>      <th>P>|t|</th>  <th>[0.025</th>    <th>0.975]</th>  \n",
       "</tr>\n",
       "<tr>\n",
       "  <th>const</th>                   <td> 5.009e+05</td> <td> 1012.920</td> <td>  494.472</td> <td> 0.000</td> <td> 4.99e+05</td> <td> 5.03e+05</td>\n",
       "</tr>\n",
       "<tr>\n",
       "  <th>bedrooms</th>                <td> -2.55e+04</td> <td> 1313.580</td> <td>  -19.410</td> <td> 0.000</td> <td>-2.81e+04</td> <td>-2.29e+04</td>\n",
       "</tr>\n",
       "<tr>\n",
       "  <th>bathrooms</th>               <td> 2.824e+04</td> <td> 1776.633</td> <td>   15.897</td> <td> 0.000</td> <td> 2.48e+04</td> <td> 3.17e+04</td>\n",
       "</tr>\n",
       "<tr>\n",
       "  <th>sqft_living</th>             <td> 9.364e+04</td> <td> 2729.695</td> <td>   34.305</td> <td> 0.000</td> <td> 8.83e+04</td> <td>  9.9e+04</td>\n",
       "</tr>\n",
       "<tr>\n",
       "  <th>sqft_lot</th>                <td> 7705.1643</td> <td> 1204.682</td> <td>    6.396</td> <td> 0.000</td> <td> 5343.892</td> <td> 1.01e+04</td>\n",
       "</tr>\n",
       "<tr>\n",
       "  <th>floors</th>                  <td> 1.136e+04</td> <td> 1477.452</td> <td>    7.687</td> <td> 0.000</td> <td> 8461.883</td> <td> 1.43e+04</td>\n",
       "</tr>\n",
       "<tr>\n",
       "  <th>sqft_above</th>              <td> 3.131e+04</td> <td> 2514.561</td> <td>   12.453</td> <td> 0.000</td> <td> 2.64e+04</td> <td> 3.62e+04</td>\n",
       "</tr>\n",
       "<tr>\n",
       "  <th>yr_built</th>                <td>-2.545e+04</td> <td> 1486.938</td> <td>  -17.117</td> <td> 0.000</td> <td>-2.84e+04</td> <td>-2.25e+04</td>\n",
       "</tr>\n",
       "<tr>\n",
       "  <th>sqft_living15</th>           <td> 7.106e+04</td> <td> 1630.674</td> <td>   43.577</td> <td> 0.000</td> <td> 6.79e+04</td> <td> 7.43e+04</td>\n",
       "</tr>\n",
       "<tr>\n",
       "  <th>sqft_lot15</th>              <td> 8212.3265</td> <td> 1310.788</td> <td>    6.265</td> <td> 0.000</td> <td> 5643.080</td> <td> 1.08e+04</td>\n",
       "</tr>\n",
       "<tr>\n",
       "  <th>Distance_from_DTSeattle</th> <td>-1.057e+05</td> <td> 1240.201</td> <td>  -85.243</td> <td> 0.000</td> <td>-1.08e+05</td> <td>-1.03e+05</td>\n",
       "</tr>\n",
       "<tr>\n",
       "  <th>0</th>                       <td> 1.987e+04</td> <td> 1107.209</td> <td>   17.949</td> <td> 0.000</td> <td> 1.77e+04</td> <td>  2.2e+04</td>\n",
       "</tr>\n",
       "</table>"
      ],
      "text/plain": [
       "<class 'statsmodels.iolib.table.SimpleTable'>"
      ]
     },
     "execution_count": 169,
     "metadata": {},
     "output_type": "execute_result"
    }
   ],
   "source": [
    "# most recent model, all prices, added LOC.  \n",
    "model_num_ords_loc_lp.summary().tables[1]"
   ]
  },
  {
   "cell_type": "code",
   "execution_count": 170,
   "metadata": {},
   "outputs": [
    {
     "data": {
      "text/html": [
       "<table class=\"simpletable\">\n",
       "<tr>\n",
       "  <th>Omnibus:</th>       <td>17148.261</td> <th>  Durbin-Watson:     </th>  <td>   2.000</td>  \n",
       "</tr>\n",
       "<tr>\n",
       "  <th>Prob(Omnibus):</th>  <td> 0.000</td>   <th>  Jarque-Bera (JB):  </th> <td>1114949.433</td>\n",
       "</tr>\n",
       "<tr>\n",
       "  <th>Skew:</th>           <td> 3.436</td>   <th>  Prob(JB):          </th>  <td>    0.00</td>  \n",
       "</tr>\n",
       "<tr>\n",
       "  <th>Kurtosis:</th>       <td>37.865</td>   <th>  Cond. No.          </th>  <td>    7.67</td>  \n",
       "</tr>\n",
       "</table>"
      ],
      "text/plain": [
       "<class 'statsmodels.iolib.table.SimpleTable'>"
      ]
     },
     "execution_count": 170,
     "metadata": {},
     "output_type": "execute_result"
    }
   ],
   "source": [
    "# model with ALL prices, no LOC\n",
    "model_num_ords.summary().tables[2]"
   ]
  },
  {
   "cell_type": "code",
   "execution_count": 171,
   "metadata": {},
   "outputs": [
    {
     "data": {
      "text/html": [
       "<table class=\"simpletable\">\n",
       "<tr>\n",
       "  <th>Omnibus:</th>       <td>3143.501</td> <th>  Durbin-Watson:     </th> <td>   2.008</td>\n",
       "</tr>\n",
       "<tr>\n",
       "  <th>Prob(Omnibus):</th>  <td> 0.000</td>  <th>  Jarque-Bera (JB):  </th> <td>7890.303</td>\n",
       "</tr>\n",
       "<tr>\n",
       "  <th>Skew:</th>           <td> 0.855</td>  <th>  Prob(JB):          </th> <td>    0.00</td>\n",
       "</tr>\n",
       "<tr>\n",
       "  <th>Kurtosis:</th>       <td> 5.494</td>  <th>  Cond. No.          </th> <td>    7.23</td>\n",
       "</tr>\n",
       "</table>"
      ],
      "text/plain": [
       "<class 'statsmodels.iolib.table.SimpleTable'>"
      ]
     },
     "execution_count": 171,
     "metadata": {},
     "output_type": "execute_result"
    }
   ],
   "source": [
    "# most recent model, outlier prices removed, added LOC\n",
    "model_num_ords_loc_lp.summary().tables[2]\n",
    "\n",
    "#JB number way down, DW still at 2, Omnibus & skew & kurtosis improved"
   ]
  },
  {
   "cell_type": "code",
   "execution_count": 172,
   "metadata": {},
   "outputs": [],
   "source": [
    "df_hd_ord_loc_lp_nolatlong = df_x_drop = df_hd_ord_loc_lp.drop(['lat', 'long'], axis=1)"
   ]
  },
  {
   "cell_type": "code",
   "execution_count": 173,
   "metadata": {},
   "outputs": [
    {
     "data": {
      "text/plain": [
       "price                      1.000000\n",
       "bedrooms                   0.317768\n",
       "bathrooms                  0.484611\n",
       "sqft_living                0.655820\n",
       "sqft_lot                   0.082164\n",
       "floors                     0.274406\n",
       "sqft_above                 0.555495\n",
       "yr_built                   0.051572\n",
       "sqft_living15              0.589480\n",
       "sqft_lot15                 0.125017\n",
       "Distance_from_DTSeattle   -0.324448\n",
       "0                          0.039088\n",
       "Name: price, dtype: float64"
      ]
     },
     "execution_count": 173,
     "metadata": {},
     "output_type": "execute_result"
    }
   ],
   "source": [
    "df_hd_ord_loc_lp_nolatlong.corr()['price']"
   ]
  },
  {
   "cell_type": "code",
   "execution_count": 174,
   "metadata": {},
   "outputs": [
    {
     "data": {
      "text/plain": [
       "price                      1.000000\n",
       "sqft_living                0.655820\n",
       "sqft_living15              0.589480\n",
       "sqft_above                 0.555495\n",
       "bathrooms                  0.484611\n",
       "Distance_from_DTSeattle    0.324448\n",
       "bedrooms                   0.317768\n",
       "floors                     0.274406\n",
       "sqft_lot15                 0.125017\n",
       "sqft_lot                   0.082164\n",
       "yr_built                   0.051572\n",
       "0                          0.039088\n",
       "Name: price, dtype: float64"
      ]
     },
     "execution_count": 174,
     "metadata": {},
     "output_type": "execute_result"
    }
   ],
   "source": [
    "df_hd_ord_loc_lp_nolatlong_corrs = df_hd_ord_loc_lp_nolatlong.corr()['price'].map(abs).sort_values(ascending=False)\n",
    "df_hd_ord_loc_lp_nolatlong_corrs"
   ]
  },
  {
   "cell_type": "code",
   "execution_count": 175,
   "metadata": {},
   "outputs": [
    {
     "data": {
      "image/png": "[encoded data removed]",
      "text/plain": [
       "<Figure size 720x720 with 2 Axes>"
      ]
     },
     "metadata": {
      "needs_background": "light"
     },
     "output_type": "display_data"
    }
   ],
   "source": [
    "fig, ax = plt.subplots(figsize=(10,10))\n",
    "sns.heatmap(df_hd_ord_loc_lp_nolatlong.corr(), annot=True, linewidths=.5, ax=ax);"
   ]
  },
  {
   "cell_type": "markdown",
   "metadata": {},
   "source": [
    "# Checking date range in data set"
   ]
  },
  {
   "cell_type": "code",
   "execution_count": 176,
   "metadata": {},
   "outputs": [
    {
     "data": {
      "text/plain": [
       "Timestamp('2014-05-02 00:00:00')"
      ]
     },
     "execution_count": 176,
     "metadata": {},
     "output_type": "execute_result"
    }
   ],
   "source": [
    "pd.to_datetime(df_hd['date']).min()"
   ]
  },
  {
   "cell_type": "code",
   "execution_count": 177,
   "metadata": {},
   "outputs": [
    {
     "data": {
      "text/plain": [
       "Timestamp('2015-05-27 00:00:00')"
      ]
     },
     "execution_count": 177,
     "metadata": {},
     "output_type": "execute_result"
    }
   ],
   "source": [
    "pd.to_datetime(df_hd['date']).max()"
   ]
  },
  {
   "cell_type": "code",
   "execution_count": null,
   "metadata": {},
   "outputs": [],
   "source": []
  },
  {
   "cell_type": "markdown",
   "metadata": {},
   "source": [
    "# Calculating how target feature coefficients translate to dollar amount changes in price"
   ]
  },
  {
   "cell_type": "code",
   "execution_count": 378,
   "metadata": {},
   "outputs": [
    {
     "data": {
      "text/html": [
       "<div>\n",
       "<style scoped>\n",
       "    .dataframe tbody tr th:only-of-type {\n",
       "        vertical-align: middle;\n",
       "    }\n",
       "\n",
       "    .dataframe tbody tr th {\n",
       "        vertical-align: top;\n",
       "    }\n",
       "\n",
       "    .dataframe thead th {\n",
       "        text-align: right;\n",
       "    }\n",
       "</style>\n",
       "<table border=\"1\" class=\"dataframe\">\n",
       "  <thead>\n",
       "    <tr style=\"text-align: right;\">\n",
       "      <th></th>\n",
       "      <th>id</th>\n",
       "      <th>price</th>\n",
       "      <th>bedrooms</th>\n",
       "      <th>bathrooms</th>\n",
       "      <th>sqft_living</th>\n",
       "      <th>sqft_lot</th>\n",
       "      <th>floors</th>\n",
       "      <th>sqft_above</th>\n",
       "      <th>yr_built</th>\n",
       "      <th>sqft_living15</th>\n",
       "      <th>sqft_lot15</th>\n",
       "      <th>time_stamp</th>\n",
       "      <th>dist_Seattle</th>\n",
       "      <th>ord_cond</th>\n",
       "    </tr>\n",
       "  </thead>\n",
       "  <tbody>\n",
       "    <tr>\n",
       "      <th>count</th>\n",
       "      <td>2.067700e+04</td>\n",
       "      <td>2.067700e+04</td>\n",
       "      <td>20677.000000</td>\n",
       "      <td>20677.000000</td>\n",
       "      <td>20677.000000</td>\n",
       "      <td>2.067700e+04</td>\n",
       "      <td>20677.000000</td>\n",
       "      <td>20677.000000</td>\n",
       "      <td>20677.000000</td>\n",
       "      <td>20677.000000</td>\n",
       "      <td>20677.000000</td>\n",
       "      <td>2.067700e+04</td>\n",
       "      <td>20677.000000</td>\n",
       "      <td>20677.000000</td>\n",
       "    </tr>\n",
       "    <tr>\n",
       "      <th>mean</th>\n",
       "      <td>4.637006e+09</td>\n",
       "      <td>5.010846e+05</td>\n",
       "      <td>3.355951</td>\n",
       "      <td>2.079581</td>\n",
       "      <td>2014.171205</td>\n",
       "      <td>1.143092e+04</td>\n",
       "      <td>1.485322</td>\n",
       "      <td>1734.667215</td>\n",
       "      <td>1970.752382</td>\n",
       "      <td>1946.856749</td>\n",
       "      <td>9495.029937</td>\n",
       "      <td>1.414558e+09</td>\n",
       "      <td>11.444662</td>\n",
       "      <td>2.412149</td>\n",
       "    </tr>\n",
       "    <tr>\n",
       "      <th>std</th>\n",
       "      <td>2.876535e+09</td>\n",
       "      <td>2.497208e+05</td>\n",
       "      <td>0.918054</td>\n",
       "      <td>0.730027</td>\n",
       "      <td>816.870649</td>\n",
       "      <td>2.533359e+04</td>\n",
       "      <td>0.538954</td>\n",
       "      <td>754.729725</td>\n",
       "      <td>29.351381</td>\n",
       "      <td>645.840555</td>\n",
       "      <td>9408.055366</td>\n",
       "      <td>9.755611e+06</td>\n",
       "      <td>6.511162</td>\n",
       "      <td>0.643346</td>\n",
       "    </tr>\n",
       "    <tr>\n",
       "      <th>min</th>\n",
       "      <td>1.000102e+06</td>\n",
       "      <td>8.000000e+04</td>\n",
       "      <td>1.000000</td>\n",
       "      <td>0.500000</td>\n",
       "      <td>370.000000</td>\n",
       "      <td>5.200000e+02</td>\n",
       "      <td>1.000000</td>\n",
       "      <td>370.000000</td>\n",
       "      <td>1900.000000</td>\n",
       "      <td>460.000000</td>\n",
       "      <td>651.000000</td>\n",
       "      <td>1.399003e+09</td>\n",
       "      <td>0.717448</td>\n",
       "      <td>1.000000</td>\n",
       "    </tr>\n",
       "    <tr>\n",
       "      <th>25%</th>\n",
       "      <td>2.171400e+09</td>\n",
       "      <td>3.190000e+05</td>\n",
       "      <td>3.000000</td>\n",
       "      <td>1.500000</td>\n",
       "      <td>1410.000000</td>\n",
       "      <td>5.000000e+03</td>\n",
       "      <td>1.000000</td>\n",
       "      <td>1180.000000</td>\n",
       "      <td>1951.000000</td>\n",
       "      <td>1470.000000</td>\n",
       "      <td>5030.000000</td>\n",
       "      <td>1.406002e+09</td>\n",
       "      <td>6.139622</td>\n",
       "      <td>2.000000</td>\n",
       "    </tr>\n",
       "    <tr>\n",
       "      <th>50%</th>\n",
       "      <td>3.999300e+09</td>\n",
       "      <td>4.450000e+05</td>\n",
       "      <td>3.000000</td>\n",
       "      <td>2.250000</td>\n",
       "      <td>1880.000000</td>\n",
       "      <td>7.492000e+03</td>\n",
       "      <td>1.000000</td>\n",
       "      <td>1540.000000</td>\n",
       "      <td>1974.000000</td>\n",
       "      <td>1810.000000</td>\n",
       "      <td>7500.000000</td>\n",
       "      <td>1.413432e+09</td>\n",
       "      <td>10.320219</td>\n",
       "      <td>2.000000</td>\n",
       "    </tr>\n",
       "    <tr>\n",
       "      <th>75%</th>\n",
       "      <td>7.376300e+09</td>\n",
       "      <td>6.250000e+05</td>\n",
       "      <td>4.000000</td>\n",
       "      <td>2.500000</td>\n",
       "      <td>2480.000000</td>\n",
       "      <td>1.020000e+04</td>\n",
       "      <td>2.000000</td>\n",
       "      <td>2140.000000</td>\n",
       "      <td>1996.000000</td>\n",
       "      <td>2310.000000</td>\n",
       "      <td>9793.000000</td>\n",
       "      <td>1.424149e+09</td>\n",
       "      <td>15.560955</td>\n",
       "      <td>3.000000</td>\n",
       "    </tr>\n",
       "    <tr>\n",
       "      <th>max</th>\n",
       "      <td>9.900000e+09</td>\n",
       "      <td>1.530000e+06</td>\n",
       "      <td>33.000000</td>\n",
       "      <td>7.500000</td>\n",
       "      <td>7480.000000</td>\n",
       "      <td>1.164794e+06</td>\n",
       "      <td>3.500000</td>\n",
       "      <td>7320.000000</td>\n",
       "      <td>2015.000000</td>\n",
       "      <td>5790.000000</td>\n",
       "      <td>86248.000000</td>\n",
       "      <td>1.432699e+09</td>\n",
       "      <td>48.023035</td>\n",
       "      <td>4.000000</td>\n",
       "    </tr>\n",
       "  </tbody>\n",
       "</table>\n",
       "</div>"
      ],
      "text/plain": [
       "                 id         price      bedrooms     bathrooms   sqft_living  \\\n",
       "count  2.067700e+04  2.067700e+04  20677.000000  20677.000000  20677.000000   \n",
       "mean   4.637006e+09  5.010846e+05      3.355951      2.079581   2014.171205   \n",
       "std    2.876535e+09  2.497208e+05      0.918054      0.730027    816.870649   \n",
       "min    1.000102e+06  8.000000e+04      1.000000      0.500000    370.000000   \n",
       "25%    2.171400e+09  3.190000e+05      3.000000      1.500000   1410.000000   \n",
       "50%    3.999300e+09  4.450000e+05      3.000000      2.250000   1880.000000   \n",
       "75%    7.376300e+09  6.250000e+05      4.000000      2.500000   2480.000000   \n",
       "max    9.900000e+09  1.530000e+06     33.000000      7.500000   7480.000000   \n",
       "\n",
       "           sqft_lot        floors    sqft_above      yr_built  sqft_living15  \\\n",
       "count  2.067700e+04  20677.000000  20677.000000  20677.000000   20677.000000   \n",
       "mean   1.143092e+04      1.485322   1734.667215   1970.752382    1946.856749   \n",
       "std    2.533359e+04      0.538954    754.729725     29.351381     645.840555   \n",
       "min    5.200000e+02      1.000000    370.000000   1900.000000     460.000000   \n",
       "25%    5.000000e+03      1.000000   1180.000000   1951.000000    1470.000000   \n",
       "50%    7.492000e+03      1.000000   1540.000000   1974.000000    1810.000000   \n",
       "75%    1.020000e+04      2.000000   2140.000000   1996.000000    2310.000000   \n",
       "max    1.164794e+06      3.500000   7320.000000   2015.000000    5790.000000   \n",
       "\n",
       "         sqft_lot15    time_stamp  dist_Seattle      ord_cond  \n",
       "count  20677.000000  2.067700e+04  20677.000000  20677.000000  \n",
       "mean    9495.029937  1.414558e+09     11.444662      2.412149  \n",
       "std     9408.055366  9.755611e+06      6.511162      0.643346  \n",
       "min      651.000000  1.399003e+09      0.717448      1.000000  \n",
       "25%     5030.000000  1.406002e+09      6.139622      2.000000  \n",
       "50%     7500.000000  1.413432e+09     10.320219      2.000000  \n",
       "75%     9793.000000  1.424149e+09     15.560955      3.000000  \n",
       "max    86248.000000  1.432699e+09     48.023035      4.000000  "
      ]
     },
     "execution_count": 378,
     "metadata": {},
     "output_type": "execute_result"
    }
   ],
   "source": [
    "df10.describe()"
   ]
  },
  {
   "cell_type": "markdown",
   "metadata": {},
   "source": [
    "- Average (mean) house, in our model based on y-intercept value (const): $500,900"
   ]
  },
  {
   "cell_type": "markdown",
   "metadata": {},
   "source": [
    "Other average features to be aware of:\n",
    "    - bedrooms: 3 (3.35)\n",
    "    - bathrooms: 2 (2.08)\n",
    "    - sqft_living: 2,013 sq ft \n",
    "    - sqft_lot: 11,450 sq ft\n",
    "    - floors: 1 (1.48)\n",
    "    - sqft_above: 1,734 sq ft\n",
    "    - yr_built: 1970\n",
    "    - sqft_living15: 1,947 sq ft\n",
    "    - sqft_lot15: 9,495 sq ft\n",
    "    - distance from downtown Seattle: 11.44 miles\n",
    "    - condition: average (2.41 out of 4)"
   ]
  },
  {
   "cell_type": "code",
   "execution_count": 180,
   "metadata": {},
   "outputs": [
    {
     "data": {
      "text/plain": [
       "817.0789310520772"
      ]
     },
     "execution_count": 180,
     "metadata": {},
     "output_type": "execute_result"
    }
   ],
   "source": [
    "df_hd_ord_loc_lp['sqft_living'].std()\n",
    "# coef = 9.364 x 10^4 = $93,640"
   ]
  },
  {
   "cell_type": "markdown",
   "metadata": {},
   "source": [
    "- Housing price increases by $93,640 for every 817 sqft_living increase"
   ]
  },
  {
   "cell_type": "code",
   "execution_count": 181,
   "metadata": {},
   "outputs": [
    {
     "data": {
      "text/plain": [
       "645.7595647094573"
      ]
     },
     "execution_count": 181,
     "metadata": {},
     "output_type": "execute_result"
    }
   ],
   "source": [
    "df_hd_ord_loc_lp['sqft_living15'].std()\n",
    "# coef = 7.106 x 10^4 = $71,060"
   ]
  },
  {
   "cell_type": "markdown",
   "metadata": {},
   "source": [
    "- Housing price increases by $71,060 for every 646 sqft_living15 increase"
   ]
  },
  {
   "cell_type": "code",
   "execution_count": 182,
   "metadata": {},
   "outputs": [
    {
     "data": {
      "text/plain": [
       "6.511199267844617"
      ]
     },
     "execution_count": 182,
     "metadata": {},
     "output_type": "execute_result"
    }
   ],
   "source": [
    "df_hd_ord_loc_lp['Distance_from_DTSeattle'].std()\n",
    "# coef = - 1.057 x 10^5 = (-)$105,700"
   ]
  },
  {
   "cell_type": "markdown",
   "metadata": {},
   "source": [
    "- Housing price *decreases* by $105,700 for every 6.5 miles away from city center"
   ]
  },
  {
   "cell_type": "code",
   "execution_count": null,
   "metadata": {},
   "outputs": [],
   "source": []
  }
 ],
 "metadata": {
  "kernelspec": {
   "display_name": "Python (learn-env)",
   "language": "python",
   "name": "learn-env"
  },
  "language_info": {
   "codemirror_mode": {
    "name": "ipython",
    "version": 3
   },
   "file_extension": ".py",
   "mimetype": "text/x-python",
   "name": "python",
   "nbconvert_exporter": "python",
   "pygments_lexer": "ipython3",
   "version": "3.8.5"
  }
 },
 "nbformat": 4,
 "nbformat_minor": 2
}
